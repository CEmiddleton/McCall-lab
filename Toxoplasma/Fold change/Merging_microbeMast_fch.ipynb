{
 "cells": [
  {
   "cell_type": "code",
   "execution_count": 90,
   "id": "9cfc2a78-b69e-4789-810c-88e16f78b89a",
   "metadata": {},
   "outputs": [
    {
     "data": {
      "text/html": [
       "<table>\n",
       "<thead><tr><th scope=col>Cluster.Index</th><th scope=col>features</th><th scope=col>M.Z</th><th scope=col>RT</th><th scope=col>Annotation</th><th scope=col>Cosine.Score</th><th scope=col>No..of.Shared.Peaks</th><th scope=col>Mass.Diff..to.Library.Reference</th><th scope=col>ppm.error</th><th scope=col>Analog.</th><th scope=col>...</th><th scope=col>microbeMASST_687</th><th scope=col>microbeMASST_688</th><th scope=col>microbeMASST_689</th><th scope=col>microbeMASST_690</th><th scope=col>microbeMASST_691</th><th scope=col>microbeMASST_692</th><th scope=col>microbeMASST_693</th><th scope=col>microbeMASST_694</th><th scope=col>microbeMASST_695</th><th scope=col>microbeMASST_696</th></tr></thead>\n",
       "<tbody>\n",
       "\t<tr><td>111                                                                         </td><td>X105.07_2.67                                                                </td><td>105.070                                                                     </td><td>2.67                                                                        </td><td>MassbankEU:ETS00118 4-Methylbenzotriazole|4-Methyl-1H-benzotriazole         </td><td>0.850694                                                                    </td><td> 4                                                                          </td><td>2.90010e+01                                                                 </td><td>2.16311e+05                                                                 </td><td>Yes                                                                         </td><td>...                                                                         </td><td>NA                                                                          </td><td>NA                                                                          </td><td>NA                                                                          </td><td>NA                                                                          </td><td>NA                                                                          </td><td>NA                                                                          </td><td>NA                                                                          </td><td>NA                                                                          </td><td>NA                                                                          </td><td>NA                                                                          </td></tr>\n",
       "\t<tr><td>140                                                                         </td><td>X183.009_5.63                                                               </td><td>183.009                                                                     </td><td>5.63                                                                        </td><td>NA                                                                          </td><td>      NA                                                                    </td><td>NA                                                                          </td><td>         NA                                                                 </td><td>         NA                                                                 </td><td>No                                                                          </td><td>...                                                                         </td><td>NA                                                                          </td><td>NA                                                                          </td><td>NA                                                                          </td><td>NA                                                                          </td><td>NA                                                                          </td><td>NA                                                                          </td><td>NA                                                                          </td><td>NA                                                                          </td><td>NA                                                                          </td><td>NA                                                                          </td></tr>\n",
       "\t<tr><td>173                                                                         </td><td>X112.966_5.65                                                               </td><td>112.966                                                                     </td><td>5.65                                                                        </td><td>NA                                                                          </td><td>      NA                                                                    </td><td>NA                                                                          </td><td>         NA                                                                 </td><td>         NA                                                                 </td><td>No                                                                          </td><td>...                                                                         </td><td>NA                                                                          </td><td>NA                                                                          </td><td>NA                                                                          </td><td>NA                                                                          </td><td>NA                                                                          </td><td>NA                                                                          </td><td>NA                                                                          </td><td>NA                                                                          </td><td>NA                                                                          </td><td>NA                                                                          </td></tr>\n",
       "\t<tr><td>178                                                                         </td><td>X373.273_2.58                                                               </td><td>373.273                                                                     </td><td>2.58                                                                        </td><td>URSOCHOLIC ACID                                                             </td><td>0.866522                                                                    </td><td>16                                                                          </td><td>5.30479e+01                                                                 </td><td>1.24432e+05                                                                 </td><td>Yes                                                                         </td><td>...                                                                         </td><td>NA                                                                          </td><td>NA                                                                          </td><td>NA                                                                          </td><td>NA                                                                          </td><td>NA                                                                          </td><td>NA                                                                          </td><td>NA                                                                          </td><td>NA                                                                          </td><td>NA                                                                          </td><td>NA                                                                          </td></tr>\n",
       "\t<tr><td>212                                                                         </td><td>X175.118_0.26                                                               </td><td>175.118                                                                     </td><td>0.26                                                                        </td><td>Massbank:PB000420 Arginine|2-amino-5-(diaminomethylideneamino)pentanoic acid</td><td>0.982266                                                                    </td><td> 6                                                                          </td><td>1.09863e-03                                                                 </td><td>6.27360e+00                                                                 </td><td>No                                                                          </td><td>...                                                                         </td><td>NA                                                                          </td><td>NA                                                                          </td><td>NA                                                                          </td><td>NA                                                                          </td><td>NA                                                                          </td><td>NA                                                                          </td><td>NA                                                                          </td><td>NA                                                                          </td><td>NA                                                                          </td><td>NA                                                                          </td></tr>\n",
       "\t<tr><td>238                                                                         </td><td>X162.112_0.26                                                               </td><td>162.112                                                                     </td><td>0.26                                                                        </td><td>CARNITINE                                                                   </td><td>0.982121                                                                    </td><td> 5                                                                          </td><td>3.96729e-04                                                                 </td><td>2.44725e+00                                                                 </td><td>No                                                                          </td><td>...                                                                         </td><td>NA                                                                          </td><td>NA                                                                          </td><td>NA                                                                          </td><td>NA                                                                          </td><td>NA                                                                          </td><td>NA                                                                          </td><td>NA                                                                          </td><td>NA                                                                          </td><td>NA                                                                          </td><td>NA                                                                          </td></tr>\n",
       "</tbody>\n",
       "</table>\n"
      ],
      "text/latex": [
       "\\begin{tabular}{r|lllllllllllllllllllllllllllllllllllllllllllllllllllllllllllllllllllllllllllllllllllllllllllllllllllllllllllllllllllllllllllllllllllllllllllllllllllllllllllllllllllllllllllllllllllllllllllllllllllllllllllllllllllllllllllllllllllllllllllllllllllllllllllllllllllllllllllllllllllllllllllllllllllllllllllllllllllllllllllllllllllllllllllllllllllllllllllllllllllllllllllllllllllllllllllllllllllllllllllllllllllllllllllllllllllllllllllllllllllllllllllllllllllllllllllllllllllllllllllllllllllllllllllllllllllllllllllllllllllllllllllllllllllllllllllllllllllllllllllllllllllllllllllllllllllllllllllllllllllllllllllllllllllllllllllllllllllllllllllllllllllllllllllllllllllllllllllllllllllllllllllllllllllllllllllllllllllll}\n",
       " Cluster.Index & features & M.Z & RT & Annotation & Cosine.Score & No..of.Shared.Peaks & Mass.Diff..to.Library.Reference & ppm.error & Analog. & ... & microbeMASST\\_687 & microbeMASST\\_688 & microbeMASST\\_689 & microbeMASST\\_690 & microbeMASST\\_691 & microbeMASST\\_692 & microbeMASST\\_693 & microbeMASST\\_694 & microbeMASST\\_695 & microbeMASST\\_696\\\\\n",
       "\\hline\n",
       "\t 111                                                                                    & X105.07\\_2.67                                                                         & 105.070                                                                                & 2.67                                                                                   & MassbankEU:ETS00118 4-Methylbenzotriazole\\textbar{}4-Methyl-1H-benzotriazole          & 0.850694                                                                               &  4                                                                                     & 2.90010e+01                                                                            & 2.16311e+05                                                                            & Yes                                                                                    & ...                                                                                    & NA                                                                                     & NA                                                                                     & NA                                                                                     & NA                                                                                     & NA                                                                                     & NA                                                                                     & NA                                                                                     & NA                                                                                     & NA                                                                                     & NA                                                                                    \\\\\n",
       "\t 140                                                                          & X183.009\\_5.63                                                              & 183.009                                                                      & 5.63                                                                         & NA                                                                           &       NA                                                                     & NA                                                                           &          NA                                                                  &          NA                                                                  & No                                                                           & ...                                                                          & NA                                                                           & NA                                                                           & NA                                                                           & NA                                                                           & NA                                                                           & NA                                                                           & NA                                                                           & NA                                                                           & NA                                                                           & NA                                                                          \\\\\n",
       "\t 173                                                                          & X112.966\\_5.65                                                              & 112.966                                                                      & 5.65                                                                         & NA                                                                           &       NA                                                                     & NA                                                                           &          NA                                                                  &          NA                                                                  & No                                                                           & ...                                                                          & NA                                                                           & NA                                                                           & NA                                                                           & NA                                                                           & NA                                                                           & NA                                                                           & NA                                                                           & NA                                                                           & NA                                                                           & NA                                                                          \\\\\n",
       "\t 178                                                                          & X373.273\\_2.58                                                              & 373.273                                                                      & 2.58                                                                         & URSOCHOLIC ACID                                                              & 0.866522                                                                     & 16                                                                           & 5.30479e+01                                                                  & 1.24432e+05                                                                  & Yes                                                                          & ...                                                                          & NA                                                                           & NA                                                                           & NA                                                                           & NA                                                                           & NA                                                                           & NA                                                                           & NA                                                                           & NA                                                                           & NA                                                                           & NA                                                                          \\\\\n",
       "\t 212                                                                                    & X175.118\\_0.26                                                                        & 175.118                                                                                & 0.26                                                                                   & Massbank:PB000420 Arginine\\textbar{}2-amino-5-(diaminomethylideneamino)pentanoic acid & 0.982266                                                                               &  6                                                                                     & 1.09863e-03                                                                            & 6.27360e+00                                                                            & No                                                                                     & ...                                                                                    & NA                                                                                     & NA                                                                                     & NA                                                                                     & NA                                                                                     & NA                                                                                     & NA                                                                                     & NA                                                                                     & NA                                                                                     & NA                                                                                     & NA                                                                                    \\\\\n",
       "\t 238                                                                          & X162.112\\_0.26                                                              & 162.112                                                                      & 0.26                                                                         & CARNITINE                                                                    & 0.982121                                                                     &  5                                                                           & 3.96729e-04                                                                  & 2.44725e+00                                                                  & No                                                                           & ...                                                                          & NA                                                                           & NA                                                                           & NA                                                                           & NA                                                                           & NA                                                                           & NA                                                                           & NA                                                                           & NA                                                                           & NA                                                                           & NA                                                                          \\\\\n",
       "\\end{tabular}\n"
      ],
      "text/markdown": [
       "\n",
       "| Cluster.Index | features | M.Z | RT | Annotation | Cosine.Score | No..of.Shared.Peaks | Mass.Diff..to.Library.Reference | ppm.error | Analog. | ... | microbeMASST_687 | microbeMASST_688 | microbeMASST_689 | microbeMASST_690 | microbeMASST_691 | microbeMASST_692 | microbeMASST_693 | microbeMASST_694 | microbeMASST_695 | microbeMASST_696 |\n",
       "|---|---|---|---|---|---|---|---|---|---|---|---|---|---|---|---|---|---|---|---|---|\n",
       "| 111                                                                          | X105.07_2.67                                                                 | 105.070                                                                      | 2.67                                                                         | MassbankEU:ETS00118 4-Methylbenzotriazole|4-Methyl-1H-benzotriazole          | 0.850694                                                                     |  4                                                                           | 2.90010e+01                                                                  | 2.16311e+05                                                                  | Yes                                                                          | ...                                                                          | NA                                                                           | NA                                                                           | NA                                                                           | NA                                                                           | NA                                                                           | NA                                                                           | NA                                                                           | NA                                                                           | NA                                                                           | NA                                                                           |\n",
       "| 140                                                                          | X183.009_5.63                                                                | 183.009                                                                      | 5.63                                                                         | NA                                                                           |       NA                                                                     | NA                                                                           |          NA                                                                  |          NA                                                                  | No                                                                           | ...                                                                          | NA                                                                           | NA                                                                           | NA                                                                           | NA                                                                           | NA                                                                           | NA                                                                           | NA                                                                           | NA                                                                           | NA                                                                           | NA                                                                           |\n",
       "| 173                                                                          | X112.966_5.65                                                                | 112.966                                                                      | 5.65                                                                         | NA                                                                           |       NA                                                                     | NA                                                                           |          NA                                                                  |          NA                                                                  | No                                                                           | ...                                                                          | NA                                                                           | NA                                                                           | NA                                                                           | NA                                                                           | NA                                                                           | NA                                                                           | NA                                                                           | NA                                                                           | NA                                                                           | NA                                                                           |\n",
       "| 178                                                                          | X373.273_2.58                                                                | 373.273                                                                      | 2.58                                                                         | URSOCHOLIC ACID                                                              | 0.866522                                                                     | 16                                                                           | 5.30479e+01                                                                  | 1.24432e+05                                                                  | Yes                                                                          | ...                                                                          | NA                                                                           | NA                                                                           | NA                                                                           | NA                                                                           | NA                                                                           | NA                                                                           | NA                                                                           | NA                                                                           | NA                                                                           | NA                                                                           |\n",
       "| 212                                                                          | X175.118_0.26                                                                | 175.118                                                                      | 0.26                                                                         | Massbank:PB000420 Arginine|2-amino-5-(diaminomethylideneamino)pentanoic acid | 0.982266                                                                     |  6                                                                           | 1.09863e-03                                                                  | 6.27360e+00                                                                  | No                                                                           | ...                                                                          | NA                                                                           | NA                                                                           | NA                                                                           | NA                                                                           | NA                                                                           | NA                                                                           | NA                                                                           | NA                                                                           | NA                                                                           | NA                                                                           |\n",
       "| 238                                                                          | X162.112_0.26                                                                | 162.112                                                                      | 0.26                                                                         | CARNITINE                                                                    | 0.982121                                                                     |  5                                                                           | 3.96729e-04                                                                  | 2.44725e+00                                                                  | No                                                                           | ...                                                                          | NA                                                                           | NA                                                                           | NA                                                                           | NA                                                                           | NA                                                                           | NA                                                                           | NA                                                                           | NA                                                                           | NA                                                                           | NA                                                                           |\n",
       "\n"
      ],
      "text/plain": [
       "  Cluster.Index features      M.Z     RT  \n",
       "1 111           X105.07_2.67  105.070 2.67\n",
       "2 140           X183.009_5.63 183.009 5.63\n",
       "3 173           X112.966_5.65 112.966 5.65\n",
       "4 178           X373.273_2.58 373.273 2.58\n",
       "5 212           X175.118_0.26 175.118 0.26\n",
       "6 238           X162.112_0.26 162.112 0.26\n",
       "  Annotation                                                                  \n",
       "1 MassbankEU:ETS00118 4-Methylbenzotriazole|4-Methyl-1H-benzotriazole         \n",
       "2 NA                                                                          \n",
       "3 NA                                                                          \n",
       "4 URSOCHOLIC ACID                                                             \n",
       "5 Massbank:PB000420 Arginine|2-amino-5-(diaminomethylideneamino)pentanoic acid\n",
       "6 CARNITINE                                                                   \n",
       "  Cosine.Score No..of.Shared.Peaks Mass.Diff..to.Library.Reference ppm.error  \n",
       "1 0.850694      4                  2.90010e+01                     2.16311e+05\n",
       "2       NA     NA                           NA                              NA\n",
       "3       NA     NA                           NA                              NA\n",
       "4 0.866522     16                  5.30479e+01                     1.24432e+05\n",
       "5 0.982266      6                  1.09863e-03                     6.27360e+00\n",
       "6 0.982121      5                  3.96729e-04                     2.44725e+00\n",
       "  Analog. ... microbeMASST_687 microbeMASST_688 microbeMASST_689\n",
       "1 Yes     ... NA               NA               NA              \n",
       "2 No      ... NA               NA               NA              \n",
       "3 No      ... NA               NA               NA              \n",
       "4 Yes     ... NA               NA               NA              \n",
       "5 No      ... NA               NA               NA              \n",
       "6 No      ... NA               NA               NA              \n",
       "  microbeMASST_690 microbeMASST_691 microbeMASST_692 microbeMASST_693\n",
       "1 NA               NA               NA               NA              \n",
       "2 NA               NA               NA               NA              \n",
       "3 NA               NA               NA               NA              \n",
       "4 NA               NA               NA               NA              \n",
       "5 NA               NA               NA               NA              \n",
       "6 NA               NA               NA               NA              \n",
       "  microbeMASST_694 microbeMASST_695 microbeMASST_696\n",
       "1 NA               NA               NA              \n",
       "2 NA               NA               NA              \n",
       "3 NA               NA               NA              \n",
       "4 NA               NA               NA              \n",
       "5 NA               NA               NA              \n",
       "6 NA               NA               NA              "
      ]
     },
     "metadata": {},
     "output_type": "display_data"
    }
   ],
   "source": [
    "MicrobeMast<-read.csv(\"M:/Caitlyn/Filtered_Microbemast/merged_MicrobeMast_SIC50.csv\")\n",
    "head(MicrobeMast)"
   ]
  },
  {
   "cell_type": "code",
   "execution_count": 91,
   "id": "93965289-ded8-4f2d-ace2-c880fe102734",
   "metadata": {},
   "outputs": [
    {
     "data": {
      "text/html": [
       "<table>\n",
       "<thead><tr><th scope=col>features</th><th scope=col>fch</th></tr></thead>\n",
       "<tbody>\n",
       "\t<tr><td>X276.155_0.97</td><td>Increased    </td></tr>\n",
       "\t<tr><td>X221.185_0.24</td><td>Increased    </td></tr>\n",
       "\t<tr><td>X560.333_2.68</td><td>Increased    </td></tr>\n",
       "\t<tr><td>X187.143_0.51</td><td>Increased    </td></tr>\n",
       "\t<tr><td>X267.133_0.92</td><td>Increased    </td></tr>\n",
       "\t<tr><td>X494.322_2.83</td><td>Increased    </td></tr>\n",
       "</tbody>\n",
       "</table>\n"
      ],
      "text/latex": [
       "\\begin{tabular}{r|ll}\n",
       " features & fch\\\\\n",
       "\\hline\n",
       "\t X276.155\\_0.97 & Increased      \\\\\n",
       "\t X221.185\\_0.24 & Increased      \\\\\n",
       "\t X560.333\\_2.68 & Increased      \\\\\n",
       "\t X187.143\\_0.51 & Increased      \\\\\n",
       "\t X267.133\\_0.92 & Increased      \\\\\n",
       "\t X494.322\\_2.83 & Increased      \\\\\n",
       "\\end{tabular}\n"
      ],
      "text/markdown": [
       "\n",
       "| features | fch |\n",
       "|---|---|\n",
       "| X276.155_0.97 | Increased     |\n",
       "| X221.185_0.24 | Increased     |\n",
       "| X560.333_2.68 | Increased     |\n",
       "| X187.143_0.51 | Increased     |\n",
       "| X267.133_0.92 | Increased     |\n",
       "| X494.322_2.83 | Increased     |\n",
       "\n"
      ],
      "text/plain": [
       "  features      fch      \n",
       "1 X276.155_0.97 Increased\n",
       "2 X221.185_0.24 Increased\n",
       "3 X560.333_2.68 Increased\n",
       "4 X187.143_0.51 Increased\n",
       "5 X267.133_0.92 Increased\n",
       "6 X494.322_2.83 Increased"
      ]
     },
     "metadata": {},
     "output_type": "display_data"
    }
   ],
   "source": [
    "foldchange<-read.csv(\"C:/Users/cos-chem-mccall/Documents/Caitlyn/Fold change files/SI_contents_fold_change_50.csv\")\n",
    "head(foldchange)"
   ]
  },
  {
   "cell_type": "code",
   "execution_count": 92,
   "id": "a448947f-6071-4206-835e-fd953b770d8c",
   "metadata": {},
   "outputs": [
    {
     "data": {
      "text/html": [
       "<ol class=list-inline>\n",
       "\t<li>224</li>\n",
       "\t<li>709</li>\n",
       "</ol>\n"
      ],
      "text/latex": [
       "\\begin{enumerate*}\n",
       "\\item 224\n",
       "\\item 709\n",
       "\\end{enumerate*}\n"
      ],
      "text/markdown": [
       "1. 224\n",
       "2. 709\n",
       "\n",
       "\n"
      ],
      "text/plain": [
       "[1] 224 709"
      ]
     },
     "metadata": {},
     "output_type": "display_data"
    },
    {
     "data": {
      "text/html": [
       "<ol class=list-inline>\n",
       "\t<li>3800</li>\n",
       "\t<li>2</li>\n",
       "</ol>\n"
      ],
      "text/latex": [
       "\\begin{enumerate*}\n",
       "\\item 3800\n",
       "\\item 2\n",
       "\\end{enumerate*}\n"
      ],
      "text/markdown": [
       "1. 3800\n",
       "2. 2\n",
       "\n",
       "\n"
      ],
      "text/plain": [
       "[1] 3800    2"
      ]
     },
     "metadata": {},
     "output_type": "display_data"
    },
    {
     "data": {
      "text/html": [
       "<ol class=list-inline>\n",
       "\t<li>224</li>\n",
       "\t<li>710</li>\n",
       "</ol>\n"
      ],
      "text/latex": [
       "\\begin{enumerate*}\n",
       "\\item 224\n",
       "\\item 710\n",
       "\\end{enumerate*}\n"
      ],
      "text/markdown": [
       "1. 224\n",
       "2. 710\n",
       "\n",
       "\n"
      ],
      "text/plain": [
       "[1] 224 710"
      ]
     },
     "metadata": {},
     "output_type": "display_data"
    },
    {
     "data": {
      "text/html": [
       "<table>\n",
       "<thead><tr><th scope=col>features</th><th scope=col>Cluster.Index</th><th scope=col>M.Z</th><th scope=col>RT</th><th scope=col>Annotation</th><th scope=col>Cosine.Score</th><th scope=col>No..of.Shared.Peaks</th><th scope=col>Mass.Diff..to.Library.Reference</th><th scope=col>ppm.error</th><th scope=col>Analog.</th><th scope=col>...</th><th scope=col>microbeMASST_688</th><th scope=col>microbeMASST_689</th><th scope=col>microbeMASST_690</th><th scope=col>microbeMASST_691</th><th scope=col>microbeMASST_692</th><th scope=col>microbeMASST_693</th><th scope=col>microbeMASST_694</th><th scope=col>microbeMASST_695</th><th scope=col>microbeMASST_696</th><th scope=col>fch</th></tr></thead>\n",
       "<tbody>\n",
       "\t<tr><td>X100.112_5.63                                                      </td><td> 379                                                               </td><td> 100.112                                                           </td><td>5.63                                                               </td><td>Spectral Match to (-)-Carveol from NIST14                          </td><td>0.755383                                                           </td><td> 4                                                                 </td><td>35.0046                                                            </td><td>259069.0                                                           </td><td>Yes                                                                </td><td>...                                                                </td><td>NA                                                                 </td><td>NA                                                                 </td><td>NA                                                                 </td><td>NA                                                                 </td><td>NA                                                                 </td><td>NA                                                                 </td><td>NA                                                                 </td><td>NA                                                                 </td><td>NA                                                                 </td><td>Decreased                                                          </td></tr>\n",
       "\t<tr><td>X100.51_5.64                                                       </td><td> 246                                                               </td><td> 100.510                                                           </td><td>5.64                                                               </td><td>NA                                                                 </td><td>      NA                                                           </td><td>NA                                                                 </td><td>     NA                                                            </td><td>      NA                                                           </td><td>No                                                                 </td><td>...                                                                </td><td>NA                                                                 </td><td>NA                                                                 </td><td>NA                                                                 </td><td>NA                                                                 </td><td>NA                                                                 </td><td>NA                                                                 </td><td>NA                                                                 </td><td>NA                                                                 </td><td>NA                                                                 </td><td>Decreased                                                          </td></tr>\n",
       "\t<tr><td>X1011.561_2.39                                                     </td><td>6173                                                               </td><td>1011.561                                                           </td><td>2.39                                                               </td><td>taurocholic acid                                                   </td><td>0.839193                                                           </td><td>19                                                                 </td><td>20.0283                                                            </td><td> 19414.9                                                           </td><td>Yes                                                                </td><td>...                                                                </td><td>NA                                                                 </td><td>NA                                                                 </td><td>NA                                                                 </td><td>NA                                                                 </td><td>NA                                                                 </td><td>NA                                                                 </td><td>NA                                                                 </td><td>NA                                                                 </td><td>NA                                                                 </td><td>Increased                                                          </td></tr>\n",
       "\t<tr><td>X105.07_2.67                                                       </td><td> 111                                                               </td><td> 105.070                                                           </td><td>2.67                                                               </td><td>MassbankEU:ETS00118 4-Methylbenzotriazole|4-Methyl-1H-benzotriazole</td><td>0.850694                                                           </td><td> 4                                                                 </td><td>29.0010                                                            </td><td>216311.0                                                           </td><td>Yes                                                                </td><td>...                                                                </td><td>NA                                                                 </td><td>NA                                                                 </td><td>NA                                                                 </td><td>NA                                                                 </td><td>NA                                                                 </td><td>NA                                                                 </td><td>NA                                                                 </td><td>NA                                                                 </td><td>NA                                                                 </td><td>Decreased                                                          </td></tr>\n",
       "\t<tr><td>X109.022_5.75                                                      </td><td> 938                                                               </td><td> 109.022                                                           </td><td>5.75                                                               </td><td>NA                                                                 </td><td>      NA                                                           </td><td>NA                                                                 </td><td>     NA                                                            </td><td>      NA                                                           </td><td>No                                                                 </td><td>...                                                                </td><td>NA                                                                 </td><td>NA                                                                 </td><td>NA                                                                 </td><td>NA                                                                 </td><td>NA                                                                 </td><td>NA                                                                 </td><td>NA                                                                 </td><td>NA                                                                 </td><td>NA                                                                 </td><td>Increased                                                          </td></tr>\n",
       "\t<tr><td>X109.521_5.67                                                      </td><td>1112                                                               </td><td> 109.521                                                           </td><td>5.67                                                               </td><td>NA                                                                 </td><td>      NA                                                           </td><td>NA                                                                 </td><td>     NA                                                            </td><td>      NA                                                           </td><td>No                                                                 </td><td>...                                                                </td><td>NA                                                                 </td><td>NA                                                                 </td><td>NA                                                                 </td><td>NA                                                                 </td><td>NA                                                                 </td><td>NA                                                                 </td><td>NA                                                                 </td><td>NA                                                                 </td><td>NA                                                                 </td><td>Decreased                                                          </td></tr>\n",
       "</tbody>\n",
       "</table>\n"
      ],
      "text/latex": [
       "\\begin{tabular}{r|llllllllllllllllllllllllllllllllllllllllllllllllllllllllllllllllllllllllllllllllllllllllllllllllllllllllllllllllllllllllllllllllllllllllllllllllllllllllllllllllllllllllllllllllllllllllllllllllllllllllllllllllllllllllllllllllllllllllllllllllllllllllllllllllllllllllllllllllllllllllllllllllllllllllllllllllllllllllllllllllllllllllllllllllllllllllllllllllllllllllllllllllllllllllllllllllllllllllllllllllllllllllllllllllllllllllllllllllllllllllllllllllllllllllllllllllllllllllllllllllllllllllllllllllllllllllllllllllllllllllllllllllllllllllllllllllllllllllllllllllllllllllllllllllllllllllllllllllllllllllllllllllllllllllllllllllllllllllllllllllllllllllllllllllllllllllllllllllllllllllllllllllllllllllllllllllllllll}\n",
       " features & Cluster.Index & M.Z & RT & Annotation & Cosine.Score & No..of.Shared.Peaks & Mass.Diff..to.Library.Reference & ppm.error & Analog. & ... & microbeMASST\\_688 & microbeMASST\\_689 & microbeMASST\\_690 & microbeMASST\\_691 & microbeMASST\\_692 & microbeMASST\\_693 & microbeMASST\\_694 & microbeMASST\\_695 & microbeMASST\\_696 & fch\\\\\n",
       "\\hline\n",
       "\t X100.112\\_5.63                                                     &  379                                                                &  100.112                                                            & 5.63                                                                & Spectral Match to (-)-Carveol from NIST14                           & 0.755383                                                            &  4                                                                  & 35.0046                                                             & 259069.0                                                            & Yes                                                                 & ...                                                                 & NA                                                                  & NA                                                                  & NA                                                                  & NA                                                                  & NA                                                                  & NA                                                                  & NA                                                                  & NA                                                                  & NA                                                                  & Decreased                                                          \\\\\n",
       "\t X100.51\\_5.64                                                      &  246                                                                &  100.510                                                            & 5.64                                                                & NA                                                                  &       NA                                                            & NA                                                                  &      NA                                                             &       NA                                                            & No                                                                  & ...                                                                 & NA                                                                  & NA                                                                  & NA                                                                  & NA                                                                  & NA                                                                  & NA                                                                  & NA                                                                  & NA                                                                  & NA                                                                  & Decreased                                                          \\\\\n",
       "\t X1011.561\\_2.39                                                    & 6173                                                                & 1011.561                                                            & 2.39                                                                & taurocholic acid                                                    & 0.839193                                                            & 19                                                                  & 20.0283                                                             &  19414.9                                                            & Yes                                                                 & ...                                                                 & NA                                                                  & NA                                                                  & NA                                                                  & NA                                                                  & NA                                                                  & NA                                                                  & NA                                                                  & NA                                                                  & NA                                                                  & Increased                                                          \\\\\n",
       "\t X105.07\\_2.67                                                                &  111                                                                          &  105.070                                                                      & 2.67                                                                          & MassbankEU:ETS00118 4-Methylbenzotriazole\\textbar{}4-Methyl-1H-benzotriazole & 0.850694                                                                      &  4                                                                            & 29.0010                                                                       & 216311.0                                                                      & Yes                                                                           & ...                                                                           & NA                                                                            & NA                                                                            & NA                                                                            & NA                                                                            & NA                                                                            & NA                                                                            & NA                                                                            & NA                                                                            & NA                                                                            & Decreased                                                                    \\\\\n",
       "\t X109.022\\_5.75                                                     &  938                                                                &  109.022                                                            & 5.75                                                                & NA                                                                  &       NA                                                            & NA                                                                  &      NA                                                             &       NA                                                            & No                                                                  & ...                                                                 & NA                                                                  & NA                                                                  & NA                                                                  & NA                                                                  & NA                                                                  & NA                                                                  & NA                                                                  & NA                                                                  & NA                                                                  & Increased                                                          \\\\\n",
       "\t X109.521\\_5.67                                                     & 1112                                                                &  109.521                                                            & 5.67                                                                & NA                                                                  &       NA                                                            & NA                                                                  &      NA                                                             &       NA                                                            & No                                                                  & ...                                                                 & NA                                                                  & NA                                                                  & NA                                                                  & NA                                                                  & NA                                                                  & NA                                                                  & NA                                                                  & NA                                                                  & NA                                                                  & Decreased                                                          \\\\\n",
       "\\end{tabular}\n"
      ],
      "text/markdown": [
       "\n",
       "| features | Cluster.Index | M.Z | RT | Annotation | Cosine.Score | No..of.Shared.Peaks | Mass.Diff..to.Library.Reference | ppm.error | Analog. | ... | microbeMASST_688 | microbeMASST_689 | microbeMASST_690 | microbeMASST_691 | microbeMASST_692 | microbeMASST_693 | microbeMASST_694 | microbeMASST_695 | microbeMASST_696 | fch |\n",
       "|---|---|---|---|---|---|---|---|---|---|---|---|---|---|---|---|---|---|---|---|---|\n",
       "| X100.112_5.63                                                       |  379                                                                |  100.112                                                            | 5.63                                                                | Spectral Match to (-)-Carveol from NIST14                           | 0.755383                                                            |  4                                                                  | 35.0046                                                             | 259069.0                                                            | Yes                                                                 | ...                                                                 | NA                                                                  | NA                                                                  | NA                                                                  | NA                                                                  | NA                                                                  | NA                                                                  | NA                                                                  | NA                                                                  | NA                                                                  | Decreased                                                           |\n",
       "| X100.51_5.64                                                        |  246                                                                |  100.510                                                            | 5.64                                                                | NA                                                                  |       NA                                                            | NA                                                                  |      NA                                                             |       NA                                                            | No                                                                  | ...                                                                 | NA                                                                  | NA                                                                  | NA                                                                  | NA                                                                  | NA                                                                  | NA                                                                  | NA                                                                  | NA                                                                  | NA                                                                  | Decreased                                                           |\n",
       "| X1011.561_2.39                                                      | 6173                                                                | 1011.561                                                            | 2.39                                                                | taurocholic acid                                                    | 0.839193                                                            | 19                                                                  | 20.0283                                                             |  19414.9                                                            | Yes                                                                 | ...                                                                 | NA                                                                  | NA                                                                  | NA                                                                  | NA                                                                  | NA                                                                  | NA                                                                  | NA                                                                  | NA                                                                  | NA                                                                  | Increased                                                           |\n",
       "| X105.07_2.67                                                        |  111                                                                |  105.070                                                            | 2.67                                                                | MassbankEU:ETS00118 4-Methylbenzotriazole|4-Methyl-1H-benzotriazole | 0.850694                                                            |  4                                                                  | 29.0010                                                             | 216311.0                                                            | Yes                                                                 | ...                                                                 | NA                                                                  | NA                                                                  | NA                                                                  | NA                                                                  | NA                                                                  | NA                                                                  | NA                                                                  | NA                                                                  | NA                                                                  | Decreased                                                           |\n",
       "| X109.022_5.75                                                       |  938                                                                |  109.022                                                            | 5.75                                                                | NA                                                                  |       NA                                                            | NA                                                                  |      NA                                                             |       NA                                                            | No                                                                  | ...                                                                 | NA                                                                  | NA                                                                  | NA                                                                  | NA                                                                  | NA                                                                  | NA                                                                  | NA                                                                  | NA                                                                  | NA                                                                  | Increased                                                           |\n",
       "| X109.521_5.67                                                       | 1112                                                                |  109.521                                                            | 5.67                                                                | NA                                                                  |       NA                                                            | NA                                                                  |      NA                                                             |       NA                                                            | No                                                                  | ...                                                                 | NA                                                                  | NA                                                                  | NA                                                                  | NA                                                                  | NA                                                                  | NA                                                                  | NA                                                                  | NA                                                                  | NA                                                                  | Decreased                                                           |\n",
       "\n"
      ],
      "text/plain": [
       "  features       Cluster.Index M.Z      RT  \n",
       "1 X100.112_5.63   379           100.112 5.63\n",
       "2 X100.51_5.64    246           100.510 5.64\n",
       "3 X1011.561_2.39 6173          1011.561 2.39\n",
       "4 X105.07_2.67    111           105.070 2.67\n",
       "5 X109.022_5.75   938           109.022 5.75\n",
       "6 X109.521_5.67  1112           109.521 5.67\n",
       "  Annotation                                                         \n",
       "1 Spectral Match to (-)-Carveol from NIST14                          \n",
       "2 NA                                                                 \n",
       "3 taurocholic acid                                                   \n",
       "4 MassbankEU:ETS00118 4-Methylbenzotriazole|4-Methyl-1H-benzotriazole\n",
       "5 NA                                                                 \n",
       "6 NA                                                                 \n",
       "  Cosine.Score No..of.Shared.Peaks Mass.Diff..to.Library.Reference ppm.error\n",
       "1 0.755383      4                  35.0046                         259069.0 \n",
       "2       NA     NA                       NA                               NA \n",
       "3 0.839193     19                  20.0283                          19414.9 \n",
       "4 0.850694      4                  29.0010                         216311.0 \n",
       "5       NA     NA                       NA                               NA \n",
       "6       NA     NA                       NA                               NA \n",
       "  Analog. ... microbeMASST_688 microbeMASST_689 microbeMASST_690\n",
       "1 Yes     ... NA               NA               NA              \n",
       "2 No      ... NA               NA               NA              \n",
       "3 Yes     ... NA               NA               NA              \n",
       "4 Yes     ... NA               NA               NA              \n",
       "5 No      ... NA               NA               NA              \n",
       "6 No      ... NA               NA               NA              \n",
       "  microbeMASST_691 microbeMASST_692 microbeMASST_693 microbeMASST_694\n",
       "1 NA               NA               NA               NA              \n",
       "2 NA               NA               NA               NA              \n",
       "3 NA               NA               NA               NA              \n",
       "4 NA               NA               NA               NA              \n",
       "5 NA               NA               NA               NA              \n",
       "6 NA               NA               NA               NA              \n",
       "  microbeMASST_695 microbeMASST_696 fch      \n",
       "1 NA               NA               Decreased\n",
       "2 NA               NA               Decreased\n",
       "3 NA               NA               Increased\n",
       "4 NA               NA               Decreased\n",
       "5 NA               NA               Increased\n",
       "6 NA               NA               Decreased"
      ]
     },
     "metadata": {},
     "output_type": "display_data"
    }
   ],
   "source": [
    "merged_SIC50_foldchange<-merge(MicrobeMast, foldchange, by=\"features\")\n",
    "dim(MicrobeMast)\n",
    "dim(foldchange)\n",
    "dim(merged_SIC50_foldchange)\n",
    "head(merged_SIC50_foldchange)\n"
   ]
  },
  {
   "cell_type": "code",
   "execution_count": 93,
   "id": "bbf84075-dcdd-4385-a29a-89b835331073",
   "metadata": {},
   "outputs": [],
   "source": [
    "write.csv(merged_SIC50_foldchange, \"merged_SIC50_foldchange.csv\", row.names=FALSE)"
   ]
  },
  {
   "cell_type": "code",
   "execution_count": null,
   "id": "66526896-80f5-4ede-86cd-2ff616e4f535",
   "metadata": {},
   "outputs": [],
   "source": []
  },
  {
   "cell_type": "code",
   "execution_count": null,
   "id": "152033bb-1092-4e7c-9d0a-f33846bafb82",
   "metadata": {},
   "outputs": [],
   "source": []
  }
 ],
 "metadata": {
  "kernelspec": {
   "display_name": "R",
   "language": "R",
   "name": "ir"
  },
  "language_info": {
   "codemirror_mode": "r",
   "file_extension": ".r",
   "mimetype": "text/x-r-source",
   "name": "R",
   "pygments_lexer": "r",
   "version": "3.6.1"
  }
 },
 "nbformat": 4,
 "nbformat_minor": 5
}
