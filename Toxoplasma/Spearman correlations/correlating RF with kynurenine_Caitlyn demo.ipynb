{
 "cells": [
  {
   "cell_type": "code",
   "execution_count": 1,
   "metadata": {},
   "outputs": [
    {
     "name": "stderr",
     "output_type": "stream",
     "text": [
      "Warning message:\n",
      "\"package 'dplyr' was built under R version 3.6.3\"\n",
      "\n",
      "Attaching package: 'dplyr'\n",
      "\n",
      "\n",
      "The following objects are masked from 'package:stats':\n",
      "\n",
      "    filter, lag\n",
      "\n",
      "\n",
      "The following objects are masked from 'package:base':\n",
      "\n",
      "    intersect, setdiff, setequal, union\n",
      "\n",
      "\n"
     ]
    },
    {
     "data": {
      "text/html": [
       "<table class=\"dataframe\">\n",
       "<caption>A data.frame: 6 × 2</caption>\n",
       "<thead>\n",
       "\t<tr><th></th><th scope=col>X</th><th scope=col>MeanDecreaseAccuracy</th></tr>\n",
       "\t<tr><th></th><th scope=col>&lt;fct&gt;</th><th scope=col>&lt;dbl&gt;</th></tr>\n",
       "</thead>\n",
       "<tbody>\n",
       "\t<tr><th scope=row>1</th><td>X141.958_0.22</td><td> 0.0000</td></tr>\n",
       "\t<tr><th scope=row>2</th><td>X228.195_2.62</td><td> 0.0000</td></tr>\n",
       "\t<tr><th scope=row>3</th><td>X113.963_0.22</td><td> 0.0000</td></tr>\n",
       "\t<tr><th scope=row>4</th><td>X404.206_2.67</td><td> 1.0005</td></tr>\n",
       "\t<tr><th scope=row>5</th><td>X343.294_2.64</td><td> 0.0000</td></tr>\n",
       "\t<tr><th scope=row>6</th><td>X409.161_2.66</td><td>-1.0005</td></tr>\n",
       "</tbody>\n",
       "</table>\n"
      ],
      "text/latex": [
       "A data.frame: 6 × 2\n",
       "\\begin{tabular}{r|ll}\n",
       "  & X & MeanDecreaseAccuracy\\\\\n",
       "  & <fct> & <dbl>\\\\\n",
       "\\hline\n",
       "\t1 & X141.958\\_0.22 &  0.0000\\\\\n",
       "\t2 & X228.195\\_2.62 &  0.0000\\\\\n",
       "\t3 & X113.963\\_0.22 &  0.0000\\\\\n",
       "\t4 & X404.206\\_2.67 &  1.0005\\\\\n",
       "\t5 & X343.294\\_2.64 &  0.0000\\\\\n",
       "\t6 & X409.161\\_2.66 & -1.0005\\\\\n",
       "\\end{tabular}\n"
      ],
      "text/markdown": [
       "\n",
       "A data.frame: 6 × 2\n",
       "\n",
       "| <!--/--> | X &lt;fct&gt; | MeanDecreaseAccuracy &lt;dbl&gt; |\n",
       "|---|---|---|\n",
       "| 1 | X141.958_0.22 |  0.0000 |\n",
       "| 2 | X228.195_2.62 |  0.0000 |\n",
       "| 3 | X113.963_0.22 |  0.0000 |\n",
       "| 4 | X404.206_2.67 |  1.0005 |\n",
       "| 5 | X343.294_2.64 |  0.0000 |\n",
       "| 6 | X409.161_2.66 | -1.0005 |\n",
       "\n"
      ],
      "text/plain": [
       "  X             MeanDecreaseAccuracy\n",
       "1 X141.958_0.22  0.0000             \n",
       "2 X228.195_2.62  0.0000             \n",
       "3 X113.963_0.22  0.0000             \n",
       "4 X404.206_2.67  1.0005             \n",
       "5 X343.294_2.64  0.0000             \n",
       "6 X409.161_2.66 -1.0005             "
      ]
     },
     "metadata": {},
     "output_type": "display_data"
    }
   ],
   "source": [
    "library(dplyr)\n",
    "RF_output<-read.csv(\"varImp_rffit_cecum_features_WT_15_INF_UNINF.csv\")\n",
    "head(RF_output)"
   ]
  },
  {
   "cell_type": "code",
   "execution_count": 3,
   "metadata": {
    "scrolled": true
   },
   "outputs": [
    {
     "data": {
      "text/html": [
       "<table class=\"dataframe\">\n",
       "<caption>A data.frame: 6 × 2</caption>\n",
       "<thead>\n",
       "\t<tr><th></th><th scope=col>X</th><th scope=col>MeanDecreaseAccuracy</th></tr>\n",
       "\t<tr><th></th><th scope=col>&lt;fct&gt;</th><th scope=col>&lt;dbl&gt;</th></tr>\n",
       "</thead>\n",
       "<tbody>\n",
       "\t<tr><th scope=row>4</th><td>X404.206_2.67</td><td>1.000500</td></tr>\n",
       "\t<tr><th scope=row>13</th><td>X226.179_2.52</td><td>1.000500</td></tr>\n",
       "\t<tr><th scope=row>27</th><td>X520.508_3.87</td><td>1.869003</td></tr>\n",
       "\t<tr><th scope=row>34</th><td>X373.273_2.58</td><td>1.926193</td></tr>\n",
       "\t<tr><th scope=row>35</th><td>X267.122_2.67</td><td>1.000500</td></tr>\n",
       "\t<tr><th scope=row>51</th><td>X355.262_2.58</td><td>3.225082</td></tr>\n",
       "</tbody>\n",
       "</table>\n"
      ],
      "text/latex": [
       "A data.frame: 6 × 2\n",
       "\\begin{tabular}{r|ll}\n",
       "  & X & MeanDecreaseAccuracy\\\\\n",
       "  & <fct> & <dbl>\\\\\n",
       "\\hline\n",
       "\t4 & X404.206\\_2.67 & 1.000500\\\\\n",
       "\t13 & X226.179\\_2.52 & 1.000500\\\\\n",
       "\t27 & X520.508\\_3.87 & 1.869003\\\\\n",
       "\t34 & X373.273\\_2.58 & 1.926193\\\\\n",
       "\t35 & X267.122\\_2.67 & 1.000500\\\\\n",
       "\t51 & X355.262\\_2.58 & 3.225082\\\\\n",
       "\\end{tabular}\n"
      ],
      "text/markdown": [
       "\n",
       "A data.frame: 6 × 2\n",
       "\n",
       "| <!--/--> | X &lt;fct&gt; | MeanDecreaseAccuracy &lt;dbl&gt; |\n",
       "|---|---|---|\n",
       "| 4 | X404.206_2.67 | 1.000500 |\n",
       "| 13 | X226.179_2.52 | 1.000500 |\n",
       "| 27 | X520.508_3.87 | 1.869003 |\n",
       "| 34 | X373.273_2.58 | 1.926193 |\n",
       "| 35 | X267.122_2.67 | 1.000500 |\n",
       "| 51 | X355.262_2.58 | 3.225082 |\n",
       "\n"
      ],
      "text/plain": [
       "   X             MeanDecreaseAccuracy\n",
       "4  X404.206_2.67 1.000500            \n",
       "13 X226.179_2.52 1.000500            \n",
       "27 X520.508_3.87 1.869003            \n",
       "34 X373.273_2.58 1.926193            \n",
       "35 X267.122_2.67 1.000500            \n",
       "51 X355.262_2.58 3.225082            "
      ]
     },
     "metadata": {},
     "output_type": "display_data"
    },
    {
     "data": {
      "text/html": [
       "<style>\n",
       ".list-inline {list-style: none; margin:0; padding: 0}\n",
       ".list-inline>li {display: inline-block}\n",
       ".list-inline>li:not(:last-child)::after {content: \"\\00b7\"; padding: 0 .5ex}\n",
       "</style>\n",
       "<ol class=list-inline><li>254</li><li>2</li></ol>\n"
      ],
      "text/latex": [
       "\\begin{enumerate*}\n",
       "\\item 254\n",
       "\\item 2\n",
       "\\end{enumerate*}\n"
      ],
      "text/markdown": [
       "1. 254\n",
       "2. 2\n",
       "\n",
       "\n"
      ],
      "text/plain": [
       "[1] 254   2"
      ]
     },
     "metadata": {},
     "output_type": "display_data"
    }
   ],
   "source": [
    "# select those that met cutoff\n",
    "MeanDecrease_bigger_than_1 <- RF_output$MeanDecreaseAccuracy > 1\n",
    "\n",
    "# Use the logical vector to subset the DataFrame\n",
    "selected_rows <- RF_output[MeanDecrease_bigger_than_1, ]\n",
    "head(selected_rows)\n",
    "dim(selected_rows)"
   ]
  },
  {
   "cell_type": "code",
   "execution_count": 4,
   "metadata": {},
   "outputs": [
    {
     "data": {
      "text/html": [
       "'C:/Users/Laura-Isobel_PC/Documents/projects as faculty/Toxoplasma/Mahbobeh Toxo stuff/11-07-2022_random_forest_after_BER/cecum/RF_result_file'"
      ],
      "text/latex": [
       "'C:/Users/Laura-Isobel\\_PC/Documents/projects as faculty/Toxoplasma/Mahbobeh Toxo stuff/11-07-2022\\_random\\_forest\\_after\\_BER/cecum/RF\\_result\\_file'"
      ],
      "text/markdown": [
       "'C:/Users/Laura-Isobel_PC/Documents/projects as faculty/Toxoplasma/Mahbobeh Toxo stuff/11-07-2022_random_forest_after_BER/cecum/RF_result_file'"
      ],
      "text/plain": [
       "[1] \"C:/Users/Laura-Isobel_PC/Documents/projects as faculty/Toxoplasma/Mahbobeh Toxo stuff/11-07-2022_random_forest_after_BER/cecum/RF_result_file\""
      ]
     },
     "metadata": {},
     "output_type": "display_data"
    }
   ],
   "source": [
    "getwd()"
   ]
  },
  {
   "cell_type": "code",
   "execution_count": 5,
   "metadata": {},
   "outputs": [
    {
     "data": {
      "text/html": [
       "<table class=\"dataframe\">\n",
       "<caption>A data.frame: 6 × 2882</caption>\n",
       "<thead>\n",
       "\t<tr><th></th><th scope=col>sample.id</th><th scope=col>injection_order</th><th scope=col>organ_content</th><th scope=col>Mouse_nu</th><th scope=col>Days.post.infection</th><th scope=col>Condition</th><th scope=col>genotypes</th><th scope=col>gen_con_DPI</th><th scope=col>Box.</th><th scope=col>Tissue.Collection.Date</th><th scope=col>...</th><th scope=col>X361.272_3.25</th><th scope=col>X560.31_2.95</th><th scope=col>X828.536_3.22</th><th scope=col>X774.525_3.35</th><th scope=col>X796.509_3.35</th><th scope=col>X800.576_3.58</th><th scope=col>X180.101_2.55</th><th scope=col>X435.989_0.27</th><th scope=col>X477.212_1.27</th><th scope=col>X432.241_2.44</th></tr>\n",
       "\t<tr><th></th><th scope=col>&lt;fct&gt;</th><th scope=col>&lt;int&gt;</th><th scope=col>&lt;fct&gt;</th><th scope=col>&lt;fct&gt;</th><th scope=col>&lt;fct&gt;</th><th scope=col>&lt;fct&gt;</th><th scope=col>&lt;fct&gt;</th><th scope=col>&lt;fct&gt;</th><th scope=col>&lt;fct&gt;</th><th scope=col>&lt;fct&gt;</th><th scope=col>...</th><th scope=col>&lt;dbl&gt;</th><th scope=col>&lt;dbl&gt;</th><th scope=col>&lt;dbl&gt;</th><th scope=col>&lt;dbl&gt;</th><th scope=col>&lt;dbl&gt;</th><th scope=col>&lt;dbl&gt;</th><th scope=col>&lt;dbl&gt;</th><th scope=col>&lt;dbl&gt;</th><th scope=col>&lt;dbl&gt;</th><th scope=col>&lt;dbl&gt;</th></tr>\n",
       "</thead>\n",
       "<tbody>\n",
       "\t<tr><th scope=row>1</th><td>cecum_30_15_INFECTED_IL1R_INF_3_10_14_2021_3_181_F4  </td><td>42</td><td>cecum   </td><td>30      </td><td>15      </td><td>INFECTED  </td><td>IL1R_INF</td><td>IL1R_INF_15      </td><td>3       </td><td>10_14_2021</td><td>...</td><td>-204937.81</td><td>-408356.0</td><td>-1250658.6</td><td> -619475.9</td><td> -828838.8</td><td> -5498457</td><td> -513512.4</td><td> -63419.21</td><td> -747435.0</td><td>136075.7</td></tr>\n",
       "\t<tr><th scope=row>2</th><td>cecum_25_15_INFECTED_WT_INF_2_10_14_2021_2_181_A4    </td><td>47</td><td>cecum   </td><td>25      </td><td>15      </td><td>INFECTED  </td><td>WT_INF  </td><td>WT_INF_15        </td><td>2       </td><td>10_14_2021</td><td>...</td><td> 451252.35</td><td>-468746.1</td><td>-2665310.6</td><td>-1320181.1</td><td>-1766359.7</td><td>-11717904</td><td>-1094359.4</td><td>-135154.31</td><td>-1592878.0</td><td>345928.7</td></tr>\n",
       "\t<tr><th scope=row>3</th><td>QC_cecum_2_2                                         </td><td>66</td><td>QC_cecum</td><td>QC_cecum</td><td>QC_cecum</td><td>QC_cecum  </td><td>QC_cecum</td><td>QC_cecum_QC_cecum</td><td>QC_cecum</td><td>QC_cecum  </td><td>...</td><td> 623643.16</td><td>3757598.7</td><td>13769113.4</td><td> 6820114.5</td><td> 9125092.9</td><td> 60535215</td><td> 5653509.5</td><td> 698213.20</td><td> 8228878.4</td><td>446548.1</td></tr>\n",
       "\t<tr><th scope=row>4</th><td>cecum_11_15_UNINFECTED_WT_UNINF_3_10_7_2021_13_179_C4</td><td>69</td><td>cecum   </td><td>11      </td><td>15      </td><td>UNINFECTED</td><td>WT_UNINF</td><td>WT_UNINF_15      </td><td>3       </td><td>10_7_2021 </td><td>...</td><td> 398453.84</td><td>-439949.1</td><td>-2456651.7</td><td>-1216828.2</td><td>-1628076.8</td><td>-10800545</td><td>-1008685.4</td><td>-124573.50</td><td>-1468176.4</td><td>364113.4</td></tr>\n",
       "\t<tr><th scope=row>5</th><td>cecum_26_15_INFECTED_IL1R_INF_2_10_14_2021_2_181_B4  </td><td>85</td><td>cecum   </td><td>26      </td><td>15      </td><td>INFECTED  </td><td>IL1R_INF</td><td>IL1R_INF_15      </td><td>2       </td><td>10_14_2021</td><td>...</td><td>  88110.26</td><td>-346980.0</td><td>-1532435.7</td><td> -759045.7</td><td>-1015578.7</td><td> -6737276</td><td> -629208.2</td><td> -77707.75</td><td> -915834.3</td><td>263542.4</td></tr>\n",
       "\t<tr><th scope=row>6</th><td>cecum_22_15_INFECTED_IL1R_INF_1_10_14_2021_1_180_F4  </td><td>96</td><td>cecum   </td><td>22      </td><td>15      </td><td>INFECTED  </td><td>IL1R_INF</td><td>IL1R_INF_15      </td><td>1       </td><td>10_14_2021</td><td>...</td><td>-112387.05</td><td>-219328.3</td><td> -667583.3</td><td> -330667.2</td><td> -442422.1</td><td> -2934997</td><td> -274105.4</td><td> -33852.25</td><td> -398969.9</td><td>176754.8</td></tr>\n",
       "</tbody>\n",
       "</table>\n"
      ],
      "text/latex": [
       "A data.frame: 6 × 2882\n",
       "\\begin{tabular}{r|lllllllllllllllllllll}\n",
       "  & sample.id & injection\\_order & organ\\_content & Mouse\\_nu & Days.post.infection & Condition & genotypes & gen\\_con\\_DPI & Box. & Tissue.Collection.Date & ... & X361.272\\_3.25 & X560.31\\_2.95 & X828.536\\_3.22 & X774.525\\_3.35 & X796.509\\_3.35 & X800.576\\_3.58 & X180.101\\_2.55 & X435.989\\_0.27 & X477.212\\_1.27 & X432.241\\_2.44\\\\\n",
       "  & <fct> & <int> & <fct> & <fct> & <fct> & <fct> & <fct> & <fct> & <fct> & <fct> & ... & <dbl> & <dbl> & <dbl> & <dbl> & <dbl> & <dbl> & <dbl> & <dbl> & <dbl> & <dbl>\\\\\n",
       "\\hline\n",
       "\t1 & cecum\\_30\\_15\\_INFECTED\\_IL1R\\_INF\\_3\\_10\\_14\\_2021\\_3\\_181\\_F4   & 42 & cecum    & 30       & 15       & INFECTED   & IL1R\\_INF & IL1R\\_INF\\_15       & 3        & 10\\_14\\_2021 & ... & -204937.81 & -408356.0 & -1250658.6 &  -619475.9 &  -828838.8 &  -5498457 &  -513512.4 &  -63419.21 &  -747435.0 & 136075.7\\\\\n",
       "\t2 & cecum\\_25\\_15\\_INFECTED\\_WT\\_INF\\_2\\_10\\_14\\_2021\\_2\\_181\\_A4     & 47 & cecum    & 25       & 15       & INFECTED   & WT\\_INF   & WT\\_INF\\_15         & 2        & 10\\_14\\_2021 & ... &  451252.35 & -468746.1 & -2665310.6 & -1320181.1 & -1766359.7 & -11717904 & -1094359.4 & -135154.31 & -1592878.0 & 345928.7\\\\\n",
       "\t3 & QC\\_cecum\\_2\\_2                                          & 66 & QC\\_cecum & QC\\_cecum & QC\\_cecum & QC\\_cecum   & QC\\_cecum & QC\\_cecum\\_QC\\_cecum & QC\\_cecum & QC\\_cecum   & ... &  623643.16 & 3757598.7 & 13769113.4 &  6820114.5 &  9125092.9 &  60535215 &  5653509.5 &  698213.20 &  8228878.4 & 446548.1\\\\\n",
       "\t4 & cecum\\_11\\_15\\_UNINFECTED\\_WT\\_UNINF\\_3\\_10\\_7\\_2021\\_13\\_179\\_C4 & 69 & cecum    & 11       & 15       & UNINFECTED & WT\\_UNINF & WT\\_UNINF\\_15       & 3        & 10\\_7\\_2021  & ... &  398453.84 & -439949.1 & -2456651.7 & -1216828.2 & -1628076.8 & -10800545 & -1008685.4 & -124573.50 & -1468176.4 & 364113.4\\\\\n",
       "\t5 & cecum\\_26\\_15\\_INFECTED\\_IL1R\\_INF\\_2\\_10\\_14\\_2021\\_2\\_181\\_B4   & 85 & cecum    & 26       & 15       & INFECTED   & IL1R\\_INF & IL1R\\_INF\\_15       & 2        & 10\\_14\\_2021 & ... &   88110.26 & -346980.0 & -1532435.7 &  -759045.7 & -1015578.7 &  -6737276 &  -629208.2 &  -77707.75 &  -915834.3 & 263542.4\\\\\n",
       "\t6 & cecum\\_22\\_15\\_INFECTED\\_IL1R\\_INF\\_1\\_10\\_14\\_2021\\_1\\_180\\_F4   & 96 & cecum    & 22       & 15       & INFECTED   & IL1R\\_INF & IL1R\\_INF\\_15       & 1        & 10\\_14\\_2021 & ... & -112387.05 & -219328.3 &  -667583.3 &  -330667.2 &  -442422.1 &  -2934997 &  -274105.4 &  -33852.25 &  -398969.9 & 176754.8\\\\\n",
       "\\end{tabular}\n"
      ],
      "text/markdown": [
       "\n",
       "A data.frame: 6 × 2882\n",
       "\n",
       "| <!--/--> | sample.id &lt;fct&gt; | injection_order &lt;int&gt; | organ_content &lt;fct&gt; | Mouse_nu &lt;fct&gt; | Days.post.infection &lt;fct&gt; | Condition &lt;fct&gt; | genotypes &lt;fct&gt; | gen_con_DPI &lt;fct&gt; | Box. &lt;fct&gt; | Tissue.Collection.Date &lt;fct&gt; | ... ... | X361.272_3.25 &lt;dbl&gt; | X560.31_2.95 &lt;dbl&gt; | X828.536_3.22 &lt;dbl&gt; | X774.525_3.35 &lt;dbl&gt; | X796.509_3.35 &lt;dbl&gt; | X800.576_3.58 &lt;dbl&gt; | X180.101_2.55 &lt;dbl&gt; | X435.989_0.27 &lt;dbl&gt; | X477.212_1.27 &lt;dbl&gt; | X432.241_2.44 &lt;dbl&gt; |\n",
       "|---|---|---|---|---|---|---|---|---|---|---|---|---|---|---|---|---|---|---|---|---|---|\n",
       "| 1 | cecum_30_15_INFECTED_IL1R_INF_3_10_14_2021_3_181_F4   | 42 | cecum    | 30       | 15       | INFECTED   | IL1R_INF | IL1R_INF_15       | 3        | 10_14_2021 | ... | -204937.81 | -408356.0 | -1250658.6 |  -619475.9 |  -828838.8 |  -5498457 |  -513512.4 |  -63419.21 |  -747435.0 | 136075.7 |\n",
       "| 2 | cecum_25_15_INFECTED_WT_INF_2_10_14_2021_2_181_A4     | 47 | cecum    | 25       | 15       | INFECTED   | WT_INF   | WT_INF_15         | 2        | 10_14_2021 | ... |  451252.35 | -468746.1 | -2665310.6 | -1320181.1 | -1766359.7 | -11717904 | -1094359.4 | -135154.31 | -1592878.0 | 345928.7 |\n",
       "| 3 | QC_cecum_2_2                                          | 66 | QC_cecum | QC_cecum | QC_cecum | QC_cecum   | QC_cecum | QC_cecum_QC_cecum | QC_cecum | QC_cecum   | ... |  623643.16 | 3757598.7 | 13769113.4 |  6820114.5 |  9125092.9 |  60535215 |  5653509.5 |  698213.20 |  8228878.4 | 446548.1 |\n",
       "| 4 | cecum_11_15_UNINFECTED_WT_UNINF_3_10_7_2021_13_179_C4 | 69 | cecum    | 11       | 15       | UNINFECTED | WT_UNINF | WT_UNINF_15       | 3        | 10_7_2021  | ... |  398453.84 | -439949.1 | -2456651.7 | -1216828.2 | -1628076.8 | -10800545 | -1008685.4 | -124573.50 | -1468176.4 | 364113.4 |\n",
       "| 5 | cecum_26_15_INFECTED_IL1R_INF_2_10_14_2021_2_181_B4   | 85 | cecum    | 26       | 15       | INFECTED   | IL1R_INF | IL1R_INF_15       | 2        | 10_14_2021 | ... |   88110.26 | -346980.0 | -1532435.7 |  -759045.7 | -1015578.7 |  -6737276 |  -629208.2 |  -77707.75 |  -915834.3 | 263542.4 |\n",
       "| 6 | cecum_22_15_INFECTED_IL1R_INF_1_10_14_2021_1_180_F4   | 96 | cecum    | 22       | 15       | INFECTED   | IL1R_INF | IL1R_INF_15       | 1        | 10_14_2021 | ... | -112387.05 | -219328.3 |  -667583.3 |  -330667.2 |  -442422.1 |  -2934997 |  -274105.4 |  -33852.25 |  -398969.9 | 176754.8 |\n",
       "\n"
      ],
      "text/plain": [
       "  sample.id                                             injection_order\n",
       "1 cecum_30_15_INFECTED_IL1R_INF_3_10_14_2021_3_181_F4   42             \n",
       "2 cecum_25_15_INFECTED_WT_INF_2_10_14_2021_2_181_A4     47             \n",
       "3 QC_cecum_2_2                                          66             \n",
       "4 cecum_11_15_UNINFECTED_WT_UNINF_3_10_7_2021_13_179_C4 69             \n",
       "5 cecum_26_15_INFECTED_IL1R_INF_2_10_14_2021_2_181_B4   85             \n",
       "6 cecum_22_15_INFECTED_IL1R_INF_1_10_14_2021_1_180_F4   96             \n",
       "  organ_content Mouse_nu Days.post.infection Condition  genotypes\n",
       "1 cecum         30       15                  INFECTED   IL1R_INF \n",
       "2 cecum         25       15                  INFECTED   WT_INF   \n",
       "3 QC_cecum      QC_cecum QC_cecum            QC_cecum   QC_cecum \n",
       "4 cecum         11       15                  UNINFECTED WT_UNINF \n",
       "5 cecum         26       15                  INFECTED   IL1R_INF \n",
       "6 cecum         22       15                  INFECTED   IL1R_INF \n",
       "  gen_con_DPI       Box.     Tissue.Collection.Date ... X361.272_3.25\n",
       "1 IL1R_INF_15       3        10_14_2021             ... -204937.81   \n",
       "2 WT_INF_15         2        10_14_2021             ...  451252.35   \n",
       "3 QC_cecum_QC_cecum QC_cecum QC_cecum               ...  623643.16   \n",
       "4 WT_UNINF_15       3        10_7_2021              ...  398453.84   \n",
       "5 IL1R_INF_15       2        10_14_2021             ...   88110.26   \n",
       "6 IL1R_INF_15       1        10_14_2021             ... -112387.05   \n",
       "  X560.31_2.95 X828.536_3.22 X774.525_3.35 X796.509_3.35 X800.576_3.58\n",
       "1 -408356.0    -1250658.6     -619475.9     -828838.8     -5498457    \n",
       "2 -468746.1    -2665310.6    -1320181.1    -1766359.7    -11717904    \n",
       "3 3757598.7    13769113.4     6820114.5     9125092.9     60535215    \n",
       "4 -439949.1    -2456651.7    -1216828.2    -1628076.8    -10800545    \n",
       "5 -346980.0    -1532435.7     -759045.7    -1015578.7     -6737276    \n",
       "6 -219328.3     -667583.3     -330667.2     -442422.1     -2934997    \n",
       "  X180.101_2.55 X435.989_0.27 X477.212_1.27 X432.241_2.44\n",
       "1  -513512.4     -63419.21     -747435.0    136075.7     \n",
       "2 -1094359.4    -135154.31    -1592878.0    345928.7     \n",
       "3  5653509.5     698213.20     8228878.4    446548.1     \n",
       "4 -1008685.4    -124573.50    -1468176.4    364113.4     \n",
       "5  -629208.2     -77707.75     -915834.3    263542.4     \n",
       "6  -274105.4     -33852.25     -398969.9    176754.8     "
      ]
     },
     "metadata": {},
     "output_type": "display_data"
    },
    {
     "data": {
      "text/html": [
       "<style>\n",
       ".list-inline {list-style: none; margin:0; padding: 0}\n",
       ".list-inline>li {display: inline-block}\n",
       ".list-inline>li:not(:last-child)::after {content: \"\\00b7\"; padding: 0 .5ex}\n",
       "</style>\n",
       "<ol class=list-inline><li>254</li><li>2</li></ol>\n"
      ],
      "text/latex": [
       "\\begin{enumerate*}\n",
       "\\item 254\n",
       "\\item 2\n",
       "\\end{enumerate*}\n"
      ],
      "text/markdown": [
       "1. 254\n",
       "2. 2\n",
       "\n",
       "\n"
      ],
      "text/plain": [
       "[1] 254   2"
      ]
     },
     "metadata": {},
     "output_type": "display_data"
    },
    {
     "data": {
      "text/html": [
       "<style>\n",
       ".list-inline {list-style: none; margin:0; padding: 0}\n",
       ".list-inline>li {display: inline-block}\n",
       ".list-inline>li:not(:last-child)::after {content: \"\\00b7\"; padding: 0 .5ex}\n",
       "</style>\n",
       "<ol class=list-inline><li>61</li><li>2882</li></ol>\n"
      ],
      "text/latex": [
       "\\begin{enumerate*}\n",
       "\\item 61\n",
       "\\item 2882\n",
       "\\end{enumerate*}\n"
      ],
      "text/markdown": [
       "1. 61\n",
       "2. 2882\n",
       "\n",
       "\n"
      ],
      "text/plain": [
       "[1]   61 2882"
      ]
     },
     "metadata": {},
     "output_type": "display_data"
    },
    {
     "data": {
      "text/html": [
       "<style>\n",
       ".list-inline {list-style: none; margin:0; padding: 0}\n",
       ".list-inline>li {display: inline-block}\n",
       ".list-inline>li:not(:last-child)::after {content: \"\\00b7\"; padding: 0 .5ex}\n",
       "</style>\n",
       "<ol class=list-inline><li>61</li><li>254</li></ol>\n"
      ],
      "text/latex": [
       "\\begin{enumerate*}\n",
       "\\item 61\n",
       "\\item 254\n",
       "\\end{enumerate*}\n"
      ],
      "text/markdown": [
       "1. 61\n",
       "2. 254\n",
       "\n",
       "\n"
      ],
      "text/plain": [
       "[1]  61 254"
      ]
     },
     "metadata": {},
     "output_type": "display_data"
    },
    {
     "data": {
      "text/html": [
       "<table class=\"dataframe\">\n",
       "<caption>A data.frame: 6 × 254</caption>\n",
       "<thead>\n",
       "\t<tr><th></th><th scope=col>X404.206_2.67</th><th scope=col>X226.179_2.52</th><th scope=col>X520.508_3.87</th><th scope=col>X373.273_2.58</th><th scope=col>X267.122_2.67</th><th scope=col>X355.262_2.58</th><th scope=col>X524.37_2.91</th><th scope=col>X204.123_0.3</th><th scope=col>X482.323_2.88</th><th scope=col>X256.299_5.56</th><th scope=col>...</th><th scope=col>X398.558_2.24</th><th scope=col>X385.535_2.16</th><th scope=col>X789.573_2.45</th><th scope=col>X833.269_2.44</th><th scope=col>X314.194_2.14</th><th scope=col>X330.263_2.78</th><th scope=col>X324.289_2.95</th><th scope=col>X349.199_2.6</th><th scope=col>X714.505_3.61</th><th scope=col>X750.541_3.6</th></tr>\n",
       "\t<tr><th></th><th scope=col>&lt;dbl&gt;</th><th scope=col>&lt;dbl&gt;</th><th scope=col>&lt;dbl&gt;</th><th scope=col>&lt;dbl&gt;</th><th scope=col>&lt;dbl&gt;</th><th scope=col>&lt;dbl&gt;</th><th scope=col>&lt;dbl&gt;</th><th scope=col>&lt;dbl&gt;</th><th scope=col>&lt;dbl&gt;</th><th scope=col>&lt;dbl&gt;</th><th scope=col>...</th><th scope=col>&lt;dbl&gt;</th><th scope=col>&lt;dbl&gt;</th><th scope=col>&lt;dbl&gt;</th><th scope=col>&lt;dbl&gt;</th><th scope=col>&lt;dbl&gt;</th><th scope=col>&lt;dbl&gt;</th><th scope=col>&lt;dbl&gt;</th><th scope=col>&lt;dbl&gt;</th><th scope=col>&lt;dbl&gt;</th><th scope=col>&lt;dbl&gt;</th></tr>\n",
       "</thead>\n",
       "<tbody>\n",
       "\t<tr><th scope=row>1</th><td>228378754</td><td> 4357396.1</td><td> 67699682</td><td> 764819247</td><td>29453757</td><td>293024734</td><td>  64267361</td><td>487068946</td><td> 127776557</td><td>15889347</td><td>...</td><td>-213004.48</td><td>   973.7614</td><td> 80621.349</td><td> 82417.605</td><td>-179648.49</td><td>-1235931</td><td> 94824.75</td><td>  54553.41</td><td>-141574.1</td><td> 5042526</td></tr>\n",
       "\t<tr><th scope=row>2</th><td>188102975</td><td> 3687762.9</td><td>178050429</td><td> 828666980</td><td>22943032</td><td>312952338</td><td>6091063560</td><td>658314534</td><td>4248615612</td><td>-4340208</td><td>...</td><td> 110153.47</td><td>274633.2421</td><td>-13130.354</td><td>-13422.901</td><td> -57312.49</td><td>-1607499</td><td>201685.47</td><td>-412865.51</td><td>1841301.0</td><td>10725093</td></tr>\n",
       "\t<tr><th scope=row>3</th><td>207322271</td><td> -338029.1</td><td> 41632763</td><td> 220180099</td><td>26592890</td><td>510999960</td><td>-190274841</td><td>692105606</td><td>-238828897</td><td> 6240913</td><td>...</td><td> 208456.39</td><td>423219.2091</td><td>-92442.857</td><td>-94502.498</td><td>  21682.82</td><td>11719855</td><td>270056.44</td><td>-555820.17</td><td>2512390.3</td><td>14360878</td></tr>\n",
       "\t<tr><th scope=row>4</th><td>265073247</td><td> -630375.5</td><td> 98991517</td><td> 746027008</td><td>35239622</td><td>252273592</td><td>1594738396</td><td>600184344</td><td>1121414492</td><td> 6329091</td><td>...</td><td>  81581.99</td><td>423911.1366</td><td>-43939.370</td><td>-44918.346</td><td>  36503.23</td><td>-1501848</td><td>276638.41</td><td>-445741.37</td><td>1993090.8</td><td>14710889</td></tr>\n",
       "\t<tr><th scope=row>5</th><td>206970222</td><td> -865802.3</td><td>186259274</td><td>1153626352</td><td>26000348</td><td>482440481</td><td>2390201319</td><td>563327525</td><td>2255695059</td><td> 7346211</td><td>...</td><td>-112070.94</td><td>332326.1378</td><td>  8200.077</td><td>  8382.776</td><td>  10040.91</td><td>-1122290</td><td>245624.05</td><td>-260009.68</td><td>1128051.2</td><td>13061629</td></tr>\n",
       "\t<tr><th scope=row>6</th><td>256261742</td><td>15326201.4</td><td>107749013</td><td> 956108726</td><td>32987661</td><td>412585673</td><td>3070888898</td><td>665286900</td><td>1997927598</td><td>-4464168</td><td>...</td><td>-328078.12</td><td>134317.1274</td><td>101098.985</td><td>103351.485</td><td> -98722.69</td><td> -663183</td><td>163578.18</td><td>-135737.54</td><td> 338128.9</td><td> 8698649</td></tr>\n",
       "</tbody>\n",
       "</table>\n"
      ],
      "text/latex": [
       "A data.frame: 6 × 254\n",
       "\\begin{tabular}{r|lllllllllllllllllllll}\n",
       "  & X404.206\\_2.67 & X226.179\\_2.52 & X520.508\\_3.87 & X373.273\\_2.58 & X267.122\\_2.67 & X355.262\\_2.58 & X524.37\\_2.91 & X204.123\\_0.3 & X482.323\\_2.88 & X256.299\\_5.56 & ... & X398.558\\_2.24 & X385.535\\_2.16 & X789.573\\_2.45 & X833.269\\_2.44 & X314.194\\_2.14 & X330.263\\_2.78 & X324.289\\_2.95 & X349.199\\_2.6 & X714.505\\_3.61 & X750.541\\_3.6\\\\\n",
       "  & <dbl> & <dbl> & <dbl> & <dbl> & <dbl> & <dbl> & <dbl> & <dbl> & <dbl> & <dbl> & ... & <dbl> & <dbl> & <dbl> & <dbl> & <dbl> & <dbl> & <dbl> & <dbl> & <dbl> & <dbl>\\\\\n",
       "\\hline\n",
       "\t1 & 228378754 &  4357396.1 &  67699682 &  764819247 & 29453757 & 293024734 &   64267361 & 487068946 &  127776557 & 15889347 & ... & -213004.48 &    973.7614 &  80621.349 &  82417.605 & -179648.49 & -1235931 &  94824.75 &   54553.41 & -141574.1 &  5042526\\\\\n",
       "\t2 & 188102975 &  3687762.9 & 178050429 &  828666980 & 22943032 & 312952338 & 6091063560 & 658314534 & 4248615612 & -4340208 & ... &  110153.47 & 274633.2421 & -13130.354 & -13422.901 &  -57312.49 & -1607499 & 201685.47 & -412865.51 & 1841301.0 & 10725093\\\\\n",
       "\t3 & 207322271 &  -338029.1 &  41632763 &  220180099 & 26592890 & 510999960 & -190274841 & 692105606 & -238828897 &  6240913 & ... &  208456.39 & 423219.2091 & -92442.857 & -94502.498 &   21682.82 & 11719855 & 270056.44 & -555820.17 & 2512390.3 & 14360878\\\\\n",
       "\t4 & 265073247 &  -630375.5 &  98991517 &  746027008 & 35239622 & 252273592 & 1594738396 & 600184344 & 1121414492 &  6329091 & ... &   81581.99 & 423911.1366 & -43939.370 & -44918.346 &   36503.23 & -1501848 & 276638.41 & -445741.37 & 1993090.8 & 14710889\\\\\n",
       "\t5 & 206970222 &  -865802.3 & 186259274 & 1153626352 & 26000348 & 482440481 & 2390201319 & 563327525 & 2255695059 &  7346211 & ... & -112070.94 & 332326.1378 &   8200.077 &   8382.776 &   10040.91 & -1122290 & 245624.05 & -260009.68 & 1128051.2 & 13061629\\\\\n",
       "\t6 & 256261742 & 15326201.4 & 107749013 &  956108726 & 32987661 & 412585673 & 3070888898 & 665286900 & 1997927598 & -4464168 & ... & -328078.12 & 134317.1274 & 101098.985 & 103351.485 &  -98722.69 &  -663183 & 163578.18 & -135737.54 &  338128.9 &  8698649\\\\\n",
       "\\end{tabular}\n"
      ],
      "text/markdown": [
       "\n",
       "A data.frame: 6 × 254\n",
       "\n",
       "| <!--/--> | X404.206_2.67 &lt;dbl&gt; | X226.179_2.52 &lt;dbl&gt; | X520.508_3.87 &lt;dbl&gt; | X373.273_2.58 &lt;dbl&gt; | X267.122_2.67 &lt;dbl&gt; | X355.262_2.58 &lt;dbl&gt; | X524.37_2.91 &lt;dbl&gt; | X204.123_0.3 &lt;dbl&gt; | X482.323_2.88 &lt;dbl&gt; | X256.299_5.56 &lt;dbl&gt; | ... ... | X398.558_2.24 &lt;dbl&gt; | X385.535_2.16 &lt;dbl&gt; | X789.573_2.45 &lt;dbl&gt; | X833.269_2.44 &lt;dbl&gt; | X314.194_2.14 &lt;dbl&gt; | X330.263_2.78 &lt;dbl&gt; | X324.289_2.95 &lt;dbl&gt; | X349.199_2.6 &lt;dbl&gt; | X714.505_3.61 &lt;dbl&gt; | X750.541_3.6 &lt;dbl&gt; |\n",
       "|---|---|---|---|---|---|---|---|---|---|---|---|---|---|---|---|---|---|---|---|---|---|\n",
       "| 1 | 228378754 |  4357396.1 |  67699682 |  764819247 | 29453757 | 293024734 |   64267361 | 487068946 |  127776557 | 15889347 | ... | -213004.48 |    973.7614 |  80621.349 |  82417.605 | -179648.49 | -1235931 |  94824.75 |   54553.41 | -141574.1 |  5042526 |\n",
       "| 2 | 188102975 |  3687762.9 | 178050429 |  828666980 | 22943032 | 312952338 | 6091063560 | 658314534 | 4248615612 | -4340208 | ... |  110153.47 | 274633.2421 | -13130.354 | -13422.901 |  -57312.49 | -1607499 | 201685.47 | -412865.51 | 1841301.0 | 10725093 |\n",
       "| 3 | 207322271 |  -338029.1 |  41632763 |  220180099 | 26592890 | 510999960 | -190274841 | 692105606 | -238828897 |  6240913 | ... |  208456.39 | 423219.2091 | -92442.857 | -94502.498 |   21682.82 | 11719855 | 270056.44 | -555820.17 | 2512390.3 | 14360878 |\n",
       "| 4 | 265073247 |  -630375.5 |  98991517 |  746027008 | 35239622 | 252273592 | 1594738396 | 600184344 | 1121414492 |  6329091 | ... |   81581.99 | 423911.1366 | -43939.370 | -44918.346 |   36503.23 | -1501848 | 276638.41 | -445741.37 | 1993090.8 | 14710889 |\n",
       "| 5 | 206970222 |  -865802.3 | 186259274 | 1153626352 | 26000348 | 482440481 | 2390201319 | 563327525 | 2255695059 |  7346211 | ... | -112070.94 | 332326.1378 |   8200.077 |   8382.776 |   10040.91 | -1122290 | 245624.05 | -260009.68 | 1128051.2 | 13061629 |\n",
       "| 6 | 256261742 | 15326201.4 | 107749013 |  956108726 | 32987661 | 412585673 | 3070888898 | 665286900 | 1997927598 | -4464168 | ... | -328078.12 | 134317.1274 | 101098.985 | 103351.485 |  -98722.69 |  -663183 | 163578.18 | -135737.54 |  338128.9 |  8698649 |\n",
       "\n"
      ],
      "text/plain": [
       "  X404.206_2.67 X226.179_2.52 X520.508_3.87 X373.273_2.58 X267.122_2.67\n",
       "1 228378754      4357396.1     67699682      764819247    29453757     \n",
       "2 188102975      3687762.9    178050429      828666980    22943032     \n",
       "3 207322271      -338029.1     41632763      220180099    26592890     \n",
       "4 265073247      -630375.5     98991517      746027008    35239622     \n",
       "5 206970222      -865802.3    186259274     1153626352    26000348     \n",
       "6 256261742     15326201.4    107749013      956108726    32987661     \n",
       "  X355.262_2.58 X524.37_2.91 X204.123_0.3 X482.323_2.88 X256.299_5.56 ...\n",
       "1 293024734       64267361   487068946     127776557    15889347      ...\n",
       "2 312952338     6091063560   658314534    4248615612    -4340208      ...\n",
       "3 510999960     -190274841   692105606    -238828897     6240913      ...\n",
       "4 252273592     1594738396   600184344    1121414492     6329091      ...\n",
       "5 482440481     2390201319   563327525    2255695059     7346211      ...\n",
       "6 412585673     3070888898   665286900    1997927598    -4464168      ...\n",
       "  X398.558_2.24 X385.535_2.16 X789.573_2.45 X833.269_2.44 X314.194_2.14\n",
       "1 -213004.48       973.7614    80621.349     82417.605    -179648.49   \n",
       "2  110153.47    274633.2421   -13130.354    -13422.901     -57312.49   \n",
       "3  208456.39    423219.2091   -92442.857    -94502.498      21682.82   \n",
       "4   81581.99    423911.1366   -43939.370    -44918.346      36503.23   \n",
       "5 -112070.94    332326.1378     8200.077      8382.776      10040.91   \n",
       "6 -328078.12    134317.1274   101098.985    103351.485     -98722.69   \n",
       "  X330.263_2.78 X324.289_2.95 X349.199_2.6 X714.505_3.61 X750.541_3.6\n",
       "1 -1235931       94824.75       54553.41   -141574.1      5042526    \n",
       "2 -1607499      201685.47     -412865.51   1841301.0     10725093    \n",
       "3 11719855      270056.44     -555820.17   2512390.3     14360878    \n",
       "4 -1501848      276638.41     -445741.37   1993090.8     14710889    \n",
       "5 -1122290      245624.05     -260009.68   1128051.2     13061629    \n",
       "6  -663183      163578.18     -135737.54    338128.9      8698649    "
      ]
     },
     "metadata": {},
     "output_type": "display_data"
    }
   ],
   "source": [
    "features<-read.csv(\"C:/Users/Laura-Isobel_PC/Documents/projects as faculty/Toxoplasma/Mahbobeh Toxo stuff/11-07-2022_random_forest_after_BER/cecum/cecum_0deleted_waveICA_bacheffect_removed.csv\")\n",
    "head(features)\n",
    "\n",
    "columns_to_keep<-selected_rows$X\n",
    "sig_by_RF <- features %>%\n",
    "  select(all_of(columns_to_keep))\n",
    "dim(selected_rows)\n",
    "dim(features)\n",
    "dim(sig_by_RF)\n",
    "head(sig_by_RF)\n",
    "#number of columns in sig_by_RF should match with the number of rows in selected_rows"
   ]
  },
  {
   "cell_type": "code",
   "execution_count": 8,
   "metadata": {},
   "outputs": [
    {
     "data": {
      "text/html": [
       "<style>\n",
       ".list-inline {list-style: none; margin:0; padding: 0}\n",
       ".list-inline>li {display: inline-block}\n",
       ".list-inline>li:not(:last-child)::after {content: \"\\00b7\"; padding: 0 .5ex}\n",
       "</style>\n",
       "<ol class=list-inline><li>61</li><li>267</li></ol>\n"
      ],
      "text/latex": [
       "\\begin{enumerate*}\n",
       "\\item 61\n",
       "\\item 267\n",
       "\\end{enumerate*}\n"
      ],
      "text/markdown": [
       "1. 61\n",
       "2. 267\n",
       "\n",
       "\n"
      ],
      "text/plain": [
       "[1]  61 267"
      ]
     },
     "metadata": {},
     "output_type": "display_data"
    },
    {
     "data": {
      "text/html": [
       "<table class=\"dataframe\">\n",
       "<caption>A data.frame: 6 × 267</caption>\n",
       "<thead>\n",
       "\t<tr><th></th><th scope=col>sample.id</th><th scope=col>injection_order</th><th scope=col>organ_content</th><th scope=col>Mouse_nu</th><th scope=col>Days.post.infection</th><th scope=col>Condition</th><th scope=col>genotypes</th><th scope=col>gen_con_DPI</th><th scope=col>Box.</th><th scope=col>Tissue.Collection.Date</th><th scope=col>...</th><th scope=col>X398.558_2.24</th><th scope=col>X385.535_2.16</th><th scope=col>X789.573_2.45</th><th scope=col>X833.269_2.44</th><th scope=col>X314.194_2.14</th><th scope=col>X330.263_2.78</th><th scope=col>X324.289_2.95</th><th scope=col>X349.199_2.6</th><th scope=col>X714.505_3.61</th><th scope=col>X750.541_3.6</th></tr>\n",
       "\t<tr><th></th><th scope=col>&lt;fct&gt;</th><th scope=col>&lt;int&gt;</th><th scope=col>&lt;fct&gt;</th><th scope=col>&lt;fct&gt;</th><th scope=col>&lt;fct&gt;</th><th scope=col>&lt;fct&gt;</th><th scope=col>&lt;fct&gt;</th><th scope=col>&lt;fct&gt;</th><th scope=col>&lt;fct&gt;</th><th scope=col>&lt;fct&gt;</th><th scope=col>...</th><th scope=col>&lt;dbl&gt;</th><th scope=col>&lt;dbl&gt;</th><th scope=col>&lt;dbl&gt;</th><th scope=col>&lt;dbl&gt;</th><th scope=col>&lt;dbl&gt;</th><th scope=col>&lt;dbl&gt;</th><th scope=col>&lt;dbl&gt;</th><th scope=col>&lt;dbl&gt;</th><th scope=col>&lt;dbl&gt;</th><th scope=col>&lt;dbl&gt;</th></tr>\n",
       "</thead>\n",
       "<tbody>\n",
       "\t<tr><th scope=row>1</th><td>cecum_30_15_INFECTED_IL1R_INF_3_10_14_2021_3_181_F4  </td><td>42</td><td>cecum   </td><td>30      </td><td>15      </td><td>INFECTED  </td><td>IL1R_INF</td><td>IL1R_INF_15      </td><td>3       </td><td>10_14_2021</td><td>...</td><td>-213004.48</td><td>   973.7614</td><td> 80621.349</td><td> 82417.605</td><td>-179648.49</td><td>-1235931</td><td> 94824.75</td><td>  54553.41</td><td>-141574.1</td><td> 5042526</td></tr>\n",
       "\t<tr><th scope=row>2</th><td>cecum_25_15_INFECTED_WT_INF_2_10_14_2021_2_181_A4    </td><td>47</td><td>cecum   </td><td>25      </td><td>15      </td><td>INFECTED  </td><td>WT_INF  </td><td>WT_INF_15        </td><td>2       </td><td>10_14_2021</td><td>...</td><td> 110153.47</td><td>274633.2421</td><td>-13130.354</td><td>-13422.901</td><td> -57312.49</td><td>-1607499</td><td>201685.47</td><td>-412865.51</td><td>1841301.0</td><td>10725093</td></tr>\n",
       "\t<tr><th scope=row>3</th><td>QC_cecum_2_2                                         </td><td>66</td><td>QC_cecum</td><td>QC_cecum</td><td>QC_cecum</td><td>QC_cecum  </td><td>QC_cecum</td><td>QC_cecum_QC_cecum</td><td>QC_cecum</td><td>QC_cecum  </td><td>...</td><td> 208456.39</td><td>423219.2091</td><td>-92442.857</td><td>-94502.498</td><td>  21682.82</td><td>11719855</td><td>270056.44</td><td>-555820.17</td><td>2512390.3</td><td>14360878</td></tr>\n",
       "\t<tr><th scope=row>4</th><td>cecum_11_15_UNINFECTED_WT_UNINF_3_10_7_2021_13_179_C4</td><td>69</td><td>cecum   </td><td>11      </td><td>15      </td><td>UNINFECTED</td><td>WT_UNINF</td><td>WT_UNINF_15      </td><td>3       </td><td>10_7_2021 </td><td>...</td><td>  81581.99</td><td>423911.1366</td><td>-43939.370</td><td>-44918.346</td><td>  36503.23</td><td>-1501848</td><td>276638.41</td><td>-445741.37</td><td>1993090.8</td><td>14710889</td></tr>\n",
       "\t<tr><th scope=row>5</th><td>cecum_26_15_INFECTED_IL1R_INF_2_10_14_2021_2_181_B4  </td><td>85</td><td>cecum   </td><td>26      </td><td>15      </td><td>INFECTED  </td><td>IL1R_INF</td><td>IL1R_INF_15      </td><td>2       </td><td>10_14_2021</td><td>...</td><td>-112070.94</td><td>332326.1378</td><td>  8200.077</td><td>  8382.776</td><td>  10040.91</td><td>-1122290</td><td>245624.05</td><td>-260009.68</td><td>1128051.2</td><td>13061629</td></tr>\n",
       "\t<tr><th scope=row>6</th><td>cecum_22_15_INFECTED_IL1R_INF_1_10_14_2021_1_180_F4  </td><td>96</td><td>cecum   </td><td>22      </td><td>15      </td><td>INFECTED  </td><td>IL1R_INF</td><td>IL1R_INF_15      </td><td>1       </td><td>10_14_2021</td><td>...</td><td>-328078.12</td><td>134317.1274</td><td>101098.985</td><td>103351.485</td><td> -98722.69</td><td> -663183</td><td>163578.18</td><td>-135737.54</td><td> 338128.9</td><td> 8698649</td></tr>\n",
       "</tbody>\n",
       "</table>\n"
      ],
      "text/latex": [
       "A data.frame: 6 × 267\n",
       "\\begin{tabular}{r|lllllllllllllllllllll}\n",
       "  & sample.id & injection\\_order & organ\\_content & Mouse\\_nu & Days.post.infection & Condition & genotypes & gen\\_con\\_DPI & Box. & Tissue.Collection.Date & ... & X398.558\\_2.24 & X385.535\\_2.16 & X789.573\\_2.45 & X833.269\\_2.44 & X314.194\\_2.14 & X330.263\\_2.78 & X324.289\\_2.95 & X349.199\\_2.6 & X714.505\\_3.61 & X750.541\\_3.6\\\\\n",
       "  & <fct> & <int> & <fct> & <fct> & <fct> & <fct> & <fct> & <fct> & <fct> & <fct> & ... & <dbl> & <dbl> & <dbl> & <dbl> & <dbl> & <dbl> & <dbl> & <dbl> & <dbl> & <dbl>\\\\\n",
       "\\hline\n",
       "\t1 & cecum\\_30\\_15\\_INFECTED\\_IL1R\\_INF\\_3\\_10\\_14\\_2021\\_3\\_181\\_F4   & 42 & cecum    & 30       & 15       & INFECTED   & IL1R\\_INF & IL1R\\_INF\\_15       & 3        & 10\\_14\\_2021 & ... & -213004.48 &    973.7614 &  80621.349 &  82417.605 & -179648.49 & -1235931 &  94824.75 &   54553.41 & -141574.1 &  5042526\\\\\n",
       "\t2 & cecum\\_25\\_15\\_INFECTED\\_WT\\_INF\\_2\\_10\\_14\\_2021\\_2\\_181\\_A4     & 47 & cecum    & 25       & 15       & INFECTED   & WT\\_INF   & WT\\_INF\\_15         & 2        & 10\\_14\\_2021 & ... &  110153.47 & 274633.2421 & -13130.354 & -13422.901 &  -57312.49 & -1607499 & 201685.47 & -412865.51 & 1841301.0 & 10725093\\\\\n",
       "\t3 & QC\\_cecum\\_2\\_2                                          & 66 & QC\\_cecum & QC\\_cecum & QC\\_cecum & QC\\_cecum   & QC\\_cecum & QC\\_cecum\\_QC\\_cecum & QC\\_cecum & QC\\_cecum   & ... &  208456.39 & 423219.2091 & -92442.857 & -94502.498 &   21682.82 & 11719855 & 270056.44 & -555820.17 & 2512390.3 & 14360878\\\\\n",
       "\t4 & cecum\\_11\\_15\\_UNINFECTED\\_WT\\_UNINF\\_3\\_10\\_7\\_2021\\_13\\_179\\_C4 & 69 & cecum    & 11       & 15       & UNINFECTED & WT\\_UNINF & WT\\_UNINF\\_15       & 3        & 10\\_7\\_2021  & ... &   81581.99 & 423911.1366 & -43939.370 & -44918.346 &   36503.23 & -1501848 & 276638.41 & -445741.37 & 1993090.8 & 14710889\\\\\n",
       "\t5 & cecum\\_26\\_15\\_INFECTED\\_IL1R\\_INF\\_2\\_10\\_14\\_2021\\_2\\_181\\_B4   & 85 & cecum    & 26       & 15       & INFECTED   & IL1R\\_INF & IL1R\\_INF\\_15       & 2        & 10\\_14\\_2021 & ... & -112070.94 & 332326.1378 &   8200.077 &   8382.776 &   10040.91 & -1122290 & 245624.05 & -260009.68 & 1128051.2 & 13061629\\\\\n",
       "\t6 & cecum\\_22\\_15\\_INFECTED\\_IL1R\\_INF\\_1\\_10\\_14\\_2021\\_1\\_180\\_F4   & 96 & cecum    & 22       & 15       & INFECTED   & IL1R\\_INF & IL1R\\_INF\\_15       & 1        & 10\\_14\\_2021 & ... & -328078.12 & 134317.1274 & 101098.985 & 103351.485 &  -98722.69 &  -663183 & 163578.18 & -135737.54 &  338128.9 &  8698649\\\\\n",
       "\\end{tabular}\n"
      ],
      "text/markdown": [
       "\n",
       "A data.frame: 6 × 267\n",
       "\n",
       "| <!--/--> | sample.id &lt;fct&gt; | injection_order &lt;int&gt; | organ_content &lt;fct&gt; | Mouse_nu &lt;fct&gt; | Days.post.infection &lt;fct&gt; | Condition &lt;fct&gt; | genotypes &lt;fct&gt; | gen_con_DPI &lt;fct&gt; | Box. &lt;fct&gt; | Tissue.Collection.Date &lt;fct&gt; | ... ... | X398.558_2.24 &lt;dbl&gt; | X385.535_2.16 &lt;dbl&gt; | X789.573_2.45 &lt;dbl&gt; | X833.269_2.44 &lt;dbl&gt; | X314.194_2.14 &lt;dbl&gt; | X330.263_2.78 &lt;dbl&gt; | X324.289_2.95 &lt;dbl&gt; | X349.199_2.6 &lt;dbl&gt; | X714.505_3.61 &lt;dbl&gt; | X750.541_3.6 &lt;dbl&gt; |\n",
       "|---|---|---|---|---|---|---|---|---|---|---|---|---|---|---|---|---|---|---|---|---|---|\n",
       "| 1 | cecum_30_15_INFECTED_IL1R_INF_3_10_14_2021_3_181_F4   | 42 | cecum    | 30       | 15       | INFECTED   | IL1R_INF | IL1R_INF_15       | 3        | 10_14_2021 | ... | -213004.48 |    973.7614 |  80621.349 |  82417.605 | -179648.49 | -1235931 |  94824.75 |   54553.41 | -141574.1 |  5042526 |\n",
       "| 2 | cecum_25_15_INFECTED_WT_INF_2_10_14_2021_2_181_A4     | 47 | cecum    | 25       | 15       | INFECTED   | WT_INF   | WT_INF_15         | 2        | 10_14_2021 | ... |  110153.47 | 274633.2421 | -13130.354 | -13422.901 |  -57312.49 | -1607499 | 201685.47 | -412865.51 | 1841301.0 | 10725093 |\n",
       "| 3 | QC_cecum_2_2                                          | 66 | QC_cecum | QC_cecum | QC_cecum | QC_cecum   | QC_cecum | QC_cecum_QC_cecum | QC_cecum | QC_cecum   | ... |  208456.39 | 423219.2091 | -92442.857 | -94502.498 |   21682.82 | 11719855 | 270056.44 | -555820.17 | 2512390.3 | 14360878 |\n",
       "| 4 | cecum_11_15_UNINFECTED_WT_UNINF_3_10_7_2021_13_179_C4 | 69 | cecum    | 11       | 15       | UNINFECTED | WT_UNINF | WT_UNINF_15       | 3        | 10_7_2021  | ... |   81581.99 | 423911.1366 | -43939.370 | -44918.346 |   36503.23 | -1501848 | 276638.41 | -445741.37 | 1993090.8 | 14710889 |\n",
       "| 5 | cecum_26_15_INFECTED_IL1R_INF_2_10_14_2021_2_181_B4   | 85 | cecum    | 26       | 15       | INFECTED   | IL1R_INF | IL1R_INF_15       | 2        | 10_14_2021 | ... | -112070.94 | 332326.1378 |   8200.077 |   8382.776 |   10040.91 | -1122290 | 245624.05 | -260009.68 | 1128051.2 | 13061629 |\n",
       "| 6 | cecum_22_15_INFECTED_IL1R_INF_1_10_14_2021_1_180_F4   | 96 | cecum    | 22       | 15       | INFECTED   | IL1R_INF | IL1R_INF_15       | 1        | 10_14_2021 | ... | -328078.12 | 134317.1274 | 101098.985 | 103351.485 |  -98722.69 |  -663183 | 163578.18 | -135737.54 |  338128.9 |  8698649 |\n",
       "\n"
      ],
      "text/plain": [
       "  sample.id                                             injection_order\n",
       "1 cecum_30_15_INFECTED_IL1R_INF_3_10_14_2021_3_181_F4   42             \n",
       "2 cecum_25_15_INFECTED_WT_INF_2_10_14_2021_2_181_A4     47             \n",
       "3 QC_cecum_2_2                                          66             \n",
       "4 cecum_11_15_UNINFECTED_WT_UNINF_3_10_7_2021_13_179_C4 69             \n",
       "5 cecum_26_15_INFECTED_IL1R_INF_2_10_14_2021_2_181_B4   85             \n",
       "6 cecum_22_15_INFECTED_IL1R_INF_1_10_14_2021_1_180_F4   96             \n",
       "  organ_content Mouse_nu Days.post.infection Condition  genotypes\n",
       "1 cecum         30       15                  INFECTED   IL1R_INF \n",
       "2 cecum         25       15                  INFECTED   WT_INF   \n",
       "3 QC_cecum      QC_cecum QC_cecum            QC_cecum   QC_cecum \n",
       "4 cecum         11       15                  UNINFECTED WT_UNINF \n",
       "5 cecum         26       15                  INFECTED   IL1R_INF \n",
       "6 cecum         22       15                  INFECTED   IL1R_INF \n",
       "  gen_con_DPI       Box.     Tissue.Collection.Date ... X398.558_2.24\n",
       "1 IL1R_INF_15       3        10_14_2021             ... -213004.48   \n",
       "2 WT_INF_15         2        10_14_2021             ...  110153.47   \n",
       "3 QC_cecum_QC_cecum QC_cecum QC_cecum               ...  208456.39   \n",
       "4 WT_UNINF_15       3        10_7_2021              ...   81581.99   \n",
       "5 IL1R_INF_15       2        10_14_2021             ... -112070.94   \n",
       "6 IL1R_INF_15       1        10_14_2021             ... -328078.12   \n",
       "  X385.535_2.16 X789.573_2.45 X833.269_2.44 X314.194_2.14 X330.263_2.78\n",
       "1    973.7614    80621.349     82417.605    -179648.49    -1235931     \n",
       "2 274633.2421   -13130.354    -13422.901     -57312.49    -1607499     \n",
       "3 423219.2091   -92442.857    -94502.498      21682.82    11719855     \n",
       "4 423911.1366   -43939.370    -44918.346      36503.23    -1501848     \n",
       "5 332326.1378     8200.077      8382.776      10040.91    -1122290     \n",
       "6 134317.1274   101098.985    103351.485     -98722.69     -663183     \n",
       "  X324.289_2.95 X349.199_2.6 X714.505_3.61 X750.541_3.6\n",
       "1  94824.75       54553.41   -141574.1      5042526    \n",
       "2 201685.47     -412865.51   1841301.0     10725093    \n",
       "3 270056.44     -555820.17   2512390.3     14360878    \n",
       "4 276638.41     -445741.37   1993090.8     14710889    \n",
       "5 245624.05     -260009.68   1128051.2     13061629    \n",
       "6 163578.18     -135737.54    338128.9      8698649    "
      ]
     },
     "metadata": {},
     "output_type": "display_data"
    }
   ],
   "source": [
    "\n",
    "sig_by_RF_wMeta<-cbind(features[1:13], sig_by_RF)\n",
    "dim(sig_by_RF_wMeta)\n",
    "head(sig_by_RF_wMeta)\n",
    "#re-attaching metadata"
   ]
  },
  {
   "cell_type": "code",
   "execution_count": 9,
   "metadata": {},
   "outputs": [
    {
     "data": {
      "text/plain": [
       "\n",
       "  IL1R_INF IL1R_UNINF   QC_cecum     WT_INF   WT_UNINF \n",
       "        10         10          5         16         20 "
      ]
     },
     "metadata": {},
     "output_type": "display_data"
    },
    {
     "data": {
      "text/plain": [
       "\n",
       "  WT_INF WT_UNINF \n",
       "      16       20 "
      ]
     },
     "metadata": {},
     "output_type": "display_data"
    }
   ],
   "source": [
    "sig_by_RF_wMeta_WT<-droplevels(subset(sig_by_RF_wMeta, sig_by_RF_wMeta$genotypes==c(\"WT_INF\")|sig_by_RF_wMeta$genotypes==c(\"WT_UNINF\")))\n",
    "table(sig_by_RF_wMeta$genotypes)\n",
    "table(sig_by_RF_wMeta_WT$genotypes)\n",
    "#make sure that you've retained all the WT"
   ]
  },
  {
   "cell_type": "code",
   "execution_count": 11,
   "metadata": {
    "scrolled": true
   },
   "outputs": [],
   "source": [
    "# Select columns to calculate spearman correlation (from column 14 where your data starts, to the end)\n",
    "columns_to_correlate <- names(sig_by_RF_wMeta_WT)[14:ncol(sig_by_RF_wMeta_WT)]\n",
    "\n",
    "# Initialize vectors to store results\n",
    "correlations <- numeric(length(columns_to_correlate))\n",
    "p_values <- numeric(length(columns_to_correlate))\n",
    "\n",
    "# Calculate spearman correlation and p-values for each pair of columns\n",
    "for (i in 1:length(columns_to_correlate)) {\n",
    "  colname <- columns_to_correlate[i]\n",
    "  correlation_result <- cor.test(sig_by_RF_wMeta_WT$X209.091_0.47, sig_by_RF_wMeta_WT[[colname]], method = \"spearman\")\n",
    "  correlations[i] <- correlation_result$estimate\n",
    "  p_values[i] <- correlation_result$p.value\n",
    "}\n",
    "\n",
    "# Perform FDR correction on p-values\n",
    "adjusted_p_values <- p.adjust(p_values, method = \"fdr\")\n",
    "\n",
    "# Create a data frame to store the results\n",
    "correlation_df <- data.frame(Column = columns_to_correlate, \n",
    "                             spearman_Correlation = correlations, pval=p_values,\n",
    "                             Adjusted_P_Value = adjusted_p_values)\n",
    "\n",
    "write.csv(correlation_df, \"RF_output_correlated_to_kynurenine.csv\", row.names=FALSE)"
   ]
  },
  {
   "cell_type": "code",
   "execution_count": 26,
   "metadata": {},
   "outputs": [
    {
     "name": "stdout",
     "output_type": "stream",
     "text": [
      "[1] 103\n"
     ]
    },
    {
     "data": {
      "text/html": [
       "<style>\n",
       ".list-inline {list-style: none; margin:0; padding: 0}\n",
       ".list-inline>li {display: inline-block}\n",
       ".list-inline>li:not(:last-child)::after {content: \"\\00b7\"; padding: 0 .5ex}\n",
       "</style>\n",
       "<ol class=list-inline><li>254</li><li>4</li></ol>\n"
      ],
      "text/latex": [
       "\\begin{enumerate*}\n",
       "\\item 254\n",
       "\\item 4\n",
       "\\end{enumerate*}\n"
      ],
      "text/markdown": [
       "1. 254\n",
       "2. 4\n",
       "\n",
       "\n"
      ],
      "text/plain": [
       "[1] 254   4"
      ]
     },
     "metadata": {},
     "output_type": "display_data"
    },
    {
     "data": {
      "text/html": [
       "40.1574803149606"
      ],
      "text/latex": [
       "40.1574803149606"
      ],
      "text/markdown": [
       "40.1574803149606"
      ],
      "text/plain": [
       "[1] 40.15748"
      ]
     },
     "metadata": {},
     "output_type": "display_data"
    }
   ],
   "source": [
    "# Set the cutoff value\n",
    "cutoff_value <- 0.05\n",
    "\n",
    "# Count the number of rows in column A that exceed the cutoff\n",
    "count_sig_corr <- sum(correlation_df$Adjusted_P_Value <= cutoff_value)\n",
    "\n",
    "print(count_sig_corr)\n",
    "dim(correlation_df)\n",
    "ratio=100*(count_sig_corr-1)/nrow(correlation_df)\n",
    "ratio\n",
    "#need to do minus 1 because one of the correlated features is kynurenine itself."
   ]
  },
  {
   "cell_type": "code",
   "execution_count": 21,
   "metadata": {},
   "outputs": [
    {
     "data": {
      "text/plain": [
       "\n",
       "Call:\n",
       "lm(formula = sig_by_RF_wMeta_WT$X388.222_2.14 ~ sig_by_RF_wMeta_WT$X209.091_0.47)\n",
       "\n",
       "Residuals:\n",
       "     Min       1Q   Median       3Q      Max \n",
       "-4613270 -2803146 -1500204  1271536 11756192 \n",
       "\n",
       "Coefficients:\n",
       "                                   Estimate Std. Error t value Pr(>|t|)    \n",
       "(Intercept)                       9.012e+06  8.568e+05  10.519 3.15e-12 ***\n",
       "sig_by_RF_wMeta_WT$X209.091_0.47 -8.073e-02  1.946e-02  -4.147 0.000212 ***\n",
       "---\n",
       "Signif. codes:  0 '***' 0.001 '**' 0.01 '*' 0.05 '.' 0.1 ' ' 1\n",
       "\n",
       "Residual standard error: 3965000 on 34 degrees of freedom\n",
       "Multiple R-squared:  0.3359,\tAdjusted R-squared:  0.3164 \n",
       "F-statistic:  17.2 on 1 and 34 DF,  p-value: 0.0002119\n"
      ]
     },
     "metadata": {},
     "output_type": "display_data"
    },
    {
     "data": {
      "image/png": "[encoded data removed]",
      "text/plain": [
       "plot without title"
      ]
     },
     "metadata": {
      "image/png": {
       "height": 420,
       "width": 420
      }
     },
     "output_type": "display_data"
    }
   ],
   "source": [
    "plot(sig_by_RF_wMeta_WT$X388.222_2.14~sig_by_RF_wMeta_WT$X209.091_0.47, col=sig_by_RF_wMeta_WT$Condition)\n",
    "fit<-lm(sig_by_RF_wMeta_WT$X388.222_2.14~sig_by_RF_wMeta_WT$X209.091_0.47)\n",
    "abline(fit)\n",
    "summary(fit)"
   ]
  },
  {
   "cell_type": "code",
   "execution_count": 30,
   "metadata": {},
   "outputs": [
    {
     "data": {
      "text/plain": [
       "\n",
       "Call:\n",
       "lm(formula = sig_by_RF_wMeta_WT$X584.206_2.03 ~ sig_by_RF_wMeta_WT$X209.091_0.47)\n",
       "\n",
       "Residuals:\n",
       "      Min        1Q    Median        3Q       Max \n",
       "-22214195  -7194683  -1677913   6506271  34281830 \n",
       "\n",
       "Coefficients:\n",
       "                                   Estimate Std. Error t value Pr(>|t|)    \n",
       "(Intercept)                       1.700e+07  2.676e+06   6.353    3e-07 ***\n",
       "sig_by_RF_wMeta_WT$X209.091_0.47 -1.849e-01  6.080e-02  -3.041  0.00451 ** \n",
       "---\n",
       "Signif. codes:  0 '***' 0.001 '**' 0.01 '*' 0.05 '.' 0.1 ' ' 1\n",
       "\n",
       "Residual standard error: 12390000 on 34 degrees of freedom\n",
       "Multiple R-squared:  0.2139,\tAdjusted R-squared:  0.1908 \n",
       "F-statistic:  9.25 on 1 and 34 DF,  p-value: 0.004514\n"
      ]
     },
     "metadata": {},
     "output_type": "display_data"
    },
    {
     "data": {
      "image/png": "[encoded data removed]",
      "text/plain": [
       "plot without title"
      ]
     },
     "metadata": {
      "image/png": {
       "height": 420,
       "width": 420
      }
     },
     "output_type": "display_data"
    }
   ],
   "source": [
    "plot(sig_by_RF_wMeta_WT$X584.206_2.03~sig_by_RF_wMeta_WT$X209.091_0.47, col=sig_by_RF_wMeta_WT$Condition)\n",
    "fit<-lm(sig_by_RF_wMeta_WT$X584.206_2.03~sig_by_RF_wMeta_WT$X209.091_0.47)\n",
    "abline(fit)\n",
    "summary(fit)"
   ]
  },
  {
   "cell_type": "code",
   "execution_count": 31,
   "metadata": {},
   "outputs": [
    {
     "data": {
      "text/plain": [
       "\n",
       "  INFECTED UNINFECTED \n",
       "        16         20 "
      ]
     },
     "metadata": {},
     "output_type": "display_data"
    },
    {
     "data": {
      "text/plain": [
       "\n",
       "INFECTED \n",
       "      16 "
      ]
     },
     "metadata": {},
     "output_type": "display_data"
    }
   ],
   "source": [
    "sig_by_RF_wMeta_WT_inf<-droplevels(subset(sig_by_RF_wMeta_WT, sig_by_RF_wMeta_WT$Condition==c(\"INFECTED\")))\n",
    "table(sig_by_RF_wMeta_WT$Condition)\n",
    "table(sig_by_RF_wMeta_WT_inf$Condition)"
   ]
  },
  {
   "cell_type": "code",
   "execution_count": 23,
   "metadata": {},
   "outputs": [
    {
     "data": {
      "text/plain": [
       "\n",
       "Call:\n",
       "lm(formula = sig_by_RF_wMeta_WT_inf$X388.222_2.14 ~ sig_by_RF_wMeta_WT_inf$X209.091_0.47)\n",
       "\n",
       "Residuals:\n",
       "     Min       1Q   Median       3Q      Max \n",
       "-3321457  -380869   450569   838806  2310453 \n",
       "\n",
       "Coefficients:\n",
       "                                       Estimate Std. Error t value Pr(>|t|)    \n",
       "(Intercept)                           5.109e+06  7.424e+05   6.881 7.55e-06 ***\n",
       "sig_by_RF_wMeta_WT_inf$X209.091_0.47 -2.755e-02  1.159e-02  -2.376   0.0323 *  \n",
       "---\n",
       "Signif. codes:  0 '***' 0.001 '**' 0.01 '*' 0.05 '.' 0.1 ' ' 1\n",
       "\n",
       "Residual standard error: 1512000 on 14 degrees of freedom\n",
       "Multiple R-squared:  0.2874,\tAdjusted R-squared:  0.2365 \n",
       "F-statistic: 5.647 on 1 and 14 DF,  p-value: 0.03229\n"
      ]
     },
     "metadata": {},
     "output_type": "display_data"
    },
    {
     "data": {
      "image/png": "[encoded data removed]",
      "text/plain": [
       "plot without title"
      ]
     },
     "metadata": {
      "image/png": {
       "height": 420,
       "width": 420
      }
     },
     "output_type": "display_data"
    }
   ],
   "source": [
    "plot(sig_by_RF_wMeta_WT_inf$X388.222_2.14~sig_by_RF_wMeta_WT_inf$X209.091_0.47, col=sig_by_RF_wMeta_WT_inf$Condition)\n",
    "fit<-lm(sig_by_RF_wMeta_WT_inf$X388.222_2.14~sig_by_RF_wMeta_WT_inf$X209.091_0.47)\n",
    "abline(fit)\n",
    "summary(fit)"
   ]
  },
  {
   "cell_type": "code",
   "execution_count": 32,
   "metadata": {},
   "outputs": [
    {
     "data": {
      "text/plain": [
       "\n",
       "Call:\n",
       "lm(formula = sig_by_RF_wMeta_WT_inf$X584.206_2.03 ~ sig_by_RF_wMeta_WT_inf$X209.091_0.47)\n",
       "\n",
       "Residuals:\n",
       "      Min        1Q    Median        3Q       Max \n",
       "-14632588  -6754770  -1569095   6388489  16387788 \n",
       "\n",
       "Coefficients:\n",
       "                                       Estimate Std. Error t value Pr(>|t|)   \n",
       "(Intercept)                           1.742e+07  4.432e+06   3.930  0.00151 **\n",
       "sig_by_RF_wMeta_WT_inf$X209.091_0.47 -1.833e-01  6.920e-02  -2.649  0.01908 * \n",
       "---\n",
       "Signif. codes:  0 '***' 0.001 '**' 0.01 '*' 0.05 '.' 0.1 ' ' 1\n",
       "\n",
       "Residual standard error: 9027000 on 14 degrees of freedom\n",
       "Multiple R-squared:  0.3338,\tAdjusted R-squared:  0.2863 \n",
       "F-statistic: 7.016 on 1 and 14 DF,  p-value: 0.01908\n"
      ]
     },
     "metadata": {},
     "output_type": "display_data"
    },
    {
     "data": {
      "image/png": "[encoded data removed]",
      "text/plain": [
       "plot without title"
      ]
     },
     "metadata": {
      "image/png": {
       "height": 420,
       "width": 420
      }
     },
     "output_type": "display_data"
    }
   ],
   "source": [
    "plot(sig_by_RF_wMeta_WT_inf$X584.206_2.03~sig_by_RF_wMeta_WT_inf$X209.091_0.47, col=sig_by_RF_wMeta_WT_inf$Condition)\n",
    "fit<-lm(sig_by_RF_wMeta_WT_inf$X584.206_2.03~sig_by_RF_wMeta_WT_inf$X209.091_0.47)\n",
    "abline(fit)\n",
    "summary(fit)"
   ]
  },
  {
   "cell_type": "code",
   "execution_count": 24,
   "metadata": {},
   "outputs": [
    {
     "data": {
      "text/plain": [
       "\n",
       "Call:\n",
       "lm(formula = sig_by_RF_wMeta_WT$X550.278_2.53 ~ sig_by_RF_wMeta_WT$X209.091_0.47)\n",
       "\n",
       "Residuals:\n",
       "     Min       1Q   Median       3Q      Max \n",
       "-3565208 -1626315  -685554  -273559 13298136 \n",
       "\n",
       "Coefficients:\n",
       "                                   Estimate Std. Error t value Pr(>|t|)\n",
       "(Intercept)                      -7.252e+05  8.539e+05  -0.849    0.402\n",
       "sig_by_RF_wMeta_WT$X209.091_0.47 -4.617e-03  1.940e-02  -0.238    0.813\n",
       "\n",
       "Residual standard error: 3952000 on 34 degrees of freedom\n",
       "Multiple R-squared:  0.001663,\tAdjusted R-squared:  -0.0277 \n",
       "F-statistic: 0.05664 on 1 and 34 DF,  p-value: 0.8133\n"
      ]
     },
     "metadata": {},
     "output_type": "display_data"
    },
    {
     "data": {
      "image/png": "[encoded data removed]",
      "text/plain": [
       "plot without title"
      ]
     },
     "metadata": {
      "image/png": {
       "height": 420,
       "width": 420
      }
     },
     "output_type": "display_data"
    }
   ],
   "source": [
    "plot(sig_by_RF_wMeta_WT$X550.278_2.53~sig_by_RF_wMeta_WT$X209.091_0.47, col=sig_by_RF_wMeta_WT$Condition)\n",
    "fit<-lm(sig_by_RF_wMeta_WT$X550.278_2.53~sig_by_RF_wMeta_WT$X209.091_0.47)\n",
    "abline(fit)\n",
    "summary(fit)"
   ]
  },
  {
   "cell_type": "code",
   "execution_count": null,
   "metadata": {},
   "outputs": [],
   "source": []
  }
 ],
 "metadata": {
  "kernelspec": {
   "display_name": "Python 3 (ipykernel)",
   "language": "python",
   "name": "python3"
  },
  "language_info": {
   "codemirror_mode": {
    "name": "ipython",
    "version": 3
   },
   "file_extension": ".py",
   "mimetype": "text/x-python",
   "name": "python",
   "nbconvert_exporter": "python",
   "pygments_lexer": "ipython3",
   "version": "3.12.4"
  }
 },
 "nbformat": 4,
 "nbformat_minor": 4
}
