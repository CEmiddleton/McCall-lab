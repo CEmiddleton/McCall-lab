{
 "cells": [
  {
   "cell_type": "code",
   "execution_count": 2,
   "metadata": {},
   "outputs": [
    {
     "data": {
      "text/html": [
       "<table class=\"dataframe\">\n",
       "<caption>A data.frame: 6 × 2</caption>\n",
       "<thead>\n",
       "\t<tr><th></th><th scope=col>X</th><th scope=col>MeanDecreaseAccuracy</th></tr>\n",
       "\t<tr><th></th><th scope=col>&lt;chr&gt;</th><th scope=col>&lt;dbl&gt;</th></tr>\n",
       "</thead>\n",
       "<tbody>\n",
       "\t<tr><th scope=row>1</th><td>X141.958_0.22</td><td> 0.0000</td></tr>\n",
       "\t<tr><th scope=row>2</th><td>X228.195_2.62</td><td>-1.0005</td></tr>\n",
       "\t<tr><th scope=row>3</th><td>X113.963_0.22</td><td> 1.0005</td></tr>\n",
       "\t<tr><th scope=row>4</th><td>X404.206_2.67</td><td> 0.0000</td></tr>\n",
       "\t<tr><th scope=row>5</th><td>X343.294_2.64</td><td> 0.0000</td></tr>\n",
       "\t<tr><th scope=row>6</th><td>X409.161_2.66</td><td> 0.0000</td></tr>\n",
       "</tbody>\n",
       "</table>\n"
      ],
      "text/latex": [
       "A data.frame: 6 × 2\n",
       "\\begin{tabular}{r|ll}\n",
       "  & X & MeanDecreaseAccuracy\\\\\n",
       "  & <chr> & <dbl>\\\\\n",
       "\\hline\n",
       "\t1 & X141.958\\_0.22 &  0.0000\\\\\n",
       "\t2 & X228.195\\_2.62 & -1.0005\\\\\n",
       "\t3 & X113.963\\_0.22 &  1.0005\\\\\n",
       "\t4 & X404.206\\_2.67 &  0.0000\\\\\n",
       "\t5 & X343.294\\_2.64 &  0.0000\\\\\n",
       "\t6 & X409.161\\_2.66 &  0.0000\\\\\n",
       "\\end{tabular}\n"
      ],
      "text/markdown": [
       "\n",
       "A data.frame: 6 × 2\n",
       "\n",
       "| <!--/--> | X &lt;chr&gt; | MeanDecreaseAccuracy &lt;dbl&gt; |\n",
       "|---|---|---|\n",
       "| 1 | X141.958_0.22 |  0.0000 |\n",
       "| 2 | X228.195_2.62 | -1.0005 |\n",
       "| 3 | X113.963_0.22 |  1.0005 |\n",
       "| 4 | X404.206_2.67 |  0.0000 |\n",
       "| 5 | X343.294_2.64 |  0.0000 |\n",
       "| 6 | X409.161_2.66 |  0.0000 |\n",
       "\n"
      ],
      "text/plain": [
       "  X             MeanDecreaseAccuracy\n",
       "1 X141.958_0.22  0.0000             \n",
       "2 X228.195_2.62 -1.0005             \n",
       "3 X113.963_0.22  1.0005             \n",
       "4 X404.206_2.67  0.0000             \n",
       "5 X343.294_2.64  0.0000             \n",
       "6 X409.161_2.66  0.0000             "
      ]
     },
     "metadata": {},
     "output_type": "display_data"
    }
   ],
   "source": [
    "library(dplyr)\n",
    "RF_output<-read.csv(\"varImp_rffit_heart_features_WT_15_INF_UNINF.csv\")\n",
    "head(RF_output)"
   ]
  },
  {
   "cell_type": "code",
   "execution_count": 3,
   "metadata": {
    "scrolled": true
   },
   "outputs": [
    {
     "data": {
      "text/html": [
       "<table class=\"dataframe\">\n",
       "<caption>A data.frame: 6 × 2</caption>\n",
       "<thead>\n",
       "\t<tr><th></th><th scope=col>X</th><th scope=col>MeanDecreaseAccuracy</th></tr>\n",
       "\t<tr><th></th><th scope=col>&lt;chr&gt;</th><th scope=col>&lt;dbl&gt;</th></tr>\n",
       "</thead>\n",
       "<tbody>\n",
       "\t<tr><th scope=row>3</th><td>X113.963_0.22</td><td>1.000500</td></tr>\n",
       "\t<tr><th scope=row>12</th><td>X131.533_5.63</td><td>1.000500</td></tr>\n",
       "\t<tr><th scope=row>17</th><td>X130.521_5.66</td><td>1.000500</td></tr>\n",
       "\t<tr><th scope=row>29</th><td>X496.339_2.81</td><td>1.000500</td></tr>\n",
       "\t<tr><th scope=row>36</th><td>X139.963_0.22</td><td>1.270295</td></tr>\n",
       "\t<tr><th scope=row>46</th><td>X300.2_2.15  </td><td>1.000500</td></tr>\n",
       "</tbody>\n",
       "</table>\n"
      ],
      "text/latex": [
       "A data.frame: 6 × 2\n",
       "\\begin{tabular}{r|ll}\n",
       "  & X & MeanDecreaseAccuracy\\\\\n",
       "  & <chr> & <dbl>\\\\\n",
       "\\hline\n",
       "\t3 & X113.963\\_0.22 & 1.000500\\\\\n",
       "\t12 & X131.533\\_5.63 & 1.000500\\\\\n",
       "\t17 & X130.521\\_5.66 & 1.000500\\\\\n",
       "\t29 & X496.339\\_2.81 & 1.000500\\\\\n",
       "\t36 & X139.963\\_0.22 & 1.270295\\\\\n",
       "\t46 & X300.2\\_2.15   & 1.000500\\\\\n",
       "\\end{tabular}\n"
      ],
      "text/markdown": [
       "\n",
       "A data.frame: 6 × 2\n",
       "\n",
       "| <!--/--> | X &lt;chr&gt; | MeanDecreaseAccuracy &lt;dbl&gt; |\n",
       "|---|---|---|\n",
       "| 3 | X113.963_0.22 | 1.000500 |\n",
       "| 12 | X131.533_5.63 | 1.000500 |\n",
       "| 17 | X130.521_5.66 | 1.000500 |\n",
       "| 29 | X496.339_2.81 | 1.000500 |\n",
       "| 36 | X139.963_0.22 | 1.270295 |\n",
       "| 46 | X300.2_2.15   | 1.000500 |\n",
       "\n"
      ],
      "text/plain": [
       "   X             MeanDecreaseAccuracy\n",
       "3  X113.963_0.22 1.000500            \n",
       "12 X131.533_5.63 1.000500            \n",
       "17 X130.521_5.66 1.000500            \n",
       "29 X496.339_2.81 1.000500            \n",
       "36 X139.963_0.22 1.270295            \n",
       "46 X300.2_2.15   1.000500            "
      ]
     },
     "metadata": {},
     "output_type": "display_data"
    },
    {
     "data": {
      "text/html": [
       "<style>\n",
       ".list-inline {list-style: none; margin:0; padding: 0}\n",
       ".list-inline>li {display: inline-block}\n",
       ".list-inline>li:not(:last-child)::after {content: \"\\00b7\"; padding: 0 .5ex}\n",
       "</style>\n",
       "<ol class=list-inline><li>221</li><li>2</li></ol>\n"
      ],
      "text/latex": [
       "\\begin{enumerate*}\n",
       "\\item 221\n",
       "\\item 2\n",
       "\\end{enumerate*}\n"
      ],
      "text/markdown": [
       "1. 221\n",
       "2. 2\n",
       "\n",
       "\n"
      ],
      "text/plain": [
       "[1] 221   2"
      ]
     },
     "metadata": {},
     "output_type": "display_data"
    }
   ],
   "source": [
    "# select those that met cutoff\n",
    "MeanDecrease_bigger_than_1 <- RF_output$MeanDecreaseAccuracy > 1\n",
    "\n",
    "# Use the logical vector to subset the DataFrame\n",
    "selected_rows <- RF_output[MeanDecrease_bigger_than_1, ]\n",
    "head(selected_rows)\n",
    "dim(selected_rows)"
   ]
  },
  {
   "cell_type": "code",
   "execution_count": 4,
   "metadata": {},
   "outputs": [
    {
     "data": {
      "text/html": [
       "<table class=\"dataframe\">\n",
       "<caption>A data.frame: 6 × 1945</caption>\n",
       "<thead>\n",
       "\t<tr><th></th><th scope=col>X</th><th scope=col>sample.id</th><th scope=col>injection_order</th><th scope=col>organ_content</th><th scope=col>Mouse_nu</th><th scope=col>Days.post.infection</th><th scope=col>Condition</th><th scope=col>genotypes</th><th scope=col>gen_con_DPI</th><th scope=col>Box.</th><th scope=col>⋯</th><th scope=col>X826.592_3.73</th><th scope=col>X854.552_3.17</th><th scope=col>X247.166_5.51</th><th scope=col>X295.226_2.59</th><th scope=col>X435.989_0.27</th><th scope=col>X369.351_3.65.1</th><th scope=col>X553.389_3.57</th><th scope=col>X756.551_3.87</th><th scope=col>X856.579_4.18</th><th scope=col>X814.533_3.65</th></tr>\n",
       "\t<tr><th></th><th scope=col>&lt;int&gt;</th><th scope=col>&lt;chr&gt;</th><th scope=col>&lt;int&gt;</th><th scope=col>&lt;chr&gt;</th><th scope=col>&lt;int&gt;</th><th scope=col>&lt;int&gt;</th><th scope=col>&lt;chr&gt;</th><th scope=col>&lt;chr&gt;</th><th scope=col>&lt;chr&gt;</th><th scope=col>&lt;int&gt;</th><th scope=col>⋯</th><th scope=col>&lt;dbl&gt;</th><th scope=col>&lt;dbl&gt;</th><th scope=col>&lt;dbl&gt;</th><th scope=col>&lt;dbl&gt;</th><th scope=col>&lt;dbl&gt;</th><th scope=col>&lt;dbl&gt;</th><th scope=col>&lt;dbl&gt;</th><th scope=col>&lt;dbl&gt;</th><th scope=col>&lt;dbl&gt;</th><th scope=col>&lt;dbl&gt;</th></tr>\n",
       "</thead>\n",
       "<tbody>\n",
       "\t<tr><th scope=row>1</th><td>56</td><td>heart_9_15_INFECTED_WT_INF_3_10_7_2021_3_179_A9  </td><td> 44</td><td>heart</td><td> 9</td><td>15</td><td>INFECTED</td><td>WT_INF</td><td>WT_INF_15</td><td>3</td><td>⋯</td><td>-1858071</td><td>4706207</td><td> -7098177</td><td>29350540</td><td>9361810</td><td>-23137328</td><td>124486774</td><td>-1562964</td><td>-2220622</td><td> -553652.0</td></tr>\n",
       "\t<tr><th scope=row>2</th><td> 8</td><td>heart_17_15_INFECTED_WT_INF_5_10_7_2021_5_180_A9 </td><td> 48</td><td>heart</td><td>17</td><td>15</td><td>INFECTED</td><td>WT_INF</td><td>WT_INF_15</td><td>5</td><td>⋯</td><td>-1967716</td><td>4711791</td><td> -6629256</td><td>29385360</td><td>9372917</td><td>-21608824</td><td>124634459</td><td>-1459711</td><td>-2351661</td><td> -586323.2</td></tr>\n",
       "\t<tr><th scope=row>3</th><td>17</td><td>heart_25_15_INFECTED_WT_INF_2_10_14_2021_2_181_A9</td><td>181</td><td>heart</td><td>25</td><td>15</td><td>INFECTED</td><td>WT_INF</td><td>WT_INF_15</td><td>2</td><td>⋯</td><td>-4314953</td><td>4048227</td><td>-10074439</td><td>25247005</td><td>8052924</td><td>-32838795</td><td>107082126</td><td>-2218314</td><td>-5156895</td><td>-1285732.4</td></tr>\n",
       "\t<tr><th scope=row>4</th><td>21</td><td>heart_29_15_INFECTED_WT_INF_3_10_14_2021_3_181_E9</td><td>211</td><td>heart</td><td>29</td><td>15</td><td>INFECTED</td><td>WT_INF</td><td>WT_INF_15</td><td>3</td><td>⋯</td><td>-2672520</td><td>4048944</td><td>-10270982</td><td>25251476</td><td>8054350</td><td>-33479452</td><td>107101088</td><td>-2261591</td><td>-3193987</td><td> -796334.3</td></tr>\n",
       "\t<tr><th scope=row>5</th><td> 4</td><td>heart_13_15_INFECTED_WT_INF_4_10_7_2021_4_179_E9 </td><td>273</td><td>heart</td><td>13</td><td>15</td><td>INFECTED</td><td>WT_INF</td><td>WT_INF_15</td><td>4</td><td>⋯</td><td>-1537118</td><td>4878062</td><td>-21635397</td><td>30422320</td><td>9703671</td><td>-70523073</td><td>129032599</td><td>-4763948</td><td>-1837043</td><td> -458017.2</td></tr>\n",
       "\t<tr><th scope=row>6</th><td>43</td><td>heart_5_15_INFECTED_WT_INF_2_10_7_2021_2_178_E9  </td><td>322</td><td>heart</td><td> 5</td><td>15</td><td>INFECTED</td><td>WT_INF</td><td>WT_INF_15</td><td>2</td><td>⋯</td><td>-2165961</td><td>4782347</td><td>-21941650</td><td>29825387</td><td>9513270</td><td>-71521338</td><td>126500779</td><td>-4831382</td><td>-2588587</td><td> -645394.3</td></tr>\n",
       "</tbody>\n",
       "</table>\n"
      ],
      "text/latex": [
       "A data.frame: 6 × 1945\n",
       "\\begin{tabular}{r|lllllllllllllllllllll}\n",
       "  & X & sample.id & injection\\_order & organ\\_content & Mouse\\_nu & Days.post.infection & Condition & genotypes & gen\\_con\\_DPI & Box. & ⋯ & X826.592\\_3.73 & X854.552\\_3.17 & X247.166\\_5.51 & X295.226\\_2.59 & X435.989\\_0.27 & X369.351\\_3.65.1 & X553.389\\_3.57 & X756.551\\_3.87 & X856.579\\_4.18 & X814.533\\_3.65\\\\\n",
       "  & <int> & <chr> & <int> & <chr> & <int> & <int> & <chr> & <chr> & <chr> & <int> & ⋯ & <dbl> & <dbl> & <dbl> & <dbl> & <dbl> & <dbl> & <dbl> & <dbl> & <dbl> & <dbl>\\\\\n",
       "\\hline\n",
       "\t1 & 56 & heart\\_9\\_15\\_INFECTED\\_WT\\_INF\\_3\\_10\\_7\\_2021\\_3\\_179\\_A9   &  44 & heart &  9 & 15 & INFECTED & WT\\_INF & WT\\_INF\\_15 & 3 & ⋯ & -1858071 & 4706207 &  -7098177 & 29350540 & 9361810 & -23137328 & 124486774 & -1562964 & -2220622 &  -553652.0\\\\\n",
       "\t2 &  8 & heart\\_17\\_15\\_INFECTED\\_WT\\_INF\\_5\\_10\\_7\\_2021\\_5\\_180\\_A9  &  48 & heart & 17 & 15 & INFECTED & WT\\_INF & WT\\_INF\\_15 & 5 & ⋯ & -1967716 & 4711791 &  -6629256 & 29385360 & 9372917 & -21608824 & 124634459 & -1459711 & -2351661 &  -586323.2\\\\\n",
       "\t3 & 17 & heart\\_25\\_15\\_INFECTED\\_WT\\_INF\\_2\\_10\\_14\\_2021\\_2\\_181\\_A9 & 181 & heart & 25 & 15 & INFECTED & WT\\_INF & WT\\_INF\\_15 & 2 & ⋯ & -4314953 & 4048227 & -10074439 & 25247005 & 8052924 & -32838795 & 107082126 & -2218314 & -5156895 & -1285732.4\\\\\n",
       "\t4 & 21 & heart\\_29\\_15\\_INFECTED\\_WT\\_INF\\_3\\_10\\_14\\_2021\\_3\\_181\\_E9 & 211 & heart & 29 & 15 & INFECTED & WT\\_INF & WT\\_INF\\_15 & 3 & ⋯ & -2672520 & 4048944 & -10270982 & 25251476 & 8054350 & -33479452 & 107101088 & -2261591 & -3193987 &  -796334.3\\\\\n",
       "\t5 &  4 & heart\\_13\\_15\\_INFECTED\\_WT\\_INF\\_4\\_10\\_7\\_2021\\_4\\_179\\_E9  & 273 & heart & 13 & 15 & INFECTED & WT\\_INF & WT\\_INF\\_15 & 4 & ⋯ & -1537118 & 4878062 & -21635397 & 30422320 & 9703671 & -70523073 & 129032599 & -4763948 & -1837043 &  -458017.2\\\\\n",
       "\t6 & 43 & heart\\_5\\_15\\_INFECTED\\_WT\\_INF\\_2\\_10\\_7\\_2021\\_2\\_178\\_E9   & 322 & heart &  5 & 15 & INFECTED & WT\\_INF & WT\\_INF\\_15 & 2 & ⋯ & -2165961 & 4782347 & -21941650 & 29825387 & 9513270 & -71521338 & 126500779 & -4831382 & -2588587 &  -645394.3\\\\\n",
       "\\end{tabular}\n"
      ],
      "text/markdown": [
       "\n",
       "A data.frame: 6 × 1945\n",
       "\n",
       "| <!--/--> | X &lt;int&gt; | sample.id &lt;chr&gt; | injection_order &lt;int&gt; | organ_content &lt;chr&gt; | Mouse_nu &lt;int&gt; | Days.post.infection &lt;int&gt; | Condition &lt;chr&gt; | genotypes &lt;chr&gt; | gen_con_DPI &lt;chr&gt; | Box. &lt;int&gt; | ⋯ ⋯ | X826.592_3.73 &lt;dbl&gt; | X854.552_3.17 &lt;dbl&gt; | X247.166_5.51 &lt;dbl&gt; | X295.226_2.59 &lt;dbl&gt; | X435.989_0.27 &lt;dbl&gt; | X369.351_3.65.1 &lt;dbl&gt; | X553.389_3.57 &lt;dbl&gt; | X756.551_3.87 &lt;dbl&gt; | X856.579_4.18 &lt;dbl&gt; | X814.533_3.65 &lt;dbl&gt; |\n",
       "|---|---|---|---|---|---|---|---|---|---|---|---|---|---|---|---|---|---|---|---|---|---|\n",
       "| 1 | 56 | heart_9_15_INFECTED_WT_INF_3_10_7_2021_3_179_A9   |  44 | heart |  9 | 15 | INFECTED | WT_INF | WT_INF_15 | 3 | ⋯ | -1858071 | 4706207 |  -7098177 | 29350540 | 9361810 | -23137328 | 124486774 | -1562964 | -2220622 |  -553652.0 |\n",
       "| 2 |  8 | heart_17_15_INFECTED_WT_INF_5_10_7_2021_5_180_A9  |  48 | heart | 17 | 15 | INFECTED | WT_INF | WT_INF_15 | 5 | ⋯ | -1967716 | 4711791 |  -6629256 | 29385360 | 9372917 | -21608824 | 124634459 | -1459711 | -2351661 |  -586323.2 |\n",
       "| 3 | 17 | heart_25_15_INFECTED_WT_INF_2_10_14_2021_2_181_A9 | 181 | heart | 25 | 15 | INFECTED | WT_INF | WT_INF_15 | 2 | ⋯ | -4314953 | 4048227 | -10074439 | 25247005 | 8052924 | -32838795 | 107082126 | -2218314 | -5156895 | -1285732.4 |\n",
       "| 4 | 21 | heart_29_15_INFECTED_WT_INF_3_10_14_2021_3_181_E9 | 211 | heart | 29 | 15 | INFECTED | WT_INF | WT_INF_15 | 3 | ⋯ | -2672520 | 4048944 | -10270982 | 25251476 | 8054350 | -33479452 | 107101088 | -2261591 | -3193987 |  -796334.3 |\n",
       "| 5 |  4 | heart_13_15_INFECTED_WT_INF_4_10_7_2021_4_179_E9  | 273 | heart | 13 | 15 | INFECTED | WT_INF | WT_INF_15 | 4 | ⋯ | -1537118 | 4878062 | -21635397 | 30422320 | 9703671 | -70523073 | 129032599 | -4763948 | -1837043 |  -458017.2 |\n",
       "| 6 | 43 | heart_5_15_INFECTED_WT_INF_2_10_7_2021_2_178_E9   | 322 | heart |  5 | 15 | INFECTED | WT_INF | WT_INF_15 | 2 | ⋯ | -2165961 | 4782347 | -21941650 | 29825387 | 9513270 | -71521338 | 126500779 | -4831382 | -2588587 |  -645394.3 |\n",
       "\n"
      ],
      "text/plain": [
       "  X  sample.id                                         injection_order\n",
       "1 56 heart_9_15_INFECTED_WT_INF_3_10_7_2021_3_179_A9    44            \n",
       "2  8 heart_17_15_INFECTED_WT_INF_5_10_7_2021_5_180_A9   48            \n",
       "3 17 heart_25_15_INFECTED_WT_INF_2_10_14_2021_2_181_A9 181            \n",
       "4 21 heart_29_15_INFECTED_WT_INF_3_10_14_2021_3_181_E9 211            \n",
       "5  4 heart_13_15_INFECTED_WT_INF_4_10_7_2021_4_179_E9  273            \n",
       "6 43 heart_5_15_INFECTED_WT_INF_2_10_7_2021_2_178_E9   322            \n",
       "  organ_content Mouse_nu Days.post.infection Condition genotypes gen_con_DPI\n",
       "1 heart          9       15                  INFECTED  WT_INF    WT_INF_15  \n",
       "2 heart         17       15                  INFECTED  WT_INF    WT_INF_15  \n",
       "3 heart         25       15                  INFECTED  WT_INF    WT_INF_15  \n",
       "4 heart         29       15                  INFECTED  WT_INF    WT_INF_15  \n",
       "5 heart         13       15                  INFECTED  WT_INF    WT_INF_15  \n",
       "6 heart          5       15                  INFECTED  WT_INF    WT_INF_15  \n",
       "  Box. ⋯ X826.592_3.73 X854.552_3.17 X247.166_5.51 X295.226_2.59 X435.989_0.27\n",
       "1 3    ⋯ -1858071      4706207        -7098177     29350540      9361810      \n",
       "2 5    ⋯ -1967716      4711791        -6629256     29385360      9372917      \n",
       "3 2    ⋯ -4314953      4048227       -10074439     25247005      8052924      \n",
       "4 3    ⋯ -2672520      4048944       -10270982     25251476      8054350      \n",
       "5 4    ⋯ -1537118      4878062       -21635397     30422320      9703671      \n",
       "6 2    ⋯ -2165961      4782347       -21941650     29825387      9513270      \n",
       "  X369.351_3.65.1 X553.389_3.57 X756.551_3.87 X856.579_4.18 X814.533_3.65\n",
       "1 -23137328       124486774     -1562964      -2220622       -553652.0   \n",
       "2 -21608824       124634459     -1459711      -2351661       -586323.2   \n",
       "3 -32838795       107082126     -2218314      -5156895      -1285732.4   \n",
       "4 -33479452       107101088     -2261591      -3193987       -796334.3   \n",
       "5 -70523073       129032599     -4763948      -1837043       -458017.2   \n",
       "6 -71521338       126500779     -4831382      -2588587       -645394.3   "
      ]
     },
     "metadata": {},
     "output_type": "display_data"
    },
    {
     "data": {
      "text/html": [
       "<style>\n",
       ".list-inline {list-style: none; margin:0; padding: 0}\n",
       ".list-inline>li {display: inline-block}\n",
       ".list-inline>li:not(:last-child)::after {content: \"\\00b7\"; padding: 0 .5ex}\n",
       "</style>\n",
       "<ol class=list-inline><li>221</li><li>2</li></ol>\n"
      ],
      "text/latex": [
       "\\begin{enumerate*}\n",
       "\\item 221\n",
       "\\item 2\n",
       "\\end{enumerate*}\n"
      ],
      "text/markdown": [
       "1. 221\n",
       "2. 2\n",
       "\n",
       "\n"
      ],
      "text/plain": [
       "[1] 221   2"
      ]
     },
     "metadata": {},
     "output_type": "display_data"
    },
    {
     "data": {
      "text/html": [
       "<style>\n",
       ".list-inline {list-style: none; margin:0; padding: 0}\n",
       ".list-inline>li {display: inline-block}\n",
       ".list-inline>li:not(:last-child)::after {content: \"\\00b7\"; padding: 0 .5ex}\n",
       "</style>\n",
       "<ol class=list-inline><li>9</li><li>1945</li></ol>\n"
      ],
      "text/latex": [
       "\\begin{enumerate*}\n",
       "\\item 9\n",
       "\\item 1945\n",
       "\\end{enumerate*}\n"
      ],
      "text/markdown": [
       "1. 9\n",
       "2. 1945\n",
       "\n",
       "\n"
      ],
      "text/plain": [
       "[1]    9 1945"
      ]
     },
     "metadata": {},
     "output_type": "display_data"
    },
    {
     "data": {
      "text/html": [
       "<style>\n",
       ".list-inline {list-style: none; margin:0; padding: 0}\n",
       ".list-inline>li {display: inline-block}\n",
       ".list-inline>li:not(:last-child)::after {content: \"\\00b7\"; padding: 0 .5ex}\n",
       "</style>\n",
       "<ol class=list-inline><li>9</li><li>221</li></ol>\n"
      ],
      "text/latex": [
       "\\begin{enumerate*}\n",
       "\\item 9\n",
       "\\item 221\n",
       "\\end{enumerate*}\n"
      ],
      "text/markdown": [
       "1. 9\n",
       "2. 221\n",
       "\n",
       "\n"
      ],
      "text/plain": [
       "[1]   9 221"
      ]
     },
     "metadata": {},
     "output_type": "display_data"
    },
    {
     "data": {
      "text/html": [
       "<table class=\"dataframe\">\n",
       "<caption>A data.frame: 6 × 221</caption>\n",
       "<thead>\n",
       "\t<tr><th></th><th scope=col>X113.963_0.22</th><th scope=col>X131.533_5.63</th><th scope=col>X130.521_5.66</th><th scope=col>X496.339_2.81</th><th scope=col>X139.963_0.22</th><th scope=col>X300.2_2.15</th><th scope=col>X162.112_0.26</th><th scope=col>X153.04_0.43</th><th scope=col>X115.964_0.22</th><th scope=col>X419.314_3.71</th><th scope=col>⋯</th><th scope=col>X714.468_3.1</th><th scope=col>X776.575_3.3</th><th scope=col>X620.597_4.1</th><th scope=col>X786.504_3.37</th><th scope=col>X542.326_2.33</th><th scope=col>X751.137_2.34</th><th scope=col>X744.63_2.43</th><th scope=col>X478.292_2.72</th><th scope=col>X369.351_3.65.1</th><th scope=col>X553.389_3.57</th></tr>\n",
       "\t<tr><th></th><th scope=col>&lt;dbl&gt;</th><th scope=col>&lt;dbl&gt;</th><th scope=col>&lt;dbl&gt;</th><th scope=col>&lt;dbl&gt;</th><th scope=col>&lt;dbl&gt;</th><th scope=col>&lt;dbl&gt;</th><th scope=col>&lt;dbl&gt;</th><th scope=col>&lt;dbl&gt;</th><th scope=col>&lt;dbl&gt;</th><th scope=col>&lt;dbl&gt;</th><th scope=col>⋯</th><th scope=col>&lt;dbl&gt;</th><th scope=col>&lt;dbl&gt;</th><th scope=col>&lt;dbl&gt;</th><th scope=col>&lt;dbl&gt;</th><th scope=col>&lt;dbl&gt;</th><th scope=col>&lt;dbl&gt;</th><th scope=col>&lt;dbl&gt;</th><th scope=col>&lt;dbl&gt;</th><th scope=col>&lt;dbl&gt;</th><th scope=col>&lt;dbl&gt;</th></tr>\n",
       "</thead>\n",
       "<tbody>\n",
       "\t<tr><th scope=row>1</th><td> 945456530</td><td>231275956</td><td>90669693</td><td>682946263</td><td>-891883.5</td><td> 64823708</td><td>5567036258</td><td>722488983</td><td>-576901.8</td><td>4533797</td><td>⋯</td><td>170765.03</td><td>56311282</td><td>2235014</td><td>1780678</td><td>1087365</td><td>  1110.745</td><td>-105937.87</td><td>3466400</td><td>-23137328</td><td>124486774</td></tr>\n",
       "\t<tr><th scope=row>2</th><td>1042909272</td><td>235558197</td><td>79070627</td><td>343865680</td><td>-920836.2</td><td> 68253452</td><td>4914597557</td><td>540610560</td><td>-595629.4</td><td>3257413</td><td>⋯</td><td>-35243.92</td><td>59242758</td><td>2434127</td><td>1788382</td><td>1070299</td><td> -4642.408</td><td>-102549.54</td><td>3470512</td><td>-21608824</td><td>124634459</td></tr>\n",
       "\t<tr><th scope=row>3</th><td>1132229252</td><td>224829548</td><td>74423730</td><td>306186850</td><td>-857963.4</td><td> 60517686</td><td>5493596383</td><td>434413104</td><td>-554961.1</td><td>9589047</td><td>⋯</td><td>230666.58</td><td>59717132</td><td>2410480</td><td>1842927</td><td>1108197</td><td>-86712.474</td><td>-128358.74</td><td>2981758</td><td>-32838795</td><td>107082126</td></tr>\n",
       "\t<tr><th scope=row>4</th><td>1101833941</td><td>213081551</td><td>68196796</td><td>310823389</td><td>-859117.0</td><td> 64520359</td><td>6386088075</td><td>407673715</td><td>-555707.2</td><td>9921626</td><td>⋯</td><td>271497.30</td><td>58441735</td><td>2403464</td><td>1846444</td><td>1100222</td><td>-70345.314</td><td>-138445.56</td><td>2982286</td><td>-33479452</td><td>107101088</td></tr>\n",
       "\t<tr><th scope=row>5</th><td>1198340831</td><td>236174094</td><td>78729940</td><td>296572496</td><td>-853508.8</td><td> 43876029</td><td>5417825560</td><td>515172935</td><td>-552079.7</td><td>7721436</td><td>⋯</td><td>265678.18</td><td>59775108</td><td>2576638</td><td>1830438</td><td>1108797</td><td> 76717.196</td><td>-128712.72</td><td>3592981</td><td>-70523073</td><td>129032599</td></tr>\n",
       "\t<tr><th scope=row>6</th><td>1089503494</td><td>242778824</td><td>77096943</td><td>308434791</td><td>-955068.8</td><td>292691310</td><td>5525620596</td><td>288747051</td><td>-617772.3</td><td>1726591</td><td>⋯</td><td>-45290.83</td><td>59878556</td><td>2349270</td><td>1737340</td><td>1139489</td><td> 36384.100</td><td> -97525.05</td><td>3522481</td><td>-71521338</td><td>126500779</td></tr>\n",
       "</tbody>\n",
       "</table>\n"
      ],
      "text/latex": [
       "A data.frame: 6 × 221\n",
       "\\begin{tabular}{r|lllllllllllllllllllll}\n",
       "  & X113.963\\_0.22 & X131.533\\_5.63 & X130.521\\_5.66 & X496.339\\_2.81 & X139.963\\_0.22 & X300.2\\_2.15 & X162.112\\_0.26 & X153.04\\_0.43 & X115.964\\_0.22 & X419.314\\_3.71 & ⋯ & X714.468\\_3.1 & X776.575\\_3.3 & X620.597\\_4.1 & X786.504\\_3.37 & X542.326\\_2.33 & X751.137\\_2.34 & X744.63\\_2.43 & X478.292\\_2.72 & X369.351\\_3.65.1 & X553.389\\_3.57\\\\\n",
       "  & <dbl> & <dbl> & <dbl> & <dbl> & <dbl> & <dbl> & <dbl> & <dbl> & <dbl> & <dbl> & ⋯ & <dbl> & <dbl> & <dbl> & <dbl> & <dbl> & <dbl> & <dbl> & <dbl> & <dbl> & <dbl>\\\\\n",
       "\\hline\n",
       "\t1 &  945456530 & 231275956 & 90669693 & 682946263 & -891883.5 &  64823708 & 5567036258 & 722488983 & -576901.8 & 4533797 & ⋯ & 170765.03 & 56311282 & 2235014 & 1780678 & 1087365 &   1110.745 & -105937.87 & 3466400 & -23137328 & 124486774\\\\\n",
       "\t2 & 1042909272 & 235558197 & 79070627 & 343865680 & -920836.2 &  68253452 & 4914597557 & 540610560 & -595629.4 & 3257413 & ⋯ & -35243.92 & 59242758 & 2434127 & 1788382 & 1070299 &  -4642.408 & -102549.54 & 3470512 & -21608824 & 124634459\\\\\n",
       "\t3 & 1132229252 & 224829548 & 74423730 & 306186850 & -857963.4 &  60517686 & 5493596383 & 434413104 & -554961.1 & 9589047 & ⋯ & 230666.58 & 59717132 & 2410480 & 1842927 & 1108197 & -86712.474 & -128358.74 & 2981758 & -32838795 & 107082126\\\\\n",
       "\t4 & 1101833941 & 213081551 & 68196796 & 310823389 & -859117.0 &  64520359 & 6386088075 & 407673715 & -555707.2 & 9921626 & ⋯ & 271497.30 & 58441735 & 2403464 & 1846444 & 1100222 & -70345.314 & -138445.56 & 2982286 & -33479452 & 107101088\\\\\n",
       "\t5 & 1198340831 & 236174094 & 78729940 & 296572496 & -853508.8 &  43876029 & 5417825560 & 515172935 & -552079.7 & 7721436 & ⋯ & 265678.18 & 59775108 & 2576638 & 1830438 & 1108797 &  76717.196 & -128712.72 & 3592981 & -70523073 & 129032599\\\\\n",
       "\t6 & 1089503494 & 242778824 & 77096943 & 308434791 & -955068.8 & 292691310 & 5525620596 & 288747051 & -617772.3 & 1726591 & ⋯ & -45290.83 & 59878556 & 2349270 & 1737340 & 1139489 &  36384.100 &  -97525.05 & 3522481 & -71521338 & 126500779\\\\\n",
       "\\end{tabular}\n"
      ],
      "text/markdown": [
       "\n",
       "A data.frame: 6 × 221\n",
       "\n",
       "| <!--/--> | X113.963_0.22 &lt;dbl&gt; | X131.533_5.63 &lt;dbl&gt; | X130.521_5.66 &lt;dbl&gt; | X496.339_2.81 &lt;dbl&gt; | X139.963_0.22 &lt;dbl&gt; | X300.2_2.15 &lt;dbl&gt; | X162.112_0.26 &lt;dbl&gt; | X153.04_0.43 &lt;dbl&gt; | X115.964_0.22 &lt;dbl&gt; | X419.314_3.71 &lt;dbl&gt; | ⋯ ⋯ | X714.468_3.1 &lt;dbl&gt; | X776.575_3.3 &lt;dbl&gt; | X620.597_4.1 &lt;dbl&gt; | X786.504_3.37 &lt;dbl&gt; | X542.326_2.33 &lt;dbl&gt; | X751.137_2.34 &lt;dbl&gt; | X744.63_2.43 &lt;dbl&gt; | X478.292_2.72 &lt;dbl&gt; | X369.351_3.65.1 &lt;dbl&gt; | X553.389_3.57 &lt;dbl&gt; |\n",
       "|---|---|---|---|---|---|---|---|---|---|---|---|---|---|---|---|---|---|---|---|---|---|\n",
       "| 1 |  945456530 | 231275956 | 90669693 | 682946263 | -891883.5 |  64823708 | 5567036258 | 722488983 | -576901.8 | 4533797 | ⋯ | 170765.03 | 56311282 | 2235014 | 1780678 | 1087365 |   1110.745 | -105937.87 | 3466400 | -23137328 | 124486774 |\n",
       "| 2 | 1042909272 | 235558197 | 79070627 | 343865680 | -920836.2 |  68253452 | 4914597557 | 540610560 | -595629.4 | 3257413 | ⋯ | -35243.92 | 59242758 | 2434127 | 1788382 | 1070299 |  -4642.408 | -102549.54 | 3470512 | -21608824 | 124634459 |\n",
       "| 3 | 1132229252 | 224829548 | 74423730 | 306186850 | -857963.4 |  60517686 | 5493596383 | 434413104 | -554961.1 | 9589047 | ⋯ | 230666.58 | 59717132 | 2410480 | 1842927 | 1108197 | -86712.474 | -128358.74 | 2981758 | -32838795 | 107082126 |\n",
       "| 4 | 1101833941 | 213081551 | 68196796 | 310823389 | -859117.0 |  64520359 | 6386088075 | 407673715 | -555707.2 | 9921626 | ⋯ | 271497.30 | 58441735 | 2403464 | 1846444 | 1100222 | -70345.314 | -138445.56 | 2982286 | -33479452 | 107101088 |\n",
       "| 5 | 1198340831 | 236174094 | 78729940 | 296572496 | -853508.8 |  43876029 | 5417825560 | 515172935 | -552079.7 | 7721436 | ⋯ | 265678.18 | 59775108 | 2576638 | 1830438 | 1108797 |  76717.196 | -128712.72 | 3592981 | -70523073 | 129032599 |\n",
       "| 6 | 1089503494 | 242778824 | 77096943 | 308434791 | -955068.8 | 292691310 | 5525620596 | 288747051 | -617772.3 | 1726591 | ⋯ | -45290.83 | 59878556 | 2349270 | 1737340 | 1139489 |  36384.100 |  -97525.05 | 3522481 | -71521338 | 126500779 |\n",
       "\n"
      ],
      "text/plain": [
       "  X113.963_0.22 X131.533_5.63 X130.521_5.66 X496.339_2.81 X139.963_0.22\n",
       "1  945456530    231275956     90669693      682946263     -891883.5    \n",
       "2 1042909272    235558197     79070627      343865680     -920836.2    \n",
       "3 1132229252    224829548     74423730      306186850     -857963.4    \n",
       "4 1101833941    213081551     68196796      310823389     -859117.0    \n",
       "5 1198340831    236174094     78729940      296572496     -853508.8    \n",
       "6 1089503494    242778824     77096943      308434791     -955068.8    \n",
       "  X300.2_2.15 X162.112_0.26 X153.04_0.43 X115.964_0.22 X419.314_3.71 ⋯\n",
       "1  64823708   5567036258    722488983    -576901.8     4533797       ⋯\n",
       "2  68253452   4914597557    540610560    -595629.4     3257413       ⋯\n",
       "3  60517686   5493596383    434413104    -554961.1     9589047       ⋯\n",
       "4  64520359   6386088075    407673715    -555707.2     9921626       ⋯\n",
       "5  43876029   5417825560    515172935    -552079.7     7721436       ⋯\n",
       "6 292691310   5525620596    288747051    -617772.3     1726591       ⋯\n",
       "  X714.468_3.1 X776.575_3.3 X620.597_4.1 X786.504_3.37 X542.326_2.33\n",
       "1 170765.03    56311282     2235014      1780678       1087365      \n",
       "2 -35243.92    59242758     2434127      1788382       1070299      \n",
       "3 230666.58    59717132     2410480      1842927       1108197      \n",
       "4 271497.30    58441735     2403464      1846444       1100222      \n",
       "5 265678.18    59775108     2576638      1830438       1108797      \n",
       "6 -45290.83    59878556     2349270      1737340       1139489      \n",
       "  X751.137_2.34 X744.63_2.43 X478.292_2.72 X369.351_3.65.1 X553.389_3.57\n",
       "1   1110.745    -105937.87   3466400       -23137328       124486774    \n",
       "2  -4642.408    -102549.54   3470512       -21608824       124634459    \n",
       "3 -86712.474    -128358.74   2981758       -32838795       107082126    \n",
       "4 -70345.314    -138445.56   2982286       -33479452       107101088    \n",
       "5  76717.196    -128712.72   3592981       -70523073       129032599    \n",
       "6  36384.100     -97525.05   3522481       -71521338       126500779    "
      ]
     },
     "metadata": {},
     "output_type": "display_data"
    }
   ],
   "source": [
    "features<-read.csv(\"heart_15_pb.csv\")\n",
    "head(features)\n",
    "\n",
    "columns_to_keep<-selected_rows$X\n",
    "sig_by_RF <- features %>%\n",
    "  select(all_of(columns_to_keep))\n",
    "dim(selected_rows)\n",
    "dim(features)\n",
    "dim(sig_by_RF)\n",
    "head(sig_by_RF)\n",
    "#number of columns in sig_by_RF should match with the number of rows in selected_rows"
   ]
  },
  {
   "cell_type": "code",
   "execution_count": 5,
   "metadata": {},
   "outputs": [
    {
     "data": {
      "text/html": [
       "<style>\n",
       ".list-inline {list-style: none; margin:0; padding: 0}\n",
       ".list-inline>li {display: inline-block}\n",
       ".list-inline>li:not(:last-child)::after {content: \"\\00b7\"; padding: 0 .5ex}\n",
       "</style>\n",
       "<ol class=list-inline><li>9</li><li>236</li></ol>\n"
      ],
      "text/latex": [
       "\\begin{enumerate*}\n",
       "\\item 9\n",
       "\\item 236\n",
       "\\end{enumerate*}\n"
      ],
      "text/markdown": [
       "1. 9\n",
       "2. 236\n",
       "\n",
       "\n"
      ],
      "text/plain": [
       "[1]   9 236"
      ]
     },
     "metadata": {},
     "output_type": "display_data"
    },
    {
     "data": {
      "text/html": [
       "<table class=\"dataframe\">\n",
       "<caption>A data.frame: 6 × 236</caption>\n",
       "<thead>\n",
       "\t<tr><th></th><th scope=col>X</th><th scope=col>sample.id</th><th scope=col>injection_order</th><th scope=col>organ_content</th><th scope=col>Mouse_nu</th><th scope=col>Days.post.infection</th><th scope=col>Condition</th><th scope=col>genotypes</th><th scope=col>gen_con_DPI</th><th scope=col>Box.</th><th scope=col>⋯</th><th scope=col>X714.468_3.1</th><th scope=col>X776.575_3.3</th><th scope=col>X620.597_4.1</th><th scope=col>X786.504_3.37</th><th scope=col>X542.326_2.33</th><th scope=col>X751.137_2.34</th><th scope=col>X744.63_2.43</th><th scope=col>X478.292_2.72</th><th scope=col>X369.351_3.65.1</th><th scope=col>X553.389_3.57</th></tr>\n",
       "\t<tr><th></th><th scope=col>&lt;int&gt;</th><th scope=col>&lt;chr&gt;</th><th scope=col>&lt;int&gt;</th><th scope=col>&lt;chr&gt;</th><th scope=col>&lt;int&gt;</th><th scope=col>&lt;int&gt;</th><th scope=col>&lt;chr&gt;</th><th scope=col>&lt;chr&gt;</th><th scope=col>&lt;chr&gt;</th><th scope=col>&lt;int&gt;</th><th scope=col>⋯</th><th scope=col>&lt;dbl&gt;</th><th scope=col>&lt;dbl&gt;</th><th scope=col>&lt;dbl&gt;</th><th scope=col>&lt;dbl&gt;</th><th scope=col>&lt;dbl&gt;</th><th scope=col>&lt;dbl&gt;</th><th scope=col>&lt;dbl&gt;</th><th scope=col>&lt;dbl&gt;</th><th scope=col>&lt;dbl&gt;</th><th scope=col>&lt;dbl&gt;</th></tr>\n",
       "</thead>\n",
       "<tbody>\n",
       "\t<tr><th scope=row>1</th><td>56</td><td>heart_9_15_INFECTED_WT_INF_3_10_7_2021_3_179_A9  </td><td> 44</td><td>heart</td><td> 9</td><td>15</td><td>INFECTED</td><td>WT_INF</td><td>WT_INF_15</td><td>3</td><td>⋯</td><td>170765.03</td><td>56311282</td><td>2235014</td><td>1780678</td><td>1087365</td><td>  1110.745</td><td>-105937.87</td><td>3466400</td><td>-23137328</td><td>124486774</td></tr>\n",
       "\t<tr><th scope=row>2</th><td> 8</td><td>heart_17_15_INFECTED_WT_INF_5_10_7_2021_5_180_A9 </td><td> 48</td><td>heart</td><td>17</td><td>15</td><td>INFECTED</td><td>WT_INF</td><td>WT_INF_15</td><td>5</td><td>⋯</td><td>-35243.92</td><td>59242758</td><td>2434127</td><td>1788382</td><td>1070299</td><td> -4642.408</td><td>-102549.54</td><td>3470512</td><td>-21608824</td><td>124634459</td></tr>\n",
       "\t<tr><th scope=row>3</th><td>17</td><td>heart_25_15_INFECTED_WT_INF_2_10_14_2021_2_181_A9</td><td>181</td><td>heart</td><td>25</td><td>15</td><td>INFECTED</td><td>WT_INF</td><td>WT_INF_15</td><td>2</td><td>⋯</td><td>230666.58</td><td>59717132</td><td>2410480</td><td>1842927</td><td>1108197</td><td>-86712.474</td><td>-128358.74</td><td>2981758</td><td>-32838795</td><td>107082126</td></tr>\n",
       "\t<tr><th scope=row>4</th><td>21</td><td>heart_29_15_INFECTED_WT_INF_3_10_14_2021_3_181_E9</td><td>211</td><td>heart</td><td>29</td><td>15</td><td>INFECTED</td><td>WT_INF</td><td>WT_INF_15</td><td>3</td><td>⋯</td><td>271497.30</td><td>58441735</td><td>2403464</td><td>1846444</td><td>1100222</td><td>-70345.314</td><td>-138445.56</td><td>2982286</td><td>-33479452</td><td>107101088</td></tr>\n",
       "\t<tr><th scope=row>5</th><td> 4</td><td>heart_13_15_INFECTED_WT_INF_4_10_7_2021_4_179_E9 </td><td>273</td><td>heart</td><td>13</td><td>15</td><td>INFECTED</td><td>WT_INF</td><td>WT_INF_15</td><td>4</td><td>⋯</td><td>265678.18</td><td>59775108</td><td>2576638</td><td>1830438</td><td>1108797</td><td> 76717.196</td><td>-128712.72</td><td>3592981</td><td>-70523073</td><td>129032599</td></tr>\n",
       "\t<tr><th scope=row>6</th><td>43</td><td>heart_5_15_INFECTED_WT_INF_2_10_7_2021_2_178_E9  </td><td>322</td><td>heart</td><td> 5</td><td>15</td><td>INFECTED</td><td>WT_INF</td><td>WT_INF_15</td><td>2</td><td>⋯</td><td>-45290.83</td><td>59878556</td><td>2349270</td><td>1737340</td><td>1139489</td><td> 36384.100</td><td> -97525.05</td><td>3522481</td><td>-71521338</td><td>126500779</td></tr>\n",
       "</tbody>\n",
       "</table>\n"
      ],
      "text/latex": [
       "A data.frame: 6 × 236\n",
       "\\begin{tabular}{r|lllllllllllllllllllll}\n",
       "  & X & sample.id & injection\\_order & organ\\_content & Mouse\\_nu & Days.post.infection & Condition & genotypes & gen\\_con\\_DPI & Box. & ⋯ & X714.468\\_3.1 & X776.575\\_3.3 & X620.597\\_4.1 & X786.504\\_3.37 & X542.326\\_2.33 & X751.137\\_2.34 & X744.63\\_2.43 & X478.292\\_2.72 & X369.351\\_3.65.1 & X553.389\\_3.57\\\\\n",
       "  & <int> & <chr> & <int> & <chr> & <int> & <int> & <chr> & <chr> & <chr> & <int> & ⋯ & <dbl> & <dbl> & <dbl> & <dbl> & <dbl> & <dbl> & <dbl> & <dbl> & <dbl> & <dbl>\\\\\n",
       "\\hline\n",
       "\t1 & 56 & heart\\_9\\_15\\_INFECTED\\_WT\\_INF\\_3\\_10\\_7\\_2021\\_3\\_179\\_A9   &  44 & heart &  9 & 15 & INFECTED & WT\\_INF & WT\\_INF\\_15 & 3 & ⋯ & 170765.03 & 56311282 & 2235014 & 1780678 & 1087365 &   1110.745 & -105937.87 & 3466400 & -23137328 & 124486774\\\\\n",
       "\t2 &  8 & heart\\_17\\_15\\_INFECTED\\_WT\\_INF\\_5\\_10\\_7\\_2021\\_5\\_180\\_A9  &  48 & heart & 17 & 15 & INFECTED & WT\\_INF & WT\\_INF\\_15 & 5 & ⋯ & -35243.92 & 59242758 & 2434127 & 1788382 & 1070299 &  -4642.408 & -102549.54 & 3470512 & -21608824 & 124634459\\\\\n",
       "\t3 & 17 & heart\\_25\\_15\\_INFECTED\\_WT\\_INF\\_2\\_10\\_14\\_2021\\_2\\_181\\_A9 & 181 & heart & 25 & 15 & INFECTED & WT\\_INF & WT\\_INF\\_15 & 2 & ⋯ & 230666.58 & 59717132 & 2410480 & 1842927 & 1108197 & -86712.474 & -128358.74 & 2981758 & -32838795 & 107082126\\\\\n",
       "\t4 & 21 & heart\\_29\\_15\\_INFECTED\\_WT\\_INF\\_3\\_10\\_14\\_2021\\_3\\_181\\_E9 & 211 & heart & 29 & 15 & INFECTED & WT\\_INF & WT\\_INF\\_15 & 3 & ⋯ & 271497.30 & 58441735 & 2403464 & 1846444 & 1100222 & -70345.314 & -138445.56 & 2982286 & -33479452 & 107101088\\\\\n",
       "\t5 &  4 & heart\\_13\\_15\\_INFECTED\\_WT\\_INF\\_4\\_10\\_7\\_2021\\_4\\_179\\_E9  & 273 & heart & 13 & 15 & INFECTED & WT\\_INF & WT\\_INF\\_15 & 4 & ⋯ & 265678.18 & 59775108 & 2576638 & 1830438 & 1108797 &  76717.196 & -128712.72 & 3592981 & -70523073 & 129032599\\\\\n",
       "\t6 & 43 & heart\\_5\\_15\\_INFECTED\\_WT\\_INF\\_2\\_10\\_7\\_2021\\_2\\_178\\_E9   & 322 & heart &  5 & 15 & INFECTED & WT\\_INF & WT\\_INF\\_15 & 2 & ⋯ & -45290.83 & 59878556 & 2349270 & 1737340 & 1139489 &  36384.100 &  -97525.05 & 3522481 & -71521338 & 126500779\\\\\n",
       "\\end{tabular}\n"
      ],
      "text/markdown": [
       "\n",
       "A data.frame: 6 × 236\n",
       "\n",
       "| <!--/--> | X &lt;int&gt; | sample.id &lt;chr&gt; | injection_order &lt;int&gt; | organ_content &lt;chr&gt; | Mouse_nu &lt;int&gt; | Days.post.infection &lt;int&gt; | Condition &lt;chr&gt; | genotypes &lt;chr&gt; | gen_con_DPI &lt;chr&gt; | Box. &lt;int&gt; | ⋯ ⋯ | X714.468_3.1 &lt;dbl&gt; | X776.575_3.3 &lt;dbl&gt; | X620.597_4.1 &lt;dbl&gt; | X786.504_3.37 &lt;dbl&gt; | X542.326_2.33 &lt;dbl&gt; | X751.137_2.34 &lt;dbl&gt; | X744.63_2.43 &lt;dbl&gt; | X478.292_2.72 &lt;dbl&gt; | X369.351_3.65.1 &lt;dbl&gt; | X553.389_3.57 &lt;dbl&gt; |\n",
       "|---|---|---|---|---|---|---|---|---|---|---|---|---|---|---|---|---|---|---|---|---|---|\n",
       "| 1 | 56 | heart_9_15_INFECTED_WT_INF_3_10_7_2021_3_179_A9   |  44 | heart |  9 | 15 | INFECTED | WT_INF | WT_INF_15 | 3 | ⋯ | 170765.03 | 56311282 | 2235014 | 1780678 | 1087365 |   1110.745 | -105937.87 | 3466400 | -23137328 | 124486774 |\n",
       "| 2 |  8 | heart_17_15_INFECTED_WT_INF_5_10_7_2021_5_180_A9  |  48 | heart | 17 | 15 | INFECTED | WT_INF | WT_INF_15 | 5 | ⋯ | -35243.92 | 59242758 | 2434127 | 1788382 | 1070299 |  -4642.408 | -102549.54 | 3470512 | -21608824 | 124634459 |\n",
       "| 3 | 17 | heart_25_15_INFECTED_WT_INF_2_10_14_2021_2_181_A9 | 181 | heart | 25 | 15 | INFECTED | WT_INF | WT_INF_15 | 2 | ⋯ | 230666.58 | 59717132 | 2410480 | 1842927 | 1108197 | -86712.474 | -128358.74 | 2981758 | -32838795 | 107082126 |\n",
       "| 4 | 21 | heart_29_15_INFECTED_WT_INF_3_10_14_2021_3_181_E9 | 211 | heart | 29 | 15 | INFECTED | WT_INF | WT_INF_15 | 3 | ⋯ | 271497.30 | 58441735 | 2403464 | 1846444 | 1100222 | -70345.314 | -138445.56 | 2982286 | -33479452 | 107101088 |\n",
       "| 5 |  4 | heart_13_15_INFECTED_WT_INF_4_10_7_2021_4_179_E9  | 273 | heart | 13 | 15 | INFECTED | WT_INF | WT_INF_15 | 4 | ⋯ | 265678.18 | 59775108 | 2576638 | 1830438 | 1108797 |  76717.196 | -128712.72 | 3592981 | -70523073 | 129032599 |\n",
       "| 6 | 43 | heart_5_15_INFECTED_WT_INF_2_10_7_2021_2_178_E9   | 322 | heart |  5 | 15 | INFECTED | WT_INF | WT_INF_15 | 2 | ⋯ | -45290.83 | 59878556 | 2349270 | 1737340 | 1139489 |  36384.100 |  -97525.05 | 3522481 | -71521338 | 126500779 |\n",
       "\n"
      ],
      "text/plain": [
       "  X  sample.id                                         injection_order\n",
       "1 56 heart_9_15_INFECTED_WT_INF_3_10_7_2021_3_179_A9    44            \n",
       "2  8 heart_17_15_INFECTED_WT_INF_5_10_7_2021_5_180_A9   48            \n",
       "3 17 heart_25_15_INFECTED_WT_INF_2_10_14_2021_2_181_A9 181            \n",
       "4 21 heart_29_15_INFECTED_WT_INF_3_10_14_2021_3_181_E9 211            \n",
       "5  4 heart_13_15_INFECTED_WT_INF_4_10_7_2021_4_179_E9  273            \n",
       "6 43 heart_5_15_INFECTED_WT_INF_2_10_7_2021_2_178_E9   322            \n",
       "  organ_content Mouse_nu Days.post.infection Condition genotypes gen_con_DPI\n",
       "1 heart          9       15                  INFECTED  WT_INF    WT_INF_15  \n",
       "2 heart         17       15                  INFECTED  WT_INF    WT_INF_15  \n",
       "3 heart         25       15                  INFECTED  WT_INF    WT_INF_15  \n",
       "4 heart         29       15                  INFECTED  WT_INF    WT_INF_15  \n",
       "5 heart         13       15                  INFECTED  WT_INF    WT_INF_15  \n",
       "6 heart          5       15                  INFECTED  WT_INF    WT_INF_15  \n",
       "  Box. ⋯ X714.468_3.1 X776.575_3.3 X620.597_4.1 X786.504_3.37 X542.326_2.33\n",
       "1 3    ⋯ 170765.03    56311282     2235014      1780678       1087365      \n",
       "2 5    ⋯ -35243.92    59242758     2434127      1788382       1070299      \n",
       "3 2    ⋯ 230666.58    59717132     2410480      1842927       1108197      \n",
       "4 3    ⋯ 271497.30    58441735     2403464      1846444       1100222      \n",
       "5 4    ⋯ 265678.18    59775108     2576638      1830438       1108797      \n",
       "6 2    ⋯ -45290.83    59878556     2349270      1737340       1139489      \n",
       "  X751.137_2.34 X744.63_2.43 X478.292_2.72 X369.351_3.65.1 X553.389_3.57\n",
       "1   1110.745    -105937.87   3466400       -23137328       124486774    \n",
       "2  -4642.408    -102549.54   3470512       -21608824       124634459    \n",
       "3 -86712.474    -128358.74   2981758       -32838795       107082126    \n",
       "4 -70345.314    -138445.56   2982286       -33479452       107101088    \n",
       "5  76717.196    -128712.72   3592981       -70523073       129032599    \n",
       "6  36384.100     -97525.05   3522481       -71521338       126500779    "
      ]
     },
     "metadata": {},
     "output_type": "display_data"
    }
   ],
   "source": [
    "\n",
    "sig_by_RF_wMeta<-cbind(features[1:15], sig_by_RF)\n",
    "dim(sig_by_RF_wMeta)\n",
    "head(sig_by_RF_wMeta)\n",
    "#re-attaching metadata"
   ]
  },
  {
   "cell_type": "code",
   "execution_count": 6,
   "metadata": {},
   "outputs": [
    {
     "data": {
      "text/plain": [
       "\n",
       "WT_INF \n",
       "     9 "
      ]
     },
     "metadata": {},
     "output_type": "display_data"
    },
    {
     "data": {
      "text/plain": [
       "\n",
       "WT_INF \n",
       "     9 "
      ]
     },
     "metadata": {},
     "output_type": "display_data"
    }
   ],
   "source": [
    "sig_by_RF_wMeta_WT<-droplevels(subset(sig_by_RF_wMeta, sig_by_RF_wMeta$genotypes==c(\"WT_INF\")|sig_by_RF_wMeta$genotypes==c(\"WT_UNINF\")))\n",
    "table(sig_by_RF_wMeta$genotypes)\n",
    "table(sig_by_RF_wMeta_WT$genotypes)\n",
    "#make sure that you've retained all the WT"
   ]
  },
  {
   "cell_type": "code",
   "execution_count": 7,
   "metadata": {
    "scrolled": true
   },
   "outputs": [],
   "source": [
    "# Select columns to calculate spearman correlation (from column 15 where your data starts, to the end)\n",
    "columns_to_correlate <- names(sig_by_RF_wMeta_WT)[15:ncol(sig_by_RF_wMeta_WT)]\n",
    "\n",
    "# Initialize vectors to store results\n",
    "correlations <- numeric(length(columns_to_correlate))\n",
    "p_values <- numeric(length(columns_to_correlate))\n",
    "\n",
    "# Calculate spearman correlation and p-values for each pair of columns\n",
    "for (i in 1:length(columns_to_correlate)) {\n",
    "  colname <- columns_to_correlate[i]\n",
    "  correlation_result <- cor.test(sig_by_RF_wMeta_WT$parasite_burden, sig_by_RF_wMeta_WT[[colname]], method = \"spearman\")\n",
    "  correlations[i] <- correlation_result$estimate\n",
    "  p_values[i] <- correlation_result$p.value\n",
    "}\n",
    "\n",
    "# Perform FDR correction on p-values\n",
    "adjusted_p_values <- p.adjust(p_values, method = \"fdr\")\n",
    "\n",
    "# Create a data frame to store the results\n",
    "correlation_df <- data.frame(Column = columns_to_correlate, \n",
    "                             spearman_Correlation = correlations, pval=p_values,\n",
    "                             Adjusted_P_Value = adjusted_p_values)\n",
    "\n",
    "write.csv(correlation_df, \"RF_output_correlated_to_Parasite_burden_infected.csv\", row.names=FALSE)\n"
   ]
  },
  {
   "cell_type": "code",
   "execution_count": 8,
   "metadata": {},
   "outputs": [
    {
     "data": {
      "text/html": [
       "<style>\n",
       ".list-inline {list-style: none; margin:0; padding: 0}\n",
       ".list-inline>li {display: inline-block}\n",
       ".list-inline>li:not(:last-child)::after {content: \"\\00b7\"; padding: 0 .5ex}\n",
       "</style>\n",
       "<ol class=list-inline><li>0.000354</li><li>0.001249</li><li>3.6e-05</li><li>7.2e-06</li><li>9.1e-05</li><li>0.001053</li><li>9.7e-05</li><li>7.3e-06</li><li>0.000282</li></ol>\n"
      ],
      "text/latex": [
       "\\begin{enumerate*}\n",
       "\\item 0.000354\n",
       "\\item 0.001249\n",
       "\\item 3.6e-05\n",
       "\\item 7.2e-06\n",
       "\\item 9.1e-05\n",
       "\\item 0.001053\n",
       "\\item 9.7e-05\n",
       "\\item 7.3e-06\n",
       "\\item 0.000282\n",
       "\\end{enumerate*}\n"
      ],
      "text/markdown": [
       "1. 0.000354\n",
       "2. 0.001249\n",
       "3. 3.6e-05\n",
       "4. 7.2e-06\n",
       "5. 9.1e-05\n",
       "6. 0.001053\n",
       "7. 9.7e-05\n",
       "8. 7.3e-06\n",
       "9. 0.000282\n",
       "\n",
       "\n"
      ],
      "text/plain": [
       "[1] 0.0003540 0.0012490 0.0000360 0.0000072 0.0000910 0.0010530 0.0000970\n",
       "[8] 0.0000073 0.0002820"
      ]
     },
     "metadata": {},
     "output_type": "display_data"
    }
   ],
   "source": [
    "sig_by_RF_wMeta_WT$parasite_burden"
   ]
  },
  {
   "cell_type": "code",
   "execution_count": 10,
   "metadata": {},
   "outputs": [
    {
     "data": {
      "text/html": [
       "<table class=\"dataframe\">\n",
       "<caption>A data.frame: 9 × 236</caption>\n",
       "<thead>\n",
       "\t<tr><th></th><th scope=col>X</th><th scope=col>sample.id</th><th scope=col>injection_order</th><th scope=col>organ_content</th><th scope=col>Mouse_nu</th><th scope=col>Days.post.infection</th><th scope=col>Condition</th><th scope=col>genotypes</th><th scope=col>gen_con_DPI</th><th scope=col>Box.</th><th scope=col>⋯</th><th scope=col>X714.468_3.1</th><th scope=col>X776.575_3.3</th><th scope=col>X620.597_4.1</th><th scope=col>X786.504_3.37</th><th scope=col>X542.326_2.33</th><th scope=col>X751.137_2.34</th><th scope=col>X744.63_2.43</th><th scope=col>X478.292_2.72</th><th scope=col>X369.351_3.65.1</th><th scope=col>X553.389_3.57</th></tr>\n",
       "\t<tr><th></th><th scope=col>&lt;int&gt;</th><th scope=col>&lt;chr&gt;</th><th scope=col>&lt;int&gt;</th><th scope=col>&lt;chr&gt;</th><th scope=col>&lt;int&gt;</th><th scope=col>&lt;int&gt;</th><th scope=col>&lt;chr&gt;</th><th scope=col>&lt;chr&gt;</th><th scope=col>&lt;chr&gt;</th><th scope=col>&lt;int&gt;</th><th scope=col>⋯</th><th scope=col>&lt;dbl&gt;</th><th scope=col>&lt;dbl&gt;</th><th scope=col>&lt;dbl&gt;</th><th scope=col>&lt;dbl&gt;</th><th scope=col>&lt;dbl&gt;</th><th scope=col>&lt;dbl&gt;</th><th scope=col>&lt;dbl&gt;</th><th scope=col>&lt;dbl&gt;</th><th scope=col>&lt;dbl&gt;</th><th scope=col>&lt;dbl&gt;</th></tr>\n",
       "</thead>\n",
       "<tbody>\n",
       "\t<tr><th scope=row>1</th><td>56</td><td>heart_9_15_INFECTED_WT_INF_3_10_7_2021_3_179_A9  </td><td> 44</td><td>heart</td><td> 9</td><td>15</td><td>INFECTED</td><td>WT_INF</td><td>WT_INF_15</td><td>3</td><td>⋯</td><td>  170765.03</td><td>56311282</td><td>2235014</td><td>1780678</td><td>1087365</td><td>  1110.745</td><td>-105937.87</td><td>3466400</td><td>-23137328</td><td>124486774</td></tr>\n",
       "\t<tr><th scope=row>2</th><td> 8</td><td>heart_17_15_INFECTED_WT_INF_5_10_7_2021_5_180_A9 </td><td> 48</td><td>heart</td><td>17</td><td>15</td><td>INFECTED</td><td>WT_INF</td><td>WT_INF_15</td><td>5</td><td>⋯</td><td>  -35243.92</td><td>59242758</td><td>2434127</td><td>1788382</td><td>1070299</td><td> -4642.408</td><td>-102549.54</td><td>3470512</td><td>-21608824</td><td>124634459</td></tr>\n",
       "\t<tr><th scope=row>3</th><td>17</td><td>heart_25_15_INFECTED_WT_INF_2_10_14_2021_2_181_A9</td><td>181</td><td>heart</td><td>25</td><td>15</td><td>INFECTED</td><td>WT_INF</td><td>WT_INF_15</td><td>2</td><td>⋯</td><td>  230666.58</td><td>59717132</td><td>2410480</td><td>1842927</td><td>1108197</td><td>-86712.474</td><td>-128358.74</td><td>2981758</td><td>-32838795</td><td>107082126</td></tr>\n",
       "\t<tr><th scope=row>4</th><td>21</td><td>heart_29_15_INFECTED_WT_INF_3_10_14_2021_3_181_E9</td><td>211</td><td>heart</td><td>29</td><td>15</td><td>INFECTED</td><td>WT_INF</td><td>WT_INF_15</td><td>3</td><td>⋯</td><td>  271497.30</td><td>58441735</td><td>2403464</td><td>1846444</td><td>1100222</td><td>-70345.314</td><td>-138445.56</td><td>2982286</td><td>-33479452</td><td>107101088</td></tr>\n",
       "\t<tr><th scope=row>5</th><td> 4</td><td>heart_13_15_INFECTED_WT_INF_4_10_7_2021_4_179_E9 </td><td>273</td><td>heart</td><td>13</td><td>15</td><td>INFECTED</td><td>WT_INF</td><td>WT_INF_15</td><td>4</td><td>⋯</td><td>  265678.18</td><td>59775108</td><td>2576638</td><td>1830438</td><td>1108797</td><td> 76717.196</td><td>-128712.72</td><td>3592981</td><td>-70523073</td><td>129032599</td></tr>\n",
       "\t<tr><th scope=row>6</th><td>43</td><td>heart_5_15_INFECTED_WT_INF_2_10_7_2021_2_178_E9  </td><td>322</td><td>heart</td><td> 5</td><td>15</td><td>INFECTED</td><td>WT_INF</td><td>WT_INF_15</td><td>2</td><td>⋯</td><td>  -45290.83</td><td>59878556</td><td>2349270</td><td>1737340</td><td>1139489</td><td> 36384.100</td><td> -97525.05</td><td>3522481</td><td>-71521338</td><td>126500779</td></tr>\n",
       "\t<tr><th scope=row>7</th><td>13</td><td>heart_21_15_INFECTED_WT_INF_1_10_14_2021_1_180_E9</td><td>372</td><td>heart</td><td>21</td><td>15</td><td>INFECTED</td><td>WT_INF</td><td>WT_INF_15</td><td>1</td><td>⋯</td><td>  564774.66</td><td>59406846</td><td>2515821</td><td>1726661</td><td>1042981</td><td> 65600.068</td><td>-104099.32</td><td>3212716</td><td>-44040485</td><td>115376376</td></tr>\n",
       "\t<tr><th scope=row>8</th><td>26</td><td>heart_33_15_INFECTED_WT_INF_4_10_14_2021_4_182_A9</td><td>529</td><td>heart</td><td>33</td><td>15</td><td>INFECTED</td><td>WT_INF</td><td>WT_INF_15</td><td>4</td><td>⋯</td><td>-4271960.87</td><td>52823191</td><td>2347265</td><td>1521004</td><td>1055721</td><td>-23468.333</td><td>-227536.39</td><td>3256619</td><td>-25478528</td><td>116953035</td></tr>\n",
       "\t<tr><th scope=row>9</th><td>30</td><td>heart_37_15_INFECTED_WT_INF_5_10_14_2021_5_182_E9</td><td>733</td><td>heart</td><td>37</td><td>15</td><td>INFECTED</td><td>WT_INF</td><td>WT_INF_15</td><td>5</td><td>⋯</td><td>  357404.70</td><td>47698353</td><td>1676007</td><td>1639349</td><td>1095074</td><td> 11294.864</td><td>-119406.03</td><td>3361445</td><td>-27649457</td><td>120717601</td></tr>\n",
       "</tbody>\n",
       "</table>\n"
      ],
      "text/latex": [
       "A data.frame: 9 × 236\n",
       "\\begin{tabular}{r|lllllllllllllllllllll}\n",
       "  & X & sample.id & injection\\_order & organ\\_content & Mouse\\_nu & Days.post.infection & Condition & genotypes & gen\\_con\\_DPI & Box. & ⋯ & X714.468\\_3.1 & X776.575\\_3.3 & X620.597\\_4.1 & X786.504\\_3.37 & X542.326\\_2.33 & X751.137\\_2.34 & X744.63\\_2.43 & X478.292\\_2.72 & X369.351\\_3.65.1 & X553.389\\_3.57\\\\\n",
       "  & <int> & <chr> & <int> & <chr> & <int> & <int> & <chr> & <chr> & <chr> & <int> & ⋯ & <dbl> & <dbl> & <dbl> & <dbl> & <dbl> & <dbl> & <dbl> & <dbl> & <dbl> & <dbl>\\\\\n",
       "\\hline\n",
       "\t1 & 56 & heart\\_9\\_15\\_INFECTED\\_WT\\_INF\\_3\\_10\\_7\\_2021\\_3\\_179\\_A9   &  44 & heart &  9 & 15 & INFECTED & WT\\_INF & WT\\_INF\\_15 & 3 & ⋯ &   170765.03 & 56311282 & 2235014 & 1780678 & 1087365 &   1110.745 & -105937.87 & 3466400 & -23137328 & 124486774\\\\\n",
       "\t2 &  8 & heart\\_17\\_15\\_INFECTED\\_WT\\_INF\\_5\\_10\\_7\\_2021\\_5\\_180\\_A9  &  48 & heart & 17 & 15 & INFECTED & WT\\_INF & WT\\_INF\\_15 & 5 & ⋯ &   -35243.92 & 59242758 & 2434127 & 1788382 & 1070299 &  -4642.408 & -102549.54 & 3470512 & -21608824 & 124634459\\\\\n",
       "\t3 & 17 & heart\\_25\\_15\\_INFECTED\\_WT\\_INF\\_2\\_10\\_14\\_2021\\_2\\_181\\_A9 & 181 & heart & 25 & 15 & INFECTED & WT\\_INF & WT\\_INF\\_15 & 2 & ⋯ &   230666.58 & 59717132 & 2410480 & 1842927 & 1108197 & -86712.474 & -128358.74 & 2981758 & -32838795 & 107082126\\\\\n",
       "\t4 & 21 & heart\\_29\\_15\\_INFECTED\\_WT\\_INF\\_3\\_10\\_14\\_2021\\_3\\_181\\_E9 & 211 & heart & 29 & 15 & INFECTED & WT\\_INF & WT\\_INF\\_15 & 3 & ⋯ &   271497.30 & 58441735 & 2403464 & 1846444 & 1100222 & -70345.314 & -138445.56 & 2982286 & -33479452 & 107101088\\\\\n",
       "\t5 &  4 & heart\\_13\\_15\\_INFECTED\\_WT\\_INF\\_4\\_10\\_7\\_2021\\_4\\_179\\_E9  & 273 & heart & 13 & 15 & INFECTED & WT\\_INF & WT\\_INF\\_15 & 4 & ⋯ &   265678.18 & 59775108 & 2576638 & 1830438 & 1108797 &  76717.196 & -128712.72 & 3592981 & -70523073 & 129032599\\\\\n",
       "\t6 & 43 & heart\\_5\\_15\\_INFECTED\\_WT\\_INF\\_2\\_10\\_7\\_2021\\_2\\_178\\_E9   & 322 & heart &  5 & 15 & INFECTED & WT\\_INF & WT\\_INF\\_15 & 2 & ⋯ &   -45290.83 & 59878556 & 2349270 & 1737340 & 1139489 &  36384.100 &  -97525.05 & 3522481 & -71521338 & 126500779\\\\\n",
       "\t7 & 13 & heart\\_21\\_15\\_INFECTED\\_WT\\_INF\\_1\\_10\\_14\\_2021\\_1\\_180\\_E9 & 372 & heart & 21 & 15 & INFECTED & WT\\_INF & WT\\_INF\\_15 & 1 & ⋯ &   564774.66 & 59406846 & 2515821 & 1726661 & 1042981 &  65600.068 & -104099.32 & 3212716 & -44040485 & 115376376\\\\\n",
       "\t8 & 26 & heart\\_33\\_15\\_INFECTED\\_WT\\_INF\\_4\\_10\\_14\\_2021\\_4\\_182\\_A9 & 529 & heart & 33 & 15 & INFECTED & WT\\_INF & WT\\_INF\\_15 & 4 & ⋯ & -4271960.87 & 52823191 & 2347265 & 1521004 & 1055721 & -23468.333 & -227536.39 & 3256619 & -25478528 & 116953035\\\\\n",
       "\t9 & 30 & heart\\_37\\_15\\_INFECTED\\_WT\\_INF\\_5\\_10\\_14\\_2021\\_5\\_182\\_E9 & 733 & heart & 37 & 15 & INFECTED & WT\\_INF & WT\\_INF\\_15 & 5 & ⋯ &   357404.70 & 47698353 & 1676007 & 1639349 & 1095074 &  11294.864 & -119406.03 & 3361445 & -27649457 & 120717601\\\\\n",
       "\\end{tabular}\n"
      ],
      "text/markdown": [
       "\n",
       "A data.frame: 9 × 236\n",
       "\n",
       "| <!--/--> | X &lt;int&gt; | sample.id &lt;chr&gt; | injection_order &lt;int&gt; | organ_content &lt;chr&gt; | Mouse_nu &lt;int&gt; | Days.post.infection &lt;int&gt; | Condition &lt;chr&gt; | genotypes &lt;chr&gt; | gen_con_DPI &lt;chr&gt; | Box. &lt;int&gt; | ⋯ ⋯ | X714.468_3.1 &lt;dbl&gt; | X776.575_3.3 &lt;dbl&gt; | X620.597_4.1 &lt;dbl&gt; | X786.504_3.37 &lt;dbl&gt; | X542.326_2.33 &lt;dbl&gt; | X751.137_2.34 &lt;dbl&gt; | X744.63_2.43 &lt;dbl&gt; | X478.292_2.72 &lt;dbl&gt; | X369.351_3.65.1 &lt;dbl&gt; | X553.389_3.57 &lt;dbl&gt; |\n",
       "|---|---|---|---|---|---|---|---|---|---|---|---|---|---|---|---|---|---|---|---|---|---|\n",
       "| 1 | 56 | heart_9_15_INFECTED_WT_INF_3_10_7_2021_3_179_A9   |  44 | heart |  9 | 15 | INFECTED | WT_INF | WT_INF_15 | 3 | ⋯ |   170765.03 | 56311282 | 2235014 | 1780678 | 1087365 |   1110.745 | -105937.87 | 3466400 | -23137328 | 124486774 |\n",
       "| 2 |  8 | heart_17_15_INFECTED_WT_INF_5_10_7_2021_5_180_A9  |  48 | heart | 17 | 15 | INFECTED | WT_INF | WT_INF_15 | 5 | ⋯ |   -35243.92 | 59242758 | 2434127 | 1788382 | 1070299 |  -4642.408 | -102549.54 | 3470512 | -21608824 | 124634459 |\n",
       "| 3 | 17 | heart_25_15_INFECTED_WT_INF_2_10_14_2021_2_181_A9 | 181 | heart | 25 | 15 | INFECTED | WT_INF | WT_INF_15 | 2 | ⋯ |   230666.58 | 59717132 | 2410480 | 1842927 | 1108197 | -86712.474 | -128358.74 | 2981758 | -32838795 | 107082126 |\n",
       "| 4 | 21 | heart_29_15_INFECTED_WT_INF_3_10_14_2021_3_181_E9 | 211 | heart | 29 | 15 | INFECTED | WT_INF | WT_INF_15 | 3 | ⋯ |   271497.30 | 58441735 | 2403464 | 1846444 | 1100222 | -70345.314 | -138445.56 | 2982286 | -33479452 | 107101088 |\n",
       "| 5 |  4 | heart_13_15_INFECTED_WT_INF_4_10_7_2021_4_179_E9  | 273 | heart | 13 | 15 | INFECTED | WT_INF | WT_INF_15 | 4 | ⋯ |   265678.18 | 59775108 | 2576638 | 1830438 | 1108797 |  76717.196 | -128712.72 | 3592981 | -70523073 | 129032599 |\n",
       "| 6 | 43 | heart_5_15_INFECTED_WT_INF_2_10_7_2021_2_178_E9   | 322 | heart |  5 | 15 | INFECTED | WT_INF | WT_INF_15 | 2 | ⋯ |   -45290.83 | 59878556 | 2349270 | 1737340 | 1139489 |  36384.100 |  -97525.05 | 3522481 | -71521338 | 126500779 |\n",
       "| 7 | 13 | heart_21_15_INFECTED_WT_INF_1_10_14_2021_1_180_E9 | 372 | heart | 21 | 15 | INFECTED | WT_INF | WT_INF_15 | 1 | ⋯ |   564774.66 | 59406846 | 2515821 | 1726661 | 1042981 |  65600.068 | -104099.32 | 3212716 | -44040485 | 115376376 |\n",
       "| 8 | 26 | heart_33_15_INFECTED_WT_INF_4_10_14_2021_4_182_A9 | 529 | heart | 33 | 15 | INFECTED | WT_INF | WT_INF_15 | 4 | ⋯ | -4271960.87 | 52823191 | 2347265 | 1521004 | 1055721 | -23468.333 | -227536.39 | 3256619 | -25478528 | 116953035 |\n",
       "| 9 | 30 | heart_37_15_INFECTED_WT_INF_5_10_14_2021_5_182_E9 | 733 | heart | 37 | 15 | INFECTED | WT_INF | WT_INF_15 | 5 | ⋯ |   357404.70 | 47698353 | 1676007 | 1639349 | 1095074 |  11294.864 | -119406.03 | 3361445 | -27649457 | 120717601 |\n",
       "\n"
      ],
      "text/plain": [
       "  X  sample.id                                         injection_order\n",
       "1 56 heart_9_15_INFECTED_WT_INF_3_10_7_2021_3_179_A9    44            \n",
       "2  8 heart_17_15_INFECTED_WT_INF_5_10_7_2021_5_180_A9   48            \n",
       "3 17 heart_25_15_INFECTED_WT_INF_2_10_14_2021_2_181_A9 181            \n",
       "4 21 heart_29_15_INFECTED_WT_INF_3_10_14_2021_3_181_E9 211            \n",
       "5  4 heart_13_15_INFECTED_WT_INF_4_10_7_2021_4_179_E9  273            \n",
       "6 43 heart_5_15_INFECTED_WT_INF_2_10_7_2021_2_178_E9   322            \n",
       "7 13 heart_21_15_INFECTED_WT_INF_1_10_14_2021_1_180_E9 372            \n",
       "8 26 heart_33_15_INFECTED_WT_INF_4_10_14_2021_4_182_A9 529            \n",
       "9 30 heart_37_15_INFECTED_WT_INF_5_10_14_2021_5_182_E9 733            \n",
       "  organ_content Mouse_nu Days.post.infection Condition genotypes gen_con_DPI\n",
       "1 heart          9       15                  INFECTED  WT_INF    WT_INF_15  \n",
       "2 heart         17       15                  INFECTED  WT_INF    WT_INF_15  \n",
       "3 heart         25       15                  INFECTED  WT_INF    WT_INF_15  \n",
       "4 heart         29       15                  INFECTED  WT_INF    WT_INF_15  \n",
       "5 heart         13       15                  INFECTED  WT_INF    WT_INF_15  \n",
       "6 heart          5       15                  INFECTED  WT_INF    WT_INF_15  \n",
       "7 heart         21       15                  INFECTED  WT_INF    WT_INF_15  \n",
       "8 heart         33       15                  INFECTED  WT_INF    WT_INF_15  \n",
       "9 heart         37       15                  INFECTED  WT_INF    WT_INF_15  \n",
       "  Box. ⋯ X714.468_3.1 X776.575_3.3 X620.597_4.1 X786.504_3.37 X542.326_2.33\n",
       "1 3    ⋯   170765.03  56311282     2235014      1780678       1087365      \n",
       "2 5    ⋯   -35243.92  59242758     2434127      1788382       1070299      \n",
       "3 2    ⋯   230666.58  59717132     2410480      1842927       1108197      \n",
       "4 3    ⋯   271497.30  58441735     2403464      1846444       1100222      \n",
       "5 4    ⋯   265678.18  59775108     2576638      1830438       1108797      \n",
       "6 2    ⋯   -45290.83  59878556     2349270      1737340       1139489      \n",
       "7 1    ⋯   564774.66  59406846     2515821      1726661       1042981      \n",
       "8 4    ⋯ -4271960.87  52823191     2347265      1521004       1055721      \n",
       "9 5    ⋯   357404.70  47698353     1676007      1639349       1095074      \n",
       "  X751.137_2.34 X744.63_2.43 X478.292_2.72 X369.351_3.65.1 X553.389_3.57\n",
       "1   1110.745    -105937.87   3466400       -23137328       124486774    \n",
       "2  -4642.408    -102549.54   3470512       -21608824       124634459    \n",
       "3 -86712.474    -128358.74   2981758       -32838795       107082126    \n",
       "4 -70345.314    -138445.56   2982286       -33479452       107101088    \n",
       "5  76717.196    -128712.72   3592981       -70523073       129032599    \n",
       "6  36384.100     -97525.05   3522481       -71521338       126500779    \n",
       "7  65600.068    -104099.32   3212716       -44040485       115376376    \n",
       "8 -23468.333    -227536.39   3256619       -25478528       116953035    \n",
       "9  11294.864    -119406.03   3361445       -27649457       120717601    "
      ]
     },
     "metadata": {},
     "output_type": "display_data"
    }
   ],
   "source": [
    "sig_by_RF_wMeta_WT"
   ]
  },
  {
   "cell_type": "code",
   "execution_count": 29,
   "metadata": {},
   "outputs": [],
   "source": [
    "write.csv(sig_by_RF_wMeta_WT, \"SIG_CSV2.csv\", row.names = FALSE)"
   ]
  },
  {
   "cell_type": "code",
   "execution_count": 26,
   "metadata": {},
   "outputs": [
    {
     "name": "stdout",
     "output_type": "stream",
     "text": [
      "[1] 103\n"
     ]
    },
    {
     "data": {
      "text/html": [
       "<style>\n",
       ".list-inline {list-style: none; margin:0; padding: 0}\n",
       ".list-inline>li {display: inline-block}\n",
       ".list-inline>li:not(:last-child)::after {content: \"\\00b7\"; padding: 0 .5ex}\n",
       "</style>\n",
       "<ol class=list-inline><li>254</li><li>4</li></ol>\n"
      ],
      "text/latex": [
       "\\begin{enumerate*}\n",
       "\\item 254\n",
       "\\item 4\n",
       "\\end{enumerate*}\n"
      ],
      "text/markdown": [
       "1. 254\n",
       "2. 4\n",
       "\n",
       "\n"
      ],
      "text/plain": [
       "[1] 254   4"
      ]
     },
     "metadata": {},
     "output_type": "display_data"
    },
    {
     "data": {
      "text/html": [
       "40.1574803149606"
      ],
      "text/latex": [
       "40.1574803149606"
      ],
      "text/markdown": [
       "40.1574803149606"
      ],
      "text/plain": [
       "[1] 40.15748"
      ]
     },
     "metadata": {},
     "output_type": "display_data"
    }
   ],
   "source": [
    "# Set the cutoff value\n",
    "cutoff_value <- 0.05\n",
    "\n",
    "# Count the number of rows in column A that exceed the cutoff\n",
    "count_sig_corr <- sum(correlation_df$Adjusted_P_Value <= cutoff_value)\n",
    "\n",
    "print(count_sig_corr)\n",
    "dim(correlation_df)\n",
    "ratio=100*(count_sig_corr-1)/nrow(correlation_df)\n",
    "ratio\n",
    "#need to do minus 1 because one of the correlated features is kynurenine itself."
   ]
  },
  {
   "cell_type": "code",
   "execution_count": null,
   "metadata": {},
   "outputs": [],
   "source": []
  }
 ],
 "metadata": {
  "kernelspec": {
   "display_name": "Python 3 (ipykernel)",
   "language": "python",
   "name": "python3"
  },
  "language_info": {
   "codemirror_mode": {
    "name": "ipython",
    "version": 3
   },
   "file_extension": ".py",
   "mimetype": "text/x-python",
   "name": "python",
   "nbconvert_exporter": "python",
   "pygments_lexer": "ipython3",
   "version": "3.11.7"
  }
 },
 "nbformat": 4,
 "nbformat_minor": 4
}
