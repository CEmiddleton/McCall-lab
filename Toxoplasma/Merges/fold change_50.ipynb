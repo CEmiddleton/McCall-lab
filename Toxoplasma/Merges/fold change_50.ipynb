{
 "cells": [
  {
   "cell_type": "code",
   "execution_count": 1,
   "metadata": {},
   "outputs": [],
   "source": [
    "features<-read.csv(\"C:/Users/caitl/OneDrive/Desktop/Toxoplasma/Feature_Tables_No_Knockouts/cecum_features.csv\")"
   ]
  },
  {
   "cell_type": "code",
   "execution_count": 2,
   "metadata": {},
   "outputs": [
    {
     "data": {
      "text/html": [
       "<table>\n",
       "<thead><tr><th scope=col>ï..sample.id</th><th scope=col>injection_order</th><th scope=col>organ_content</th><th scope=col>Mouse_nu</th><th scope=col>Days.post.infection</th><th scope=col>Condition</th><th scope=col>genotypes</th><th scope=col>gen_con_DPI</th><th scope=col>Box.</th><th scope=col>Tissue.Collection.Date</th><th scope=col>...</th><th scope=col>X361.272_3.25</th><th scope=col>X560.31_2.95</th><th scope=col>X828.536_3.22</th><th scope=col>X774.525_3.35</th><th scope=col>X796.509_3.35</th><th scope=col>X800.576_3.58</th><th scope=col>X180.101_2.55</th><th scope=col>X435.989_0.27</th><th scope=col>X477.212_1.27</th><th scope=col>X432.241_2.44</th></tr></thead>\n",
       "<tbody>\n",
       "\t<tr><td>cecum_25_15_INFECTED_WT_INF_2_10_14_2021_2_181_A4     </td><td> 47                                                   </td><td>cecum                                                 </td><td>25                                                    </td><td>15                                                    </td><td>INFECTED                                              </td><td>WT_INF                                                </td><td>WT_INF_15                                             </td><td>2                                                     </td><td>10_14_2021                                            </td><td>...                                                   </td><td> 451252.4                                             </td><td>-468746.08                                            </td><td>-2665310.6                                            </td><td>-1320181.1                                            </td><td>-1766359.7                                            </td><td>-11717904                                             </td><td>-1094359.42                                           </td><td>-135154.31                                            </td><td>-1592878.0                                            </td><td>345928.7                                              </td></tr>\n",
       "\t<tr><td>cecum_11_15_UNINFECTED_WT_UNINF_3_10_7_2021_13_179_C4 </td><td> 69                                                   </td><td>cecum                                                 </td><td>11                                                    </td><td>15                                                    </td><td>UNINFECTED                                            </td><td>WT_UNINF                                              </td><td>WT_UNINF_15                                           </td><td>3                                                     </td><td>10_7_2021                                             </td><td>...                                                   </td><td> 398453.8                                             </td><td>-439949.11                                            </td><td>-2456651.7                                            </td><td>-1216828.2                                            </td><td>-1628076.8                                            </td><td>-10800545                                             </td><td>-1008685.39                                           </td><td>-124573.50                                            </td><td>-1468176.4                                            </td><td>364113.4                                              </td></tr>\n",
       "\t<tr><td>cecum_31_15_UNINFECTED_WT_UNINF_3_10_14_2021_13_181_G4</td><td> 97                                                   </td><td>cecum                                                 </td><td>31                                                    </td><td>15                                                    </td><td>UNINFECTED                                            </td><td>WT_UNINF                                              </td><td>WT_UNINF_15                                           </td><td>3                                                     </td><td>10_14_2021                                            </td><td>...                                                   </td><td> 220971.1                                             </td><td> -98811.39                                            </td><td> -787271.6                                            </td><td> -389951.2                                            </td><td> -521742.1                                            </td><td> -3461200                                             </td><td> -323248.67                                           </td><td> -39921.48                                            </td><td> -470499.6                                            </td><td>218435.7                                              </td></tr>\n",
       "\t<tr><td>cecum_19_15_UNINFECTED_WT_UNINF_5_10_7_2021_15_180_C4 </td><td>110                                                   </td><td>cecum                                                 </td><td>19                                                    </td><td>15                                                    </td><td>UNINFECTED                                            </td><td>WT_UNINF                                              </td><td>WT_UNINF_15                                           </td><td>5                                                     </td><td>10_7_2021                                             </td><td>...                                                   </td><td> 440826.6                                             </td><td> -34850.77                                            </td><td> -927702.1                                            </td><td> -459509.2                                            </td><td> -614808.5                                            </td><td> -4078595                                             </td><td> -380908.51                                           </td><td> -47042.52                                            </td><td> -554425.5                                            </td><td>292125.3                                              </td></tr>\n",
       "\t<tr><td>cecum_9_15_INFECTED_WT_INF_3_10_7_2021_3_179_A4       </td><td>143                                                   </td><td>cecum                                                 </td><td> 9                                                    </td><td>15                                                    </td><td>INFECTED                                              </td><td>WT_INF                                                </td><td>WT_INF_15                                             </td><td>3                                                     </td><td>10_7_2021                                             </td><td>...                                                   </td><td> 197240.3                                             </td><td>  29060.05                                            </td><td> -238183.9                                            </td><td> -117977.2                                            </td><td> -157849.7                                            </td><td> -1047164                                             </td><td>  -97796.79                                           </td><td> -12077.99                                            </td><td> -142346.6                                            </td><td>267431.7                                              </td></tr>\n",
       "\t<tr><td>cecum_7_15_UNINFECTED_WT_UNINF_2_10_7_2021_12_178_G4  </td><td>171                                                   </td><td>cecum                                                 </td><td> 7                                                    </td><td>15                                                    </td><td>UNINFECTED                                            </td><td>WT_UNINF                                              </td><td>WT_UNINF_15                                           </td><td>2                                                     </td><td>10_7_2021                                             </td><td>...                                                   </td><td>-228588.0                                             </td><td> -44840.81                                            </td><td>  231818.3                                            </td><td>  114824.2                                            </td><td>  153631.1                                            </td><td>  1019177                                             </td><td>   95183.10                                           </td><td>  11755.19                                            </td><td>  138542.3                                            </td><td>227919.4                                              </td></tr>\n",
       "</tbody>\n",
       "</table>\n"
      ],
      "text/latex": [
       "\\begin{tabular}{r|llllllllllllllllllllllllllllllllllllllllllllllllllllllllllllllllllllllllllllllllllllllllllllllllllllllllllllllllllllllllllllllllllllllllllllllllllllllllllllllllllllllllllllllllllllllllllllllllllllllllllllllllllllllllllllllllllllllllllllllllllllllllllllllllllllllllllllllllllllllllllllllllllllllllllllllllllllllllllllllllllllllllllllllllllllllllllllllllllllllllllllllllllllllllllllllllllllllllllllllllllllllllllllllllllllllllllllllllllllllllllllllllllllllllllllllllllllllllllllllllllllllllllllllllllllllllllllllllllllllllllllllllllllllllllllllllllllllllllllllllllllllllllllllllllllllllllllllllllllllllllllllllllllllllllllllllllllllllllllllllllllllllllllllllllllllllllllllllllllllllllllllllllllllllllllllllllllllllllllllllllllllllllllllllllllllllllllllllllllllllllllllllllllllllllllllllllllllllllllllllllllllllllllllllllllllllllllllllllllllllllllllllllllllllllllllllllllllllllllllllllllllllllllllllllllllllllllllllllllllllllllllllllllllllllllllllllllllllllllllllllllllllllllllllllllllllllllllllllllllllllllllllllllllllllllllllllllllllllllllllllllllllllllllllllllllllllllllllllllllllllllllllllllllllllllllllllllllllllllllllllllllllllllllllllllllllllllllllllllllllllllllllllllllllllllllllllllllllllllllllllllllllllllllllllllllllllllllllllllllllllllllllllllllllllllllllllllllllllllllllllllllllllllllllllllllllllllllllllllllllllllllllllllllllllllllllllllllllllllllllllllllllllllllllllllllllllllllllllllllllllllllllllllllllllllllllllllllllllllllllllllllllllllllllllllllllllllllllllllllllllllllllllllllllllllllllllllllllllllllllllllllllllllllllllllllllllllllllllllllllllllllllllllllllllllllllllllllllllllllllllllllllllllllllllllllllllllllllllllllllllllllllllllllllllllllllllllllllllllllllllllllllllllllllllllllllllllllllllllllllllllllllllllllllllllllllllllllllllllllllllllllllllllllllllllllllllllllllllllllllllllllllllllllllllllllllllllllllllllllllllllllllllllllllllllllllllllllllllllllllllllllllllllllllllllllllllllllllllllllllllllllllllllllllllllllllllllllllllllllllllllllllllllllllllllllllllllllllllllllllllllllllllllllllllllllllllllllllllllllllllllllllllllllllllllllllllllllllllllllllllllllllllllllllllllllllllllllllllllllllllllllllllllllllllllllllllllllllllllllllllllllllllllllllllllllllllllllllllllllllllllllllllllllllllllllllllllllllllllllllllllllllllllllllllllllllllllllllllllllllllllllllllllllllllllllllllllllllllllllllllllllllllllllllllllllllllllllllllllllllllllllllllllllllllllllllllllllllllllllllllllllllllllllllllllllllllllllllllllllllllllllllllllllllllllllllllllllllllllllllllllllllllllllllllllllllllllllllllllllllllllllllllllllllllllllllllllllllllllllllllllllllllllllllllllllllllllllllllllllllllllllllllllllllllllllllllllllllllllllllllllllllllllllllllllllllllllllllllllllllllllllllllllllllllllllllllllllllllllllllllllllllllllllllllllllllllllllllllllllllllllllllllllllllllllllllllllllllllllllllllllllllllllllllllllllllllllllllllllllllllllllllllllllllllllllllllllllllllllllllll}\n",
       " ï..sample.id & injection\\_order & organ\\_content & Mouse\\_nu & Days.post.infection & Condition & genotypes & gen\\_con\\_DPI & Box. & Tissue.Collection.Date & ... & X361.272\\_3.25 & X560.31\\_2.95 & X828.536\\_3.22 & X774.525\\_3.35 & X796.509\\_3.35 & X800.576\\_3.58 & X180.101\\_2.55 & X435.989\\_0.27 & X477.212\\_1.27 & X432.241\\_2.44\\\\\n",
       "\\hline\n",
       "\t cecum\\_25\\_15\\_INFECTED\\_WT\\_INF\\_2\\_10\\_14\\_2021\\_2\\_181\\_A4      &  47                                                                            & cecum                                                                          & 25                                                                             & 15                                                                             & INFECTED                                                                       & WT\\_INF                                                                       & WT\\_INF\\_15                                                                  & 2                                                                              & 10\\_14\\_2021                                                                 & ...                                                                            &  451252.4                                                                      & -468746.08                                                                     & -2665310.6                                                                     & -1320181.1                                                                     & -1766359.7                                                                     & -11717904                                                                      & -1094359.42                                                                    & -135154.31                                                                     & -1592878.0                                                                     & 345928.7                                                                      \\\\\n",
       "\t cecum\\_11\\_15\\_UNINFECTED\\_WT\\_UNINF\\_3\\_10\\_7\\_2021\\_13\\_179\\_C4  &  69                                                                            & cecum                                                                          & 11                                                                             & 15                                                                             & UNINFECTED                                                                     & WT\\_UNINF                                                                     & WT\\_UNINF\\_15                                                                & 3                                                                              & 10\\_7\\_2021                                                                  & ...                                                                            &  398453.8                                                                      & -439949.11                                                                     & -2456651.7                                                                     & -1216828.2                                                                     & -1628076.8                                                                     & -10800545                                                                      & -1008685.39                                                                    & -124573.50                                                                     & -1468176.4                                                                     & 364113.4                                                                      \\\\\n",
       "\t cecum\\_31\\_15\\_UNINFECTED\\_WT\\_UNINF\\_3\\_10\\_14\\_2021\\_13\\_181\\_G4 &  97                                                                            & cecum                                                                          & 31                                                                             & 15                                                                             & UNINFECTED                                                                     & WT\\_UNINF                                                                     & WT\\_UNINF\\_15                                                                & 3                                                                              & 10\\_14\\_2021                                                                 & ...                                                                            &  220971.1                                                                      &  -98811.39                                                                     &  -787271.6                                                                     &  -389951.2                                                                     &  -521742.1                                                                     &  -3461200                                                                      &  -323248.67                                                                    &  -39921.48                                                                     &  -470499.6                                                                     & 218435.7                                                                      \\\\\n",
       "\t cecum\\_19\\_15\\_UNINFECTED\\_WT\\_UNINF\\_5\\_10\\_7\\_2021\\_15\\_180\\_C4  & 110                                                                            & cecum                                                                          & 19                                                                             & 15                                                                             & UNINFECTED                                                                     & WT\\_UNINF                                                                     & WT\\_UNINF\\_15                                                                & 5                                                                              & 10\\_7\\_2021                                                                  & ...                                                                            &  440826.6                                                                      &  -34850.77                                                                     &  -927702.1                                                                     &  -459509.2                                                                     &  -614808.5                                                                     &  -4078595                                                                      &  -380908.51                                                                    &  -47042.52                                                                     &  -554425.5                                                                     & 292125.3                                                                      \\\\\n",
       "\t cecum\\_9\\_15\\_INFECTED\\_WT\\_INF\\_3\\_10\\_7\\_2021\\_3\\_179\\_A4        & 143                                                                            & cecum                                                                          &  9                                                                             & 15                                                                             & INFECTED                                                                       & WT\\_INF                                                                       & WT\\_INF\\_15                                                                  & 3                                                                              & 10\\_7\\_2021                                                                  & ...                                                                            &  197240.3                                                                      &   29060.05                                                                     &  -238183.9                                                                     &  -117977.2                                                                     &  -157849.7                                                                     &  -1047164                                                                      &   -97796.79                                                                    &  -12077.99                                                                     &  -142346.6                                                                     & 267431.7                                                                      \\\\\n",
       "\t cecum\\_7\\_15\\_UNINFECTED\\_WT\\_UNINF\\_2\\_10\\_7\\_2021\\_12\\_178\\_G4   & 171                                                                            & cecum                                                                          &  7                                                                             & 15                                                                             & UNINFECTED                                                                     & WT\\_UNINF                                                                     & WT\\_UNINF\\_15                                                                & 2                                                                              & 10\\_7\\_2021                                                                  & ...                                                                            & -228588.0                                                                      &  -44840.81                                                                     &   231818.3                                                                     &   114824.2                                                                     &   153631.1                                                                     &   1019177                                                                      &    95183.10                                                                    &   11755.19                                                                     &   138542.3                                                                     & 227919.4                                                                      \\\\\n",
       "\\end{tabular}\n"
      ],
      "text/markdown": [
       "\n",
       "| ï..sample.id | injection_order | organ_content | Mouse_nu | Days.post.infection | Condition | genotypes | gen_con_DPI | Box. | Tissue.Collection.Date | ... | X361.272_3.25 | X560.31_2.95 | X828.536_3.22 | X774.525_3.35 | X796.509_3.35 | X800.576_3.58 | X180.101_2.55 | X435.989_0.27 | X477.212_1.27 | X432.241_2.44 |\n",
       "|---|---|---|---|---|---|---|---|---|---|---|---|---|---|---|---|---|---|---|---|---|\n",
       "| cecum_25_15_INFECTED_WT_INF_2_10_14_2021_2_181_A4      |  47                                                    | cecum                                                  | 25                                                     | 15                                                     | INFECTED                                               | WT_INF                                                 | WT_INF_15                                              | 2                                                      | 10_14_2021                                             | ...                                                    |  451252.4                                              | -468746.08                                             | -2665310.6                                             | -1320181.1                                             | -1766359.7                                             | -11717904                                              | -1094359.42                                            | -135154.31                                             | -1592878.0                                             | 345928.7                                               |\n",
       "| cecum_11_15_UNINFECTED_WT_UNINF_3_10_7_2021_13_179_C4  |  69                                                    | cecum                                                  | 11                                                     | 15                                                     | UNINFECTED                                             | WT_UNINF                                               | WT_UNINF_15                                            | 3                                                      | 10_7_2021                                              | ...                                                    |  398453.8                                              | -439949.11                                             | -2456651.7                                             | -1216828.2                                             | -1628076.8                                             | -10800545                                              | -1008685.39                                            | -124573.50                                             | -1468176.4                                             | 364113.4                                               |\n",
       "| cecum_31_15_UNINFECTED_WT_UNINF_3_10_14_2021_13_181_G4 |  97                                                    | cecum                                                  | 31                                                     | 15                                                     | UNINFECTED                                             | WT_UNINF                                               | WT_UNINF_15                                            | 3                                                      | 10_14_2021                                             | ...                                                    |  220971.1                                              |  -98811.39                                             |  -787271.6                                             |  -389951.2                                             |  -521742.1                                             |  -3461200                                              |  -323248.67                                            |  -39921.48                                             |  -470499.6                                             | 218435.7                                               |\n",
       "| cecum_19_15_UNINFECTED_WT_UNINF_5_10_7_2021_15_180_C4  | 110                                                    | cecum                                                  | 19                                                     | 15                                                     | UNINFECTED                                             | WT_UNINF                                               | WT_UNINF_15                                            | 5                                                      | 10_7_2021                                              | ...                                                    |  440826.6                                              |  -34850.77                                             |  -927702.1                                             |  -459509.2                                             |  -614808.5                                             |  -4078595                                              |  -380908.51                                            |  -47042.52                                             |  -554425.5                                             | 292125.3                                               |\n",
       "| cecum_9_15_INFECTED_WT_INF_3_10_7_2021_3_179_A4        | 143                                                    | cecum                                                  |  9                                                     | 15                                                     | INFECTED                                               | WT_INF                                                 | WT_INF_15                                              | 3                                                      | 10_7_2021                                              | ...                                                    |  197240.3                                              |   29060.05                                             |  -238183.9                                             |  -117977.2                                             |  -157849.7                                             |  -1047164                                              |   -97796.79                                            |  -12077.99                                             |  -142346.6                                             | 267431.7                                               |\n",
       "| cecum_7_15_UNINFECTED_WT_UNINF_2_10_7_2021_12_178_G4   | 171                                                    | cecum                                                  |  7                                                     | 15                                                     | UNINFECTED                                             | WT_UNINF                                               | WT_UNINF_15                                            | 2                                                      | 10_7_2021                                              | ...                                                    | -228588.0                                              |  -44840.81                                             |   231818.3                                             |   114824.2                                             |   153631.1                                             |   1019177                                              |    95183.10                                            |   11755.19                                             |   138542.3                                             | 227919.4                                               |\n",
       "\n"
      ],
      "text/plain": [
       "  ï..sample.id                                           injection_order\n",
       "1 cecum_25_15_INFECTED_WT_INF_2_10_14_2021_2_181_A4       47            \n",
       "2 cecum_11_15_UNINFECTED_WT_UNINF_3_10_7_2021_13_179_C4   69            \n",
       "3 cecum_31_15_UNINFECTED_WT_UNINF_3_10_14_2021_13_181_G4  97            \n",
       "4 cecum_19_15_UNINFECTED_WT_UNINF_5_10_7_2021_15_180_C4  110            \n",
       "5 cecum_9_15_INFECTED_WT_INF_3_10_7_2021_3_179_A4        143            \n",
       "6 cecum_7_15_UNINFECTED_WT_UNINF_2_10_7_2021_12_178_G4   171            \n",
       "  organ_content Mouse_nu Days.post.infection Condition  genotypes gen_con_DPI\n",
       "1 cecum         25       15                  INFECTED   WT_INF    WT_INF_15  \n",
       "2 cecum         11       15                  UNINFECTED WT_UNINF  WT_UNINF_15\n",
       "3 cecum         31       15                  UNINFECTED WT_UNINF  WT_UNINF_15\n",
       "4 cecum         19       15                  UNINFECTED WT_UNINF  WT_UNINF_15\n",
       "5 cecum          9       15                  INFECTED   WT_INF    WT_INF_15  \n",
       "6 cecum          7       15                  UNINFECTED WT_UNINF  WT_UNINF_15\n",
       "  Box. Tissue.Collection.Date ... X361.272_3.25 X560.31_2.95 X828.536_3.22\n",
       "1 2    10_14_2021             ...  451252.4     -468746.08   -2665310.6   \n",
       "2 3    10_7_2021              ...  398453.8     -439949.11   -2456651.7   \n",
       "3 3    10_14_2021             ...  220971.1      -98811.39    -787271.6   \n",
       "4 5    10_7_2021              ...  440826.6      -34850.77    -927702.1   \n",
       "5 3    10_7_2021              ...  197240.3       29060.05    -238183.9   \n",
       "6 2    10_7_2021              ... -228588.0      -44840.81     231818.3   \n",
       "  X774.525_3.35 X796.509_3.35 X800.576_3.58 X180.101_2.55 X435.989_0.27\n",
       "1 -1320181.1    -1766359.7    -11717904     -1094359.42   -135154.31   \n",
       "2 -1216828.2    -1628076.8    -10800545     -1008685.39   -124573.50   \n",
       "3  -389951.2     -521742.1     -3461200      -323248.67    -39921.48   \n",
       "4  -459509.2     -614808.5     -4078595      -380908.51    -47042.52   \n",
       "5  -117977.2     -157849.7     -1047164       -97796.79    -12077.99   \n",
       "6   114824.2      153631.1      1019177        95183.10     11755.19   \n",
       "  X477.212_1.27 X432.241_2.44\n",
       "1 -1592878.0    345928.7     \n",
       "2 -1468176.4    364113.4     \n",
       "3  -470499.6    218435.7     \n",
       "4  -554425.5    292125.3     \n",
       "5  -142346.6    267431.7     \n",
       "6   138542.3    227919.4     "
      ]
     },
     "metadata": {},
     "output_type": "display_data"
    }
   ],
   "source": [
    "head(features)"
   ]
  },
  {
   "cell_type": "code",
   "execution_count": 3,
   "metadata": {},
   "outputs": [
    {
     "data": {
      "text/plain": [
       "\n",
       "15 50 \n",
       "19 17 "
      ]
     },
     "metadata": {},
     "output_type": "display_data"
    },
    {
     "data": {
      "text/plain": [
       "\n",
       "50 \n",
       "17 "
      ]
     },
     "metadata": {},
     "output_type": "display_data"
    },
    {
     "data": {
      "text/plain": [
       "\n",
       "15 \n",
       "19 "
      ]
     },
     "metadata": {},
     "output_type": "display_data"
    }
   ],
   "source": [
    "#subset by timepoint\n",
    "table(features$Days.post.infection)\n",
    "d50<-droplevels(subset(features, features$Days.post.infection==c(\"50\")))\n",
    "d15<-droplevels(subset(features, features$Days.post.infection==c(\"15\")))\n",
    "table(d50$Days.post.infection)\n",
    "table(d15$Days.post.infection)"
   ]
  },
  {
   "cell_type": "code",
   "execution_count": 4,
   "metadata": {},
   "outputs": [
    {
     "data": {
      "text/html": [
       "<table>\n",
       "<thead><tr><th></th><th scope=col>injection_order</th><th scope=col>organ_content</th><th scope=col>Mouse_nu</th><th scope=col>Days.post.infection</th><th scope=col>Condition</th><th scope=col>genotypes</th><th scope=col>gen_con_DPI</th><th scope=col>Box.</th><th scope=col>Tissue.Collection.Date</th><th scope=col>Well_position_corrected</th><th scope=col>Well_position_McC_lab</th><th scope=col>group</th><th scope=col>X141.958_0.22</th><th scope=col>X228.195_2.62</th><th scope=col>X113.963_0.22</th><th scope=col>X404.206_2.67</th><th scope=col>X343.294_2.64</th></tr></thead>\n",
       "<tbody>\n",
       "\t<tr><th scope=row>16</th><td>421        </td><td>cecum      </td><td>52         </td><td>50         </td><td>UNINFECTED </td><td>WT_UNINF   </td><td>WT_UNINF_50</td><td>1          </td><td>11_18_2021 </td><td>07-D4      </td><td>184-D4     </td><td>1          </td><td>259979644  </td><td>11946569   </td><td>373723698  </td><td>234451960  </td><td>-12961.83  </td></tr>\n",
       "\t<tr><th scope=row>17</th><td>430        </td><td>cecum      </td><td>48         </td><td>50         </td><td>UNINFECTED </td><td>WT_UNINF   </td><td>WT_UNINF_50</td><td>2          </td><td>11_11_2021 </td><td>06-H4      </td><td>183-H4     </td><td>1          </td><td>267944476  </td><td>25810383   </td><td>697663194  </td><td>185250005  </td><td>152116.17  </td></tr>\n",
       "\t<tr><th scope=row>19</th><td>446        </td><td>cecum      </td><td>53         </td><td>50         </td><td>INFECTED   </td><td>WT_INF     </td><td>WT_INF_50  </td><td>1          </td><td>11_18_2021 </td><td>07-E4      </td><td>184-E4     </td><td>1          </td><td>371056515  </td><td>18993978   </td><td>680622048  </td><td>235584165  </td><td>226565.72  </td></tr>\n",
       "\t<tr><th scope=row>20</th><td>452        </td><td>cecum      </td><td>44         </td><td>50         </td><td>UNINFECTED </td><td>WT_UNINF   </td><td>WT_UNINF_50</td><td>1          </td><td>11_11_2021 </td><td>06-D4      </td><td>183-D4     </td><td>1          </td><td>447802106  </td><td>13470412   </td><td>898104977  </td><td>212540546  </td><td>213059.15  </td></tr>\n",
       "\t<tr><th scope=row>21</th><td>484        </td><td>cecum      </td><td>55         </td><td>50         </td><td>INFECTED   </td><td>WT_INF     </td><td>WT_INF_50  </td><td>2          </td><td>11_18_2021 </td><td>07-G4      </td><td>184-G4     </td><td>1          </td><td>316189543  </td><td>14457526   </td><td>718215035  </td><td>253593072  </td><td>202039.13  </td></tr>\n",
       "\t<tr><th scope=row>22</th><td>496        </td><td>cecum      </td><td>47         </td><td>50         </td><td>INFECTED   </td><td>WT_INF     </td><td>WT_INF_50  </td><td>2          </td><td>11_11_2021 </td><td>06-G4      </td><td>183-G4     </td><td>1          </td><td>315274624  </td><td>15484843   </td><td>444564387  </td><td>192865258  </td><td>188437.30  </td></tr>\n",
       "</tbody>\n",
       "</table>\n"
      ],
      "text/latex": [
       "\\begin{tabular}{r|lllllllllllllllll}\n",
       "  & injection\\_order & organ\\_content & Mouse\\_nu & Days.post.infection & Condition & genotypes & gen\\_con\\_DPI & Box. & Tissue.Collection.Date & Well\\_position\\_corrected & Well\\_position\\_McC\\_lab & group & X141.958\\_0.22 & X228.195\\_2.62 & X113.963\\_0.22 & X404.206\\_2.67 & X343.294\\_2.64\\\\\n",
       "\\hline\n",
       "\t16 & 421             & cecum           & 52              & 50              & UNINFECTED      & WT\\_UNINF      & WT\\_UNINF\\_50 & 1               & 11\\_18\\_2021  & 07-D4           & 184-D4          & 1               & 259979644       & 11946569        & 373723698       & 234451960       & -12961.83      \\\\\n",
       "\t17 & 430             & cecum           & 48              & 50              & UNINFECTED      & WT\\_UNINF      & WT\\_UNINF\\_50 & 2               & 11\\_11\\_2021  & 06-H4           & 183-H4          & 1               & 267944476       & 25810383        & 697663194       & 185250005       & 152116.17      \\\\\n",
       "\t19 & 446             & cecum           & 53              & 50              & INFECTED        & WT\\_INF        & WT\\_INF\\_50   & 1               & 11\\_18\\_2021  & 07-E4           & 184-E4          & 1               & 371056515       & 18993978        & 680622048       & 235584165       & 226565.72      \\\\\n",
       "\t20 & 452             & cecum           & 44              & 50              & UNINFECTED      & WT\\_UNINF      & WT\\_UNINF\\_50 & 1               & 11\\_11\\_2021  & 06-D4           & 183-D4          & 1               & 447802106       & 13470412        & 898104977       & 212540546       & 213059.15      \\\\\n",
       "\t21 & 484             & cecum           & 55              & 50              & INFECTED        & WT\\_INF        & WT\\_INF\\_50   & 2               & 11\\_18\\_2021  & 07-G4           & 184-G4          & 1               & 316189543       & 14457526        & 718215035       & 253593072       & 202039.13      \\\\\n",
       "\t22 & 496             & cecum           & 47              & 50              & INFECTED        & WT\\_INF        & WT\\_INF\\_50   & 2               & 11\\_11\\_2021  & 06-G4           & 183-G4          & 1               & 315274624       & 15484843        & 444564387       & 192865258       & 188437.30      \\\\\n",
       "\\end{tabular}\n"
      ],
      "text/markdown": [
       "\n",
       "| <!--/--> | injection_order | organ_content | Mouse_nu | Days.post.infection | Condition | genotypes | gen_con_DPI | Box. | Tissue.Collection.Date | Well_position_corrected | Well_position_McC_lab | group | X141.958_0.22 | X228.195_2.62 | X113.963_0.22 | X404.206_2.67 | X343.294_2.64 |\n",
       "|---|---|---|---|---|---|---|---|---|---|---|---|---|---|---|---|---|---|\n",
       "| 16 | 421         | cecum       | 52          | 50          | UNINFECTED  | WT_UNINF    | WT_UNINF_50 | 1           | 11_18_2021  | 07-D4       | 184-D4      | 1           | 259979644   | 11946569    | 373723698   | 234451960   | -12961.83   |\n",
       "| 17 | 430         | cecum       | 48          | 50          | UNINFECTED  | WT_UNINF    | WT_UNINF_50 | 2           | 11_11_2021  | 06-H4       | 183-H4      | 1           | 267944476   | 25810383    | 697663194   | 185250005   | 152116.17   |\n",
       "| 19 | 446         | cecum       | 53          | 50          | INFECTED    | WT_INF      | WT_INF_50   | 1           | 11_18_2021  | 07-E4       | 184-E4      | 1           | 371056515   | 18993978    | 680622048   | 235584165   | 226565.72   |\n",
       "| 20 | 452         | cecum       | 44          | 50          | UNINFECTED  | WT_UNINF    | WT_UNINF_50 | 1           | 11_11_2021  | 06-D4       | 183-D4      | 1           | 447802106   | 13470412    | 898104977   | 212540546   | 213059.15   |\n",
       "| 21 | 484         | cecum       | 55          | 50          | INFECTED    | WT_INF      | WT_INF_50   | 2           | 11_18_2021  | 07-G4       | 184-G4      | 1           | 316189543   | 14457526    | 718215035   | 253593072   | 202039.13   |\n",
       "| 22 | 496         | cecum       | 47          | 50          | INFECTED    | WT_INF      | WT_INF_50   | 2           | 11_11_2021  | 06-G4       | 183-G4      | 1           | 315274624   | 15484843    | 444564387   | 192865258   | 188437.30   |\n",
       "\n"
      ],
      "text/plain": [
       "   injection_order organ_content Mouse_nu Days.post.infection Condition \n",
       "16 421             cecum         52       50                  UNINFECTED\n",
       "17 430             cecum         48       50                  UNINFECTED\n",
       "19 446             cecum         53       50                  INFECTED  \n",
       "20 452             cecum         44       50                  UNINFECTED\n",
       "21 484             cecum         55       50                  INFECTED  \n",
       "22 496             cecum         47       50                  INFECTED  \n",
       "   genotypes gen_con_DPI Box. Tissue.Collection.Date Well_position_corrected\n",
       "16 WT_UNINF  WT_UNINF_50 1    11_18_2021             07-D4                  \n",
       "17 WT_UNINF  WT_UNINF_50 2    11_11_2021             06-H4                  \n",
       "19 WT_INF    WT_INF_50   1    11_18_2021             07-E4                  \n",
       "20 WT_UNINF  WT_UNINF_50 1    11_11_2021             06-D4                  \n",
       "21 WT_INF    WT_INF_50   2    11_18_2021             07-G4                  \n",
       "22 WT_INF    WT_INF_50   2    11_11_2021             06-G4                  \n",
       "   Well_position_McC_lab group X141.958_0.22 X228.195_2.62 X113.963_0.22\n",
       "16 184-D4                1     259979644     11946569      373723698    \n",
       "17 183-H4                1     267944476     25810383      697663194    \n",
       "19 184-E4                1     371056515     18993978      680622048    \n",
       "20 183-D4                1     447802106     13470412      898104977    \n",
       "21 184-G4                1     316189543     14457526      718215035    \n",
       "22 183-G4                1     315274624     15484843      444564387    \n",
       "   X404.206_2.67 X343.294_2.64\n",
       "16 234451960     -12961.83    \n",
       "17 185250005     152116.17    \n",
       "19 235584165     226565.72    \n",
       "20 212540546     213059.15    \n",
       "21 253593072     202039.13    \n",
       "22 192865258     188437.30    "
      ]
     },
     "metadata": {},
     "output_type": "display_data"
    },
    {
     "data": {
      "text/html": [
       "<ol class=list-inline>\n",
       "\t<li>17</li>\n",
       "\t<li>2882</li>\n",
       "</ol>\n"
      ],
      "text/latex": [
       "\\begin{enumerate*}\n",
       "\\item 17\n",
       "\\item 2882\n",
       "\\end{enumerate*}\n"
      ],
      "text/markdown": [
       "1. 17\n",
       "2. 2882\n",
       "\n",
       "\n"
      ],
      "text/plain": [
       "[1]   17 2882"
      ]
     },
     "metadata": {},
     "output_type": "display_data"
    }
   ],
   "source": [
    "#visually inspect subsetted tables\n",
    "head(d50[2:18])\n",
    "dim(d50)"
   ]
  },
  {
   "cell_type": "code",
   "execution_count": 5,
   "metadata": {},
   "outputs": [
    {
     "data": {
      "text/html": [
       "<ol class=list-inline>\n",
       "\t<li>2</li>\n",
       "\t<li>2868</li>\n",
       "</ol>\n"
      ],
      "text/latex": [
       "\\begin{enumerate*}\n",
       "\\item 2\n",
       "\\item 2868\n",
       "\\end{enumerate*}\n"
      ],
      "text/markdown": [
       "1. 2\n",
       "2. 2868\n",
       "\n",
       "\n"
      ],
      "text/plain": [
       "[1]    2 2868"
      ]
     },
     "metadata": {},
     "output_type": "display_data"
    },
    {
     "data": {
      "text/html": [
       "<table>\n",
       "<thead><tr><th></th><th scope=col>X228.195_2.62</th><th scope=col>X113.963_0.22</th><th scope=col>X404.206_2.67</th><th scope=col>X343.294_2.64</th><th scope=col>X409.161_2.66</th><th scope=col>X375.198_2.77</th><th scope=col>X182.985_0.22</th><th scope=col>X207.017_5.62</th><th scope=col>X247.166_5.52</th><th scope=col>X181.014_5.63</th><th scope=col>X131.533_5.63</th><th scope=col>X226.179_2.52</th><th scope=col>X109.521_5.64</th><th scope=col>X333.062_2.46</th><th scope=col>X412.32_2.78</th></tr></thead>\n",
       "<tbody>\n",
       "\t<tr><th scope=row>INFECTED</th><td>15484843 </td><td>718215035</td><td>214440899</td><td>280884.4 </td><td>234263442</td><td>25345864 </td><td>60774628 </td><td>303237099</td><td>194483533</td><td>264347874</td><td>250458103</td><td>1166634  </td><td>115096922</td><td>3900751  </td><td>31494351 </td></tr>\n",
       "\t<tr><th scope=row>UNINFECTED</th><td>11976209 </td><td>663533893</td><td>220725729</td><td>411805.8 </td><td>260483299</td><td>23352850 </td><td>67006972 </td><td>310115432</td><td>192722649</td><td>271509857</td><td>258324505</td><td>2217187  </td><td>120920150</td><td>4401245  </td><td>25115618 </td></tr>\n",
       "</tbody>\n",
       "</table>\n"
      ],
      "text/latex": [
       "\\begin{tabular}{r|lllllllllllllll}\n",
       "  & X228.195\\_2.62 & X113.963\\_0.22 & X404.206\\_2.67 & X343.294\\_2.64 & X409.161\\_2.66 & X375.198\\_2.77 & X182.985\\_0.22 & X207.017\\_5.62 & X247.166\\_5.52 & X181.014\\_5.63 & X131.533\\_5.63 & X226.179\\_2.52 & X109.521\\_5.64 & X333.062\\_2.46 & X412.32\\_2.78\\\\\n",
       "\\hline\n",
       "\tINFECTED & 15484843  & 718215035 & 214440899 & 280884.4  & 234263442 & 25345864  & 60774628  & 303237099 & 194483533 & 264347874 & 250458103 & 1166634   & 115096922 & 3900751   & 31494351 \\\\\n",
       "\tUNINFECTED & 11976209  & 663533893 & 220725729 & 411805.8  & 260483299 & 23352850  & 67006972  & 310115432 & 192722649 & 271509857 & 258324505 & 2217187   & 120920150 & 4401245   & 25115618 \\\\\n",
       "\\end{tabular}\n"
      ],
      "text/markdown": [
       "\n",
       "| <!--/--> | X228.195_2.62 | X113.963_0.22 | X404.206_2.67 | X343.294_2.64 | X409.161_2.66 | X375.198_2.77 | X182.985_0.22 | X207.017_5.62 | X247.166_5.52 | X181.014_5.63 | X131.533_5.63 | X226.179_2.52 | X109.521_5.64 | X333.062_2.46 | X412.32_2.78 |\n",
       "|---|---|---|---|---|---|---|---|---|---|---|---|---|---|---|---|\n",
       "| INFECTED | 15484843  | 718215035 | 214440899 | 280884.4  | 234263442 | 25345864  | 60774628  | 303237099 | 194483533 | 264347874 | 250458103 | 1166634   | 115096922 | 3900751   | 31494351  |\n",
       "| UNINFECTED | 11976209  | 663533893 | 220725729 | 411805.8  | 260483299 | 23352850  | 67006972  | 310115432 | 192722649 | 271509857 | 258324505 | 2217187   | 120920150 | 4401245   | 25115618  |\n",
       "\n"
      ],
      "text/plain": [
       "           X228.195_2.62 X113.963_0.22 X404.206_2.67 X343.294_2.64\n",
       "INFECTED   15484843      718215035     214440899     280884.4     \n",
       "UNINFECTED 11976209      663533893     220725729     411805.8     \n",
       "           X409.161_2.66 X375.198_2.77 X182.985_0.22 X207.017_5.62\n",
       "INFECTED   234263442     25345864      60774628      303237099    \n",
       "UNINFECTED 260483299     23352850      67006972      310115432    \n",
       "           X247.166_5.52 X181.014_5.63 X131.533_5.63 X226.179_2.52\n",
       "INFECTED   194483533     264347874     250458103     1166634      \n",
       "UNINFECTED 192722649     271509857     258324505     2217187      \n",
       "           X109.521_5.64 X333.062_2.46 X412.32_2.78\n",
       "INFECTED   115096922     3900751       31494351    \n",
       "UNINFECTED 120920150     4401245       25115618    "
      ]
     },
     "metadata": {},
     "output_type": "display_data"
    }
   ],
   "source": [
    "#calculate metdian;start from first column with numeric data (here, it's 27)\n",
    "mdn <- apply(d50[,15:ncol(d50)], 2, function(x) tapply(x, d50$Condition, function(x) median(x, na.rm=TRUE)))\n",
    "dim(mdn)\n",
    "mdn[,1:15]\n"
   ]
  },
  {
   "cell_type": "code",
   "execution_count": 6,
   "metadata": {},
   "outputs": [
    {
     "data": {
      "text/html": [
       "<dl class=dl-horizontal>\n",
       "\t<dt>X228.195_2.62</dt>\n",
       "\t\t<dd>1.29296694765724</dd>\n",
       "\t<dt>X113.963_0.22</dt>\n",
       "\t\t<dd>1.08240896692402</dd>\n",
       "\t<dt>X404.206_2.67</dt>\n",
       "\t\t<dd>0.971526518492943</dd>\n",
       "\t<dt>X343.294_2.64</dt>\n",
       "\t\t<dd>0.682079675185528</dd>\n",
       "\t<dt>X409.161_2.66</dt>\n",
       "\t\t<dd>0.899341506400261</dd>\n",
       "\t<dt>X375.198_2.77</dt>\n",
       "\t\t<dd>1.08534350291625</dd>\n",
       "</dl>\n"
      ],
      "text/latex": [
       "\\begin{description*}\n",
       "\\item[X228.195\\textbackslash{}\\_2.62] 1.29296694765724\n",
       "\\item[X113.963\\textbackslash{}\\_0.22] 1.08240896692402\n",
       "\\item[X404.206\\textbackslash{}\\_2.67] 0.971526518492943\n",
       "\\item[X343.294\\textbackslash{}\\_2.64] 0.682079675185528\n",
       "\\item[X409.161\\textbackslash{}\\_2.66] 0.899341506400261\n",
       "\\item[X375.198\\textbackslash{}\\_2.77] 1.08534350291625\n",
       "\\end{description*}\n"
      ],
      "text/markdown": [
       "X228.195_2.62\n",
       ":   1.29296694765724X113.963_0.22\n",
       ":   1.08240896692402X404.206_2.67\n",
       ":   0.971526518492943X343.294_2.64\n",
       ":   0.682079675185528X409.161_2.66\n",
       ":   0.899341506400261X375.198_2.77\n",
       ":   1.08534350291625\n",
       "\n"
      ],
      "text/plain": [
       "X228.195_2.62 X113.963_0.22 X404.206_2.67 X343.294_2.64 X409.161_2.66 \n",
       "    1.2929669     1.0824090     0.9715265     0.6820797     0.8993415 \n",
       "X375.198_2.77 \n",
       "    1.0853435 "
      ]
     },
     "metadata": {},
     "output_type": "display_data"
    },
    {
     "data": {
      "text/html": [
       "<ol class=list-inline>\n",
       "\t<li>'numeric'</li>\n",
       "\t<li>'vector'</li>\n",
       "</ol>\n"
      ],
      "text/latex": [
       "\\begin{enumerate*}\n",
       "\\item 'numeric'\n",
       "\\item 'vector'\n",
       "\\end{enumerate*}\n"
      ],
      "text/markdown": [
       "1. 'numeric'\n",
       "2. 'vector'\n",
       "\n",
       "\n"
      ],
      "text/plain": [
       "[1] \"numeric\" \"vector\" "
      ]
     },
     "metadata": {},
     "output_type": "display_data"
    }
   ],
   "source": [
    "\n",
    "fch <- apply(mdn, 2, function(x) x[1]/x[2]) #calculate fold change\n",
    "             #check it by hand\n",
    "\n",
    "head(fch) #to check it's ok\n",
    "is(fch)"
   ]
  },
  {
   "cell_type": "code",
   "execution_count": 7,
   "metadata": {},
   "outputs": [
    {
     "data": {
      "text/html": [
       "<table>\n",
       "<thead><tr><th></th><th scope=col>fch</th></tr></thead>\n",
       "<tbody>\n",
       "\t<tr><th scope=row>X228.195_2.62</th><td>1.2929669</td></tr>\n",
       "\t<tr><th scope=row>X113.963_0.22</th><td>1.0824090</td></tr>\n",
       "\t<tr><th scope=row>X404.206_2.67</th><td>0.9715265</td></tr>\n",
       "\t<tr><th scope=row>X343.294_2.64</th><td>0.6820797</td></tr>\n",
       "\t<tr><th scope=row>X409.161_2.66</th><td>0.8993415</td></tr>\n",
       "\t<tr><th scope=row>X375.198_2.77</th><td>1.0853435</td></tr>\n",
       "</tbody>\n",
       "</table>\n"
      ],
      "text/latex": [
       "\\begin{tabular}{r|l}\n",
       "  & fch\\\\\n",
       "\\hline\n",
       "\tX228.195\\_2.62 & 1.2929669\\\\\n",
       "\tX113.963\\_0.22 & 1.0824090\\\\\n",
       "\tX404.206\\_2.67 & 0.9715265\\\\\n",
       "\tX343.294\\_2.64 & 0.6820797\\\\\n",
       "\tX409.161\\_2.66 & 0.8993415\\\\\n",
       "\tX375.198\\_2.77 & 1.0853435\\\\\n",
       "\\end{tabular}\n"
      ],
      "text/markdown": [
       "\n",
       "| <!--/--> | fch |\n",
       "|---|---|\n",
       "| X228.195_2.62 | 1.2929669 |\n",
       "| X113.963_0.22 | 1.0824090 |\n",
       "| X404.206_2.67 | 0.9715265 |\n",
       "| X343.294_2.64 | 0.6820797 |\n",
       "| X409.161_2.66 | 0.8993415 |\n",
       "| X375.198_2.77 | 1.0853435 |\n",
       "\n"
      ],
      "text/plain": [
       "              fch      \n",
       "X228.195_2.62 1.2929669\n",
       "X113.963_0.22 1.0824090\n",
       "X404.206_2.67 0.9715265\n",
       "X343.294_2.64 0.6820797\n",
       "X409.161_2.66 0.8993415\n",
       "X375.198_2.77 1.0853435"
      ]
     },
     "metadata": {},
     "output_type": "display_data"
    }
   ],
   "source": [
    "df <- data.frame(fch)\n",
    "head(df)"
   ]
  },
  {
   "cell_type": "code",
   "execution_count": 8,
   "metadata": {},
   "outputs": [],
   "source": [
    "write.csv(df, \"cecum_fold_change_50.csv\")\n",
    "#repeat for each organ and sampling site"
   ]
  },
  {
   "cell_type": "code",
   "execution_count": null,
   "metadata": {},
   "outputs": [],
   "source": []
  },
  {
   "cell_type": "code",
   "execution_count": null,
   "metadata": {},
   "outputs": [],
   "source": []
  }
 ],
 "metadata": {
  "kernelspec": {
   "display_name": "R",
   "language": "R",
   "name": "ir"
  },
  "language_info": {
   "codemirror_mode": "r",
   "file_extension": ".r",
   "mimetype": "text/x-r-source",
   "name": "R",
   "pygments_lexer": "r",
   "version": "3.6.1"
  }
 },
 "nbformat": 4,
 "nbformat_minor": 4
}
