{
 "cells": [
  {
   "cell_type": "code",
   "execution_count": 1,
   "metadata": {},
   "outputs": [],
   "source": [
    "features<-read.csv(\"C:/Users/caitl/OneDrive/Desktop/Toxoplasma/Feature_Tables_No_Knockouts/cecum_features.csv\")"
   ]
  },
  {
   "cell_type": "code",
   "execution_count": 2,
   "metadata": {},
   "outputs": [
    {
     "data": {
      "text/html": [
       "<table>\n",
       "<thead><tr><th scope=col>ï..sample.id</th><th scope=col>injection_order</th><th scope=col>organ_content</th><th scope=col>Mouse_nu</th><th scope=col>Days.post.infection</th><th scope=col>Condition</th><th scope=col>genotypes</th><th scope=col>gen_con_DPI</th><th scope=col>Box.</th><th scope=col>Tissue.Collection.Date</th><th scope=col>...</th><th scope=col>X361.272_3.25</th><th scope=col>X560.31_2.95</th><th scope=col>X828.536_3.22</th><th scope=col>X774.525_3.35</th><th scope=col>X796.509_3.35</th><th scope=col>X800.576_3.58</th><th scope=col>X180.101_2.55</th><th scope=col>X435.989_0.27</th><th scope=col>X477.212_1.27</th><th scope=col>X432.241_2.44</th></tr></thead>\n",
       "<tbody>\n",
       "\t<tr><td>cecum_25_15_INFECTED_WT_INF_2_10_14_2021_2_181_A4     </td><td> 47                                                   </td><td>cecum                                                 </td><td>25                                                    </td><td>15                                                    </td><td>INFECTED                                              </td><td>WT_INF                                                </td><td>WT_INF_15                                             </td><td>2                                                     </td><td>10_14_2021                                            </td><td>...                                                   </td><td> 451252.4                                             </td><td>-468746.08                                            </td><td>-2665310.6                                            </td><td>-1320181.1                                            </td><td>-1766359.7                                            </td><td>-11717904                                             </td><td>-1094359.42                                           </td><td>-135154.31                                            </td><td>-1592878.0                                            </td><td>345928.7                                              </td></tr>\n",
       "\t<tr><td>cecum_11_15_UNINFECTED_WT_UNINF_3_10_7_2021_13_179_C4 </td><td> 69                                                   </td><td>cecum                                                 </td><td>11                                                    </td><td>15                                                    </td><td>UNINFECTED                                            </td><td>WT_UNINF                                              </td><td>WT_UNINF_15                                           </td><td>3                                                     </td><td>10_7_2021                                             </td><td>...                                                   </td><td> 398453.8                                             </td><td>-439949.11                                            </td><td>-2456651.7                                            </td><td>-1216828.2                                            </td><td>-1628076.8                                            </td><td>-10800545                                             </td><td>-1008685.39                                           </td><td>-124573.50                                            </td><td>-1468176.4                                            </td><td>364113.4                                              </td></tr>\n",
       "\t<tr><td>cecum_31_15_UNINFECTED_WT_UNINF_3_10_14_2021_13_181_G4</td><td> 97                                                   </td><td>cecum                                                 </td><td>31                                                    </td><td>15                                                    </td><td>UNINFECTED                                            </td><td>WT_UNINF                                              </td><td>WT_UNINF_15                                           </td><td>3                                                     </td><td>10_14_2021                                            </td><td>...                                                   </td><td> 220971.1                                             </td><td> -98811.39                                            </td><td> -787271.6                                            </td><td> -389951.2                                            </td><td> -521742.1                                            </td><td> -3461200                                             </td><td> -323248.67                                           </td><td> -39921.48                                            </td><td> -470499.6                                            </td><td>218435.7                                              </td></tr>\n",
       "\t<tr><td>cecum_19_15_UNINFECTED_WT_UNINF_5_10_7_2021_15_180_C4 </td><td>110                                                   </td><td>cecum                                                 </td><td>19                                                    </td><td>15                                                    </td><td>UNINFECTED                                            </td><td>WT_UNINF                                              </td><td>WT_UNINF_15                                           </td><td>5                                                     </td><td>10_7_2021                                             </td><td>...                                                   </td><td> 440826.6                                             </td><td> -34850.77                                            </td><td> -927702.1                                            </td><td> -459509.2                                            </td><td> -614808.5                                            </td><td> -4078595                                             </td><td> -380908.51                                           </td><td> -47042.52                                            </td><td> -554425.5                                            </td><td>292125.3                                              </td></tr>\n",
       "\t<tr><td>cecum_9_15_INFECTED_WT_INF_3_10_7_2021_3_179_A4       </td><td>143                                                   </td><td>cecum                                                 </td><td> 9                                                    </td><td>15                                                    </td><td>INFECTED                                              </td><td>WT_INF                                                </td><td>WT_INF_15                                             </td><td>3                                                     </td><td>10_7_2021                                             </td><td>...                                                   </td><td> 197240.3                                             </td><td>  29060.05                                            </td><td> -238183.9                                            </td><td> -117977.2                                            </td><td> -157849.7                                            </td><td> -1047164                                             </td><td>  -97796.79                                           </td><td> -12077.99                                            </td><td> -142346.6                                            </td><td>267431.7                                              </td></tr>\n",
       "\t<tr><td>cecum_7_15_UNINFECTED_WT_UNINF_2_10_7_2021_12_178_G4  </td><td>171                                                   </td><td>cecum                                                 </td><td> 7                                                    </td><td>15                                                    </td><td>UNINFECTED                                            </td><td>WT_UNINF                                              </td><td>WT_UNINF_15                                           </td><td>2                                                     </td><td>10_7_2021                                             </td><td>...                                                   </td><td>-228588.0                                             </td><td> -44840.81                                            </td><td>  231818.3                                            </td><td>  114824.2                                            </td><td>  153631.1                                            </td><td>  1019177                                             </td><td>   95183.10                                           </td><td>  11755.19                                            </td><td>  138542.3                                            </td><td>227919.4                                              </td></tr>\n",
       "</tbody>\n",
       "</table>\n"
      ],
      "text/latex": [
       "\\begin{tabular}{r|llllllllllllllllllllllllllllllllllllllllllllllllllllllllllllllllllllllllllllllllllllllllllllllllllllllllllllllllllllllllllllllllllllllllllllllllllllllllllllllllllllllllllllllllllllllllllllllllllllllllllllllllllllllllllllllllllllllllllllllllllllllllllllllllllllllllllllllllllllllllllllllllllllllllllllllllllllllllllllllllllllllllllllllllllllllllllllllllllllllllllllllllllllllllllllllllllllllllllllllllllllllllllllllllllllllllllllllllllllllllllllllllllllllllllllllllllllllllllllllllllllllllllllllllllllllllllllllllllllllllllllllllllllllllllllllllllllllllllllllllllllllllllllllllllllllllllllllllllllllllllllllllllllllllllllllllllllllllllllllllllllllllllllllllllllllllllllllllllllllllllllllllllllllllllllllllllllllllllllllllllllllllllllllllllllllllllllllllllllllllllllllllllllllllllllllllllllllllllllllllllllllllllllllllllllllllllllllllllllllllllllllllllllllllllllllllllllllllllllllllllllllllllllllllllllllllllllllllllllllllllllllllllllllllllllllllllllllllllllllllllllllllllllllllllllllllllllllllllllllllllllllllllllllllllllllllllllllllllllllllllllllllllllllllllllllllllllllllllllllllllllllllllllllllllllllllllllllllllllllllllllllllllllllllllllllllllllllllllllllllllllllllllllllllllllllllllllllllllllllllllllllllllllllllllllllllllllllllllllllllllllllllllllllllllllllllllllllllllllllllllllllllllllllllllllllllllllllllllllllllllllllllllllllllllllllllllllllllllllllllllllllllllllllllllllllllllllllllllllllllllllllllllllllllllllllllllllllllllllllllllllllllllllllllllllllllllllllllllllllllllllllllllllllllllllllllllllllllllllllllllllllllllllllllllllllllllllllllllllllllllllllllllllllllllllllllllllllllllllllllllllllllllllllllllllllllllllllllllllllllllllllllllllllllllllllllllllllllllllllllllllllllllllllllllllllllllllllllllllllllllllllllllllllllllllllllllllllllllllllllllllllllllllllllllllllllllllllllllllllllllllllllllllllllllllllllllllllllllllllllllllllllllllllllllllllllllllllllllllllllllllllllllllllllllllllllllllllllllllllllllllllllllllllllllllllllllllllllllllllllllllllllllllllllllllllllllllllllllllllllllllllllllllllllllllllllllllllllllllllllllllllllllllllllllllllllllllllllllllllllllllllllllllllllllllllllllllllllllllllllllllllllllllllllllllllllllllllllllllllllllllllllllllllllllllllllllllllllllllllllllllllllllllllllllllllllllllllllllllllllllllllllllllllllllllllllllllllllllllllllllllllllllllllllllllllllllllllllllllllllllllllllllllllllllllllllllllllllllllllllllllllllllllllllllllllllllllllllllllllllllllllllllllllllllllllllllllllllllllllllllllllllllllllllllllllllllllllllllllllllllllllllllllllllllllllllllllllllllllllllllllllllllllllllllllllllllllllllllllllllllllllllllllllllllllllllllllllllllllllllllllllllllllllllllllllllllllllllllllllllllllllllllllllllllllllllllllllllllllllllllllllllllllllllllllllllllllllllllllllllllllllllllllllllllllllllllllllllllllllllllllllllllllllllllllllllllllllllllllllllllllllllllllllllllllllllllllllllllllllllllllllllllllllllllllllllllllllllllllllllll}\n",
       " ï..sample.id & injection\\_order & organ\\_content & Mouse\\_nu & Days.post.infection & Condition & genotypes & gen\\_con\\_DPI & Box. & Tissue.Collection.Date & ... & X361.272\\_3.25 & X560.31\\_2.95 & X828.536\\_3.22 & X774.525\\_3.35 & X796.509\\_3.35 & X800.576\\_3.58 & X180.101\\_2.55 & X435.989\\_0.27 & X477.212\\_1.27 & X432.241\\_2.44\\\\\n",
       "\\hline\n",
       "\t cecum\\_25\\_15\\_INFECTED\\_WT\\_INF\\_2\\_10\\_14\\_2021\\_2\\_181\\_A4      &  47                                                                            & cecum                                                                          & 25                                                                             & 15                                                                             & INFECTED                                                                       & WT\\_INF                                                                       & WT\\_INF\\_15                                                                  & 2                                                                              & 10\\_14\\_2021                                                                 & ...                                                                            &  451252.4                                                                      & -468746.08                                                                     & -2665310.6                                                                     & -1320181.1                                                                     & -1766359.7                                                                     & -11717904                                                                      & -1094359.42                                                                    & -135154.31                                                                     & -1592878.0                                                                     & 345928.7                                                                      \\\\\n",
       "\t cecum\\_11\\_15\\_UNINFECTED\\_WT\\_UNINF\\_3\\_10\\_7\\_2021\\_13\\_179\\_C4  &  69                                                                            & cecum                                                                          & 11                                                                             & 15                                                                             & UNINFECTED                                                                     & WT\\_UNINF                                                                     & WT\\_UNINF\\_15                                                                & 3                                                                              & 10\\_7\\_2021                                                                  & ...                                                                            &  398453.8                                                                      & -439949.11                                                                     & -2456651.7                                                                     & -1216828.2                                                                     & -1628076.8                                                                     & -10800545                                                                      & -1008685.39                                                                    & -124573.50                                                                     & -1468176.4                                                                     & 364113.4                                                                      \\\\\n",
       "\t cecum\\_31\\_15\\_UNINFECTED\\_WT\\_UNINF\\_3\\_10\\_14\\_2021\\_13\\_181\\_G4 &  97                                                                            & cecum                                                                          & 31                                                                             & 15                                                                             & UNINFECTED                                                                     & WT\\_UNINF                                                                     & WT\\_UNINF\\_15                                                                & 3                                                                              & 10\\_14\\_2021                                                                 & ...                                                                            &  220971.1                                                                      &  -98811.39                                                                     &  -787271.6                                                                     &  -389951.2                                                                     &  -521742.1                                                                     &  -3461200                                                                      &  -323248.67                                                                    &  -39921.48                                                                     &  -470499.6                                                                     & 218435.7                                                                      \\\\\n",
       "\t cecum\\_19\\_15\\_UNINFECTED\\_WT\\_UNINF\\_5\\_10\\_7\\_2021\\_15\\_180\\_C4  & 110                                                                            & cecum                                                                          & 19                                                                             & 15                                                                             & UNINFECTED                                                                     & WT\\_UNINF                                                                     & WT\\_UNINF\\_15                                                                & 5                                                                              & 10\\_7\\_2021                                                                  & ...                                                                            &  440826.6                                                                      &  -34850.77                                                                     &  -927702.1                                                                     &  -459509.2                                                                     &  -614808.5                                                                     &  -4078595                                                                      &  -380908.51                                                                    &  -47042.52                                                                     &  -554425.5                                                                     & 292125.3                                                                      \\\\\n",
       "\t cecum\\_9\\_15\\_INFECTED\\_WT\\_INF\\_3\\_10\\_7\\_2021\\_3\\_179\\_A4        & 143                                                                            & cecum                                                                          &  9                                                                             & 15                                                                             & INFECTED                                                                       & WT\\_INF                                                                       & WT\\_INF\\_15                                                                  & 3                                                                              & 10\\_7\\_2021                                                                  & ...                                                                            &  197240.3                                                                      &   29060.05                                                                     &  -238183.9                                                                     &  -117977.2                                                                     &  -157849.7                                                                     &  -1047164                                                                      &   -97796.79                                                                    &  -12077.99                                                                     &  -142346.6                                                                     & 267431.7                                                                      \\\\\n",
       "\t cecum\\_7\\_15\\_UNINFECTED\\_WT\\_UNINF\\_2\\_10\\_7\\_2021\\_12\\_178\\_G4   & 171                                                                            & cecum                                                                          &  7                                                                             & 15                                                                             & UNINFECTED                                                                     & WT\\_UNINF                                                                     & WT\\_UNINF\\_15                                                                & 2                                                                              & 10\\_7\\_2021                                                                  & ...                                                                            & -228588.0                                                                      &  -44840.81                                                                     &   231818.3                                                                     &   114824.2                                                                     &   153631.1                                                                     &   1019177                                                                      &    95183.10                                                                    &   11755.19                                                                     &   138542.3                                                                     & 227919.4                                                                      \\\\\n",
       "\\end{tabular}\n"
      ],
      "text/markdown": [
       "\n",
       "| ï..sample.id | injection_order | organ_content | Mouse_nu | Days.post.infection | Condition | genotypes | gen_con_DPI | Box. | Tissue.Collection.Date | ... | X361.272_3.25 | X560.31_2.95 | X828.536_3.22 | X774.525_3.35 | X796.509_3.35 | X800.576_3.58 | X180.101_2.55 | X435.989_0.27 | X477.212_1.27 | X432.241_2.44 |\n",
       "|---|---|---|---|---|---|---|---|---|---|---|---|---|---|---|---|---|---|---|---|---|\n",
       "| cecum_25_15_INFECTED_WT_INF_2_10_14_2021_2_181_A4      |  47                                                    | cecum                                                  | 25                                                     | 15                                                     | INFECTED                                               | WT_INF                                                 | WT_INF_15                                              | 2                                                      | 10_14_2021                                             | ...                                                    |  451252.4                                              | -468746.08                                             | -2665310.6                                             | -1320181.1                                             | -1766359.7                                             | -11717904                                              | -1094359.42                                            | -135154.31                                             | -1592878.0                                             | 345928.7                                               |\n",
       "| cecum_11_15_UNINFECTED_WT_UNINF_3_10_7_2021_13_179_C4  |  69                                                    | cecum                                                  | 11                                                     | 15                                                     | UNINFECTED                                             | WT_UNINF                                               | WT_UNINF_15                                            | 3                                                      | 10_7_2021                                              | ...                                                    |  398453.8                                              | -439949.11                                             | -2456651.7                                             | -1216828.2                                             | -1628076.8                                             | -10800545                                              | -1008685.39                                            | -124573.50                                             | -1468176.4                                             | 364113.4                                               |\n",
       "| cecum_31_15_UNINFECTED_WT_UNINF_3_10_14_2021_13_181_G4 |  97                                                    | cecum                                                  | 31                                                     | 15                                                     | UNINFECTED                                             | WT_UNINF                                               | WT_UNINF_15                                            | 3                                                      | 10_14_2021                                             | ...                                                    |  220971.1                                              |  -98811.39                                             |  -787271.6                                             |  -389951.2                                             |  -521742.1                                             |  -3461200                                              |  -323248.67                                            |  -39921.48                                             |  -470499.6                                             | 218435.7                                               |\n",
       "| cecum_19_15_UNINFECTED_WT_UNINF_5_10_7_2021_15_180_C4  | 110                                                    | cecum                                                  | 19                                                     | 15                                                     | UNINFECTED                                             | WT_UNINF                                               | WT_UNINF_15                                            | 5                                                      | 10_7_2021                                              | ...                                                    |  440826.6                                              |  -34850.77                                             |  -927702.1                                             |  -459509.2                                             |  -614808.5                                             |  -4078595                                              |  -380908.51                                            |  -47042.52                                             |  -554425.5                                             | 292125.3                                               |\n",
       "| cecum_9_15_INFECTED_WT_INF_3_10_7_2021_3_179_A4        | 143                                                    | cecum                                                  |  9                                                     | 15                                                     | INFECTED                                               | WT_INF                                                 | WT_INF_15                                              | 3                                                      | 10_7_2021                                              | ...                                                    |  197240.3                                              |   29060.05                                             |  -238183.9                                             |  -117977.2                                             |  -157849.7                                             |  -1047164                                              |   -97796.79                                            |  -12077.99                                             |  -142346.6                                             | 267431.7                                               |\n",
       "| cecum_7_15_UNINFECTED_WT_UNINF_2_10_7_2021_12_178_G4   | 171                                                    | cecum                                                  |  7                                                     | 15                                                     | UNINFECTED                                             | WT_UNINF                                               | WT_UNINF_15                                            | 2                                                      | 10_7_2021                                              | ...                                                    | -228588.0                                              |  -44840.81                                             |   231818.3                                             |   114824.2                                             |   153631.1                                             |   1019177                                              |    95183.10                                            |   11755.19                                             |   138542.3                                             | 227919.4                                               |\n",
       "\n"
      ],
      "text/plain": [
       "  ï..sample.id                                           injection_order\n",
       "1 cecum_25_15_INFECTED_WT_INF_2_10_14_2021_2_181_A4       47            \n",
       "2 cecum_11_15_UNINFECTED_WT_UNINF_3_10_7_2021_13_179_C4   69            \n",
       "3 cecum_31_15_UNINFECTED_WT_UNINF_3_10_14_2021_13_181_G4  97            \n",
       "4 cecum_19_15_UNINFECTED_WT_UNINF_5_10_7_2021_15_180_C4  110            \n",
       "5 cecum_9_15_INFECTED_WT_INF_3_10_7_2021_3_179_A4        143            \n",
       "6 cecum_7_15_UNINFECTED_WT_UNINF_2_10_7_2021_12_178_G4   171            \n",
       "  organ_content Mouse_nu Days.post.infection Condition  genotypes gen_con_DPI\n",
       "1 cecum         25       15                  INFECTED   WT_INF    WT_INF_15  \n",
       "2 cecum         11       15                  UNINFECTED WT_UNINF  WT_UNINF_15\n",
       "3 cecum         31       15                  UNINFECTED WT_UNINF  WT_UNINF_15\n",
       "4 cecum         19       15                  UNINFECTED WT_UNINF  WT_UNINF_15\n",
       "5 cecum          9       15                  INFECTED   WT_INF    WT_INF_15  \n",
       "6 cecum          7       15                  UNINFECTED WT_UNINF  WT_UNINF_15\n",
       "  Box. Tissue.Collection.Date ... X361.272_3.25 X560.31_2.95 X828.536_3.22\n",
       "1 2    10_14_2021             ...  451252.4     -468746.08   -2665310.6   \n",
       "2 3    10_7_2021              ...  398453.8     -439949.11   -2456651.7   \n",
       "3 3    10_14_2021             ...  220971.1      -98811.39    -787271.6   \n",
       "4 5    10_7_2021              ...  440826.6      -34850.77    -927702.1   \n",
       "5 3    10_7_2021              ...  197240.3       29060.05    -238183.9   \n",
       "6 2    10_7_2021              ... -228588.0      -44840.81     231818.3   \n",
       "  X774.525_3.35 X796.509_3.35 X800.576_3.58 X180.101_2.55 X435.989_0.27\n",
       "1 -1320181.1    -1766359.7    -11717904     -1094359.42   -135154.31   \n",
       "2 -1216828.2    -1628076.8    -10800545     -1008685.39   -124573.50   \n",
       "3  -389951.2     -521742.1     -3461200      -323248.67    -39921.48   \n",
       "4  -459509.2     -614808.5     -4078595      -380908.51    -47042.52   \n",
       "5  -117977.2     -157849.7     -1047164       -97796.79    -12077.99   \n",
       "6   114824.2      153631.1      1019177        95183.10     11755.19   \n",
       "  X477.212_1.27 X432.241_2.44\n",
       "1 -1592878.0    345928.7     \n",
       "2 -1468176.4    364113.4     \n",
       "3  -470499.6    218435.7     \n",
       "4  -554425.5    292125.3     \n",
       "5  -142346.6    267431.7     \n",
       "6   138542.3    227919.4     "
      ]
     },
     "metadata": {},
     "output_type": "display_data"
    }
   ],
   "source": [
    "head(features)"
   ]
  },
  {
   "cell_type": "code",
   "execution_count": 3,
   "metadata": {},
   "outputs": [
    {
     "data": {
      "text/plain": [
       "\n",
       "15 50 \n",
       "19 17 "
      ]
     },
     "metadata": {},
     "output_type": "display_data"
    },
    {
     "data": {
      "text/plain": [
       "\n",
       "50 \n",
       "17 "
      ]
     },
     "metadata": {},
     "output_type": "display_data"
    },
    {
     "data": {
      "text/plain": [
       "\n",
       "15 \n",
       "19 "
      ]
     },
     "metadata": {},
     "output_type": "display_data"
    }
   ],
   "source": [
    "#subset by timepoint\n",
    "table(features$Days.post.infection)\n",
    "d50<-droplevels(subset(features, features$Days.post.infection==c(\"50\")))\n",
    "d15<-droplevels(subset(features, features$Days.post.infection==c(\"15\")))\n",
    "table(d50$Days.post.infection)\n",
    "table(d15$Days.post.infection)"
   ]
  },
  {
   "cell_type": "code",
   "execution_count": 4,
   "metadata": {},
   "outputs": [
    {
     "data": {
      "text/html": [
       "<table>\n",
       "<thead><tr><th scope=col>injection_order</th><th scope=col>organ_content</th><th scope=col>Mouse_nu</th><th scope=col>Days.post.infection</th><th scope=col>Condition</th><th scope=col>genotypes</th><th scope=col>gen_con_DPI</th><th scope=col>Box.</th><th scope=col>Tissue.Collection.Date</th><th scope=col>Well_position_corrected</th><th scope=col>Well_position_McC_lab</th><th scope=col>group</th><th scope=col>X141.958_0.22</th><th scope=col>X228.195_2.62</th><th scope=col>X113.963_0.22</th><th scope=col>X404.206_2.67</th><th scope=col>X343.294_2.64</th></tr></thead>\n",
       "<tbody>\n",
       "\t<tr><td> 47        </td><td>cecum      </td><td>25         </td><td>15         </td><td>INFECTED   </td><td>WT_INF     </td><td>WT_INF_15  </td><td>2          </td><td>10_14_2021 </td><td>04-A4      </td><td>181-A4     </td><td>1          </td><td>333909990  </td><td>22836080   </td><td>598439312  </td><td>188102975  </td><td>7676133.5  </td></tr>\n",
       "\t<tr><td> 69        </td><td>cecum      </td><td>11         </td><td>15         </td><td>UNINFECTED </td><td>WT_UNINF   </td><td>WT_UNINF_15</td><td>3          </td><td>10_7_2021  </td><td>02-C4      </td><td>179-C4     </td><td>1          </td><td>357426436  </td><td>10218432   </td><td>659976908  </td><td>265073247  </td><td>-852086.4  </td></tr>\n",
       "\t<tr><td> 97        </td><td>cecum      </td><td>31         </td><td>15         </td><td>UNINFECTED </td><td>WT_UNINF   </td><td>WT_UNINF_15</td><td>3          </td><td>10_14_2021 </td><td>04-G4      </td><td>181-G4     </td><td>1          </td><td>355090057  </td><td>18857642   </td><td>645961852  </td><td>224879577  </td><td>-308285.3  </td></tr>\n",
       "\t<tr><td>110        </td><td>cecum      </td><td>19         </td><td>15         </td><td>UNINFECTED </td><td>WT_UNINF   </td><td>WT_UNINF_15</td><td>5          </td><td>10_7_2021  </td><td>03-C4      </td><td>180-C4     </td><td>1          </td><td>370403454  </td><td> 9761042   </td><td>686031939  </td><td>232635278  </td><td>-576132.3  </td></tr>\n",
       "\t<tr><td>143        </td><td>cecum      </td><td> 9         </td><td>15         </td><td>INFECTED   </td><td>WT_INF     </td><td>WT_INF_15  </td><td>3          </td><td>10_7_2021  </td><td>02-A4      </td><td>179-A4     </td><td>1          </td><td>418942531  </td><td>16941355   </td><td>697196956  </td><td>215559461  </td><td>-805749.0  </td></tr>\n",
       "\t<tr><td>171        </td><td>cecum      </td><td> 7         </td><td>15         </td><td>UNINFECTED </td><td>WT_UNINF   </td><td>WT_UNINF_15</td><td>2          </td><td>10_7_2021  </td><td>01-G4      </td><td>178-G4     </td><td>1          </td><td>392799198  </td><td>10054522   </td><td>708042880  </td><td>302098947  </td><td>6229083.0  </td></tr>\n",
       "</tbody>\n",
       "</table>\n"
      ],
      "text/latex": [
       "\\begin{tabular}{r|lllllllllllllllll}\n",
       " injection\\_order & organ\\_content & Mouse\\_nu & Days.post.infection & Condition & genotypes & gen\\_con\\_DPI & Box. & Tissue.Collection.Date & Well\\_position\\_corrected & Well\\_position\\_McC\\_lab & group & X141.958\\_0.22 & X228.195\\_2.62 & X113.963\\_0.22 & X404.206\\_2.67 & X343.294\\_2.64\\\\\n",
       "\\hline\n",
       "\t  47             & cecum           & 25              & 15              & INFECTED        & WT\\_INF        & WT\\_INF\\_15   & 2               & 10\\_14\\_2021  & 04-A4           & 181-A4          & 1               & 333909990       & 22836080        & 598439312       & 188102975       & 7676133.5      \\\\\n",
       "\t  69             & cecum           & 11              & 15              & UNINFECTED      & WT\\_UNINF      & WT\\_UNINF\\_15 & 3               & 10\\_7\\_2021   & 02-C4           & 179-C4          & 1               & 357426436       & 10218432        & 659976908       & 265073247       & -852086.4      \\\\\n",
       "\t  97             & cecum           & 31              & 15              & UNINFECTED      & WT\\_UNINF      & WT\\_UNINF\\_15 & 3               & 10\\_14\\_2021  & 04-G4           & 181-G4          & 1               & 355090057       & 18857642        & 645961852       & 224879577       & -308285.3      \\\\\n",
       "\t 110             & cecum           & 19              & 15              & UNINFECTED      & WT\\_UNINF      & WT\\_UNINF\\_15 & 5               & 10\\_7\\_2021   & 03-C4           & 180-C4          & 1               & 370403454       &  9761042        & 686031939       & 232635278       & -576132.3      \\\\\n",
       "\t 143             & cecum           &  9              & 15              & INFECTED        & WT\\_INF        & WT\\_INF\\_15   & 3               & 10\\_7\\_2021   & 02-A4           & 179-A4          & 1               & 418942531       & 16941355        & 697196956       & 215559461       & -805749.0      \\\\\n",
       "\t 171             & cecum           &  7              & 15              & UNINFECTED      & WT\\_UNINF      & WT\\_UNINF\\_15 & 2               & 10\\_7\\_2021   & 01-G4           & 178-G4          & 1               & 392799198       & 10054522        & 708042880       & 302098947       & 6229083.0      \\\\\n",
       "\\end{tabular}\n"
      ],
      "text/markdown": [
       "\n",
       "| injection_order | organ_content | Mouse_nu | Days.post.infection | Condition | genotypes | gen_con_DPI | Box. | Tissue.Collection.Date | Well_position_corrected | Well_position_McC_lab | group | X141.958_0.22 | X228.195_2.62 | X113.963_0.22 | X404.206_2.67 | X343.294_2.64 |\n",
       "|---|---|---|---|---|---|---|---|---|---|---|---|---|---|---|---|---|\n",
       "|  47         | cecum       | 25          | 15          | INFECTED    | WT_INF      | WT_INF_15   | 2           | 10_14_2021  | 04-A4       | 181-A4      | 1           | 333909990   | 22836080    | 598439312   | 188102975   | 7676133.5   |\n",
       "|  69         | cecum       | 11          | 15          | UNINFECTED  | WT_UNINF    | WT_UNINF_15 | 3           | 10_7_2021   | 02-C4       | 179-C4      | 1           | 357426436   | 10218432    | 659976908   | 265073247   | -852086.4   |\n",
       "|  97         | cecum       | 31          | 15          | UNINFECTED  | WT_UNINF    | WT_UNINF_15 | 3           | 10_14_2021  | 04-G4       | 181-G4      | 1           | 355090057   | 18857642    | 645961852   | 224879577   | -308285.3   |\n",
       "| 110         | cecum       | 19          | 15          | UNINFECTED  | WT_UNINF    | WT_UNINF_15 | 5           | 10_7_2021   | 03-C4       | 180-C4      | 1           | 370403454   |  9761042    | 686031939   | 232635278   | -576132.3   |\n",
       "| 143         | cecum       |  9          | 15          | INFECTED    | WT_INF      | WT_INF_15   | 3           | 10_7_2021   | 02-A4       | 179-A4      | 1           | 418942531   | 16941355    | 697196956   | 215559461   | -805749.0   |\n",
       "| 171         | cecum       |  7          | 15          | UNINFECTED  | WT_UNINF    | WT_UNINF_15 | 2           | 10_7_2021   | 01-G4       | 178-G4      | 1           | 392799198   | 10054522    | 708042880   | 302098947   | 6229083.0   |\n",
       "\n"
      ],
      "text/plain": [
       "  injection_order organ_content Mouse_nu Days.post.infection Condition \n",
       "1  47             cecum         25       15                  INFECTED  \n",
       "2  69             cecum         11       15                  UNINFECTED\n",
       "3  97             cecum         31       15                  UNINFECTED\n",
       "4 110             cecum         19       15                  UNINFECTED\n",
       "5 143             cecum          9       15                  INFECTED  \n",
       "6 171             cecum          7       15                  UNINFECTED\n",
       "  genotypes gen_con_DPI Box. Tissue.Collection.Date Well_position_corrected\n",
       "1 WT_INF    WT_INF_15   2    10_14_2021             04-A4                  \n",
       "2 WT_UNINF  WT_UNINF_15 3    10_7_2021              02-C4                  \n",
       "3 WT_UNINF  WT_UNINF_15 3    10_14_2021             04-G4                  \n",
       "4 WT_UNINF  WT_UNINF_15 5    10_7_2021              03-C4                  \n",
       "5 WT_INF    WT_INF_15   3    10_7_2021              02-A4                  \n",
       "6 WT_UNINF  WT_UNINF_15 2    10_7_2021              01-G4                  \n",
       "  Well_position_McC_lab group X141.958_0.22 X228.195_2.62 X113.963_0.22\n",
       "1 181-A4                1     333909990     22836080      598439312    \n",
       "2 179-C4                1     357426436     10218432      659976908    \n",
       "3 181-G4                1     355090057     18857642      645961852    \n",
       "4 180-C4                1     370403454      9761042      686031939    \n",
       "5 179-A4                1     418942531     16941355      697196956    \n",
       "6 178-G4                1     392799198     10054522      708042880    \n",
       "  X404.206_2.67 X343.294_2.64\n",
       "1 188102975     7676133.5    \n",
       "2 265073247     -852086.4    \n",
       "3 224879577     -308285.3    \n",
       "4 232635278     -576132.3    \n",
       "5 215559461     -805749.0    \n",
       "6 302098947     6229083.0    "
      ]
     },
     "metadata": {},
     "output_type": "display_data"
    },
    {
     "data": {
      "text/html": [
       "<ol class=list-inline>\n",
       "\t<li>19</li>\n",
       "\t<li>2882</li>\n",
       "</ol>\n"
      ],
      "text/latex": [
       "\\begin{enumerate*}\n",
       "\\item 19\n",
       "\\item 2882\n",
       "\\end{enumerate*}\n"
      ],
      "text/markdown": [
       "1. 19\n",
       "2. 2882\n",
       "\n",
       "\n"
      ],
      "text/plain": [
       "[1]   19 2882"
      ]
     },
     "metadata": {},
     "output_type": "display_data"
    }
   ],
   "source": [
    "#visually inspect subsetted tables\n",
    "head(d15[2:18])\n",
    "dim(d15)"
   ]
  },
  {
   "cell_type": "code",
   "execution_count": 5,
   "metadata": {},
   "outputs": [
    {
     "data": {
      "text/html": [
       "<ol class=list-inline>\n",
       "\t<li>2</li>\n",
       "\t<li>2868</li>\n",
       "</ol>\n"
      ],
      "text/latex": [
       "\\begin{enumerate*}\n",
       "\\item 2\n",
       "\\item 2868\n",
       "\\end{enumerate*}\n"
      ],
      "text/markdown": [
       "1. 2\n",
       "2. 2868\n",
       "\n",
       "\n"
      ],
      "text/plain": [
       "[1]    2 2868"
      ]
     },
     "metadata": {},
     "output_type": "display_data"
    },
    {
     "data": {
      "text/html": [
       "<table>\n",
       "<thead><tr><th></th><th scope=col>X228.195_2.62</th><th scope=col>X113.963_0.22</th><th scope=col>X404.206_2.67</th><th scope=col>X343.294_2.64</th><th scope=col>X409.161_2.66</th><th scope=col>X375.198_2.77</th><th scope=col>X182.985_0.22</th><th scope=col>X207.017_5.62</th><th scope=col>X247.166_5.52</th><th scope=col>X181.014_5.63</th><th scope=col>X131.533_5.63</th><th scope=col>X226.179_2.52</th><th scope=col>X109.521_5.64</th><th scope=col>X333.062_2.46</th><th scope=col>X412.32_2.78</th></tr></thead>\n",
       "<tbody>\n",
       "\t<tr><th scope=row>INFECTED</th><td>12977644 </td><td>697196956</td><td>212903741</td><td>-600224.6</td><td>265828720</td><td>32068787 </td><td>63430798 </td><td>302580318</td><td>189458331</td><td>262532039</td><td>251695284</td><td>3687762.9</td><td>116993451</td><td>4175935  </td><td>28979427 </td></tr>\n",
       "\t<tr><th scope=row>UNINFECTED</th><td>11821094 </td><td>694989236</td><td>251945960</td><td>-484316.6</td><td>282954314</td><td>33114948 </td><td>58816933 </td><td>307983545</td><td>186016347</td><td>269288893</td><td>255197031</td><td> 688067.9</td><td>114481123</td><td>3812912  </td><td> 6535964 </td></tr>\n",
       "</tbody>\n",
       "</table>\n"
      ],
      "text/latex": [
       "\\begin{tabular}{r|lllllllllllllll}\n",
       "  & X228.195\\_2.62 & X113.963\\_0.22 & X404.206\\_2.67 & X343.294\\_2.64 & X409.161\\_2.66 & X375.198\\_2.77 & X182.985\\_0.22 & X207.017\\_5.62 & X247.166\\_5.52 & X181.014\\_5.63 & X131.533\\_5.63 & X226.179\\_2.52 & X109.521\\_5.64 & X333.062\\_2.46 & X412.32\\_2.78\\\\\n",
       "\\hline\n",
       "\tINFECTED & 12977644  & 697196956 & 212903741 & -600224.6 & 265828720 & 32068787  & 63430798  & 302580318 & 189458331 & 262532039 & 251695284 & 3687762.9 & 116993451 & 4175935   & 28979427 \\\\\n",
       "\tUNINFECTED & 11821094  & 694989236 & 251945960 & -484316.6 & 282954314 & 33114948  & 58816933  & 307983545 & 186016347 & 269288893 & 255197031 &  688067.9 & 114481123 & 3812912   &  6535964 \\\\\n",
       "\\end{tabular}\n"
      ],
      "text/markdown": [
       "\n",
       "| <!--/--> | X228.195_2.62 | X113.963_0.22 | X404.206_2.67 | X343.294_2.64 | X409.161_2.66 | X375.198_2.77 | X182.985_0.22 | X207.017_5.62 | X247.166_5.52 | X181.014_5.63 | X131.533_5.63 | X226.179_2.52 | X109.521_5.64 | X333.062_2.46 | X412.32_2.78 |\n",
       "|---|---|---|---|---|---|---|---|---|---|---|---|---|---|---|---|\n",
       "| INFECTED | 12977644  | 697196956 | 212903741 | -600224.6 | 265828720 | 32068787  | 63430798  | 302580318 | 189458331 | 262532039 | 251695284 | 3687762.9 | 116993451 | 4175935   | 28979427  |\n",
       "| UNINFECTED | 11821094  | 694989236 | 251945960 | -484316.6 | 282954314 | 33114948  | 58816933  | 307983545 | 186016347 | 269288893 | 255197031 |  688067.9 | 114481123 | 3812912   |  6535964  |\n",
       "\n"
      ],
      "text/plain": [
       "           X228.195_2.62 X113.963_0.22 X404.206_2.67 X343.294_2.64\n",
       "INFECTED   12977644      697196956     212903741     -600224.6    \n",
       "UNINFECTED 11821094      694989236     251945960     -484316.6    \n",
       "           X409.161_2.66 X375.198_2.77 X182.985_0.22 X207.017_5.62\n",
       "INFECTED   265828720     32068787      63430798      302580318    \n",
       "UNINFECTED 282954314     33114948      58816933      307983545    \n",
       "           X247.166_5.52 X181.014_5.63 X131.533_5.63 X226.179_2.52\n",
       "INFECTED   189458331     262532039     251695284     3687762.9    \n",
       "UNINFECTED 186016347     269288893     255197031      688067.9    \n",
       "           X109.521_5.64 X333.062_2.46 X412.32_2.78\n",
       "INFECTED   116993451     4175935       28979427    \n",
       "UNINFECTED 114481123     3812912        6535964    "
      ]
     },
     "metadata": {},
     "output_type": "display_data"
    }
   ],
   "source": [
    "#calculate median;start from first column with numeric data (here, it's 27)\n",
    "mdn <- apply(d15[,15:ncol(d15)], 2, function(x) tapply(x, d15$Condition, function(x) median(x, na.rm=TRUE)))\n",
    "dim(mdn)\n",
    "mdn[,1:15]\n"
   ]
  },
  {
   "cell_type": "code",
   "execution_count": 6,
   "metadata": {},
   "outputs": [
    {
     "data": {
      "text/html": [
       "<dl class=dl-horizontal>\n",
       "\t<dt>X228.195_2.62</dt>\n",
       "\t\t<dd>1.09783784468725</dd>\n",
       "\t<dt>X113.963_0.22</dt>\n",
       "\t\t<dd>1.00317662531623</dd>\n",
       "\t<dt>X404.206_2.67</dt>\n",
       "\t\t<dd>0.845037329310648</dd>\n",
       "\t<dt>X343.294_2.64</dt>\n",
       "\t\t<dd>1.23932285067008</dd>\n",
       "\t<dt>X409.161_2.66</dt>\n",
       "\t\t<dd>0.939475762256152</dd>\n",
       "\t<dt>X375.198_2.77</dt>\n",
       "\t\t<dd>0.968408181258746</dd>\n",
       "</dl>\n"
      ],
      "text/latex": [
       "\\begin{description*}\n",
       "\\item[X228.195\\textbackslash{}\\_2.62] 1.09783784468725\n",
       "\\item[X113.963\\textbackslash{}\\_0.22] 1.00317662531623\n",
       "\\item[X404.206\\textbackslash{}\\_2.67] 0.845037329310648\n",
       "\\item[X343.294\\textbackslash{}\\_2.64] 1.23932285067008\n",
       "\\item[X409.161\\textbackslash{}\\_2.66] 0.939475762256152\n",
       "\\item[X375.198\\textbackslash{}\\_2.77] 0.968408181258746\n",
       "\\end{description*}\n"
      ],
      "text/markdown": [
       "X228.195_2.62\n",
       ":   1.09783784468725X113.963_0.22\n",
       ":   1.00317662531623X404.206_2.67\n",
       ":   0.845037329310648X343.294_2.64\n",
       ":   1.23932285067008X409.161_2.66\n",
       ":   0.939475762256152X375.198_2.77\n",
       ":   0.968408181258746\n",
       "\n"
      ],
      "text/plain": [
       "X228.195_2.62 X113.963_0.22 X404.206_2.67 X343.294_2.64 X409.161_2.66 \n",
       "    1.0978378     1.0031766     0.8450373     1.2393229     0.9394758 \n",
       "X375.198_2.77 \n",
       "    0.9684082 "
      ]
     },
     "metadata": {},
     "output_type": "display_data"
    },
    {
     "data": {
      "text/html": [
       "<ol class=list-inline>\n",
       "\t<li>'numeric'</li>\n",
       "\t<li>'vector'</li>\n",
       "</ol>\n"
      ],
      "text/latex": [
       "\\begin{enumerate*}\n",
       "\\item 'numeric'\n",
       "\\item 'vector'\n",
       "\\end{enumerate*}\n"
      ],
      "text/markdown": [
       "1. 'numeric'\n",
       "2. 'vector'\n",
       "\n",
       "\n"
      ],
      "text/plain": [
       "[1] \"numeric\" \"vector\" "
      ]
     },
     "metadata": {},
     "output_type": "display_data"
    }
   ],
   "source": [
    "\n",
    "fch <- apply(mdn, 2, function(x) x[1]/x[2]) #calculate fold change\n",
    "             #check it by hand\n",
    "\n",
    "head(fch) #to check it's ok\n",
    "is(fch)"
   ]
  },
  {
   "cell_type": "code",
   "execution_count": 7,
   "metadata": {},
   "outputs": [
    {
     "data": {
      "text/html": [
       "<table>\n",
       "<thead><tr><th></th><th scope=col>fch</th></tr></thead>\n",
       "<tbody>\n",
       "\t<tr><th scope=row>X228.195_2.62</th><td>1.0978378</td></tr>\n",
       "\t<tr><th scope=row>X113.963_0.22</th><td>1.0031766</td></tr>\n",
       "\t<tr><th scope=row>X404.206_2.67</th><td>0.8450373</td></tr>\n",
       "\t<tr><th scope=row>X343.294_2.64</th><td>1.2393229</td></tr>\n",
       "\t<tr><th scope=row>X409.161_2.66</th><td>0.9394758</td></tr>\n",
       "\t<tr><th scope=row>X375.198_2.77</th><td>0.9684082</td></tr>\n",
       "</tbody>\n",
       "</table>\n"
      ],
      "text/latex": [
       "\\begin{tabular}{r|l}\n",
       "  & fch\\\\\n",
       "\\hline\n",
       "\tX228.195\\_2.62 & 1.0978378\\\\\n",
       "\tX113.963\\_0.22 & 1.0031766\\\\\n",
       "\tX404.206\\_2.67 & 0.8450373\\\\\n",
       "\tX343.294\\_2.64 & 1.2393229\\\\\n",
       "\tX409.161\\_2.66 & 0.9394758\\\\\n",
       "\tX375.198\\_2.77 & 0.9684082\\\\\n",
       "\\end{tabular}\n"
      ],
      "text/markdown": [
       "\n",
       "| <!--/--> | fch |\n",
       "|---|---|\n",
       "| X228.195_2.62 | 1.0978378 |\n",
       "| X113.963_0.22 | 1.0031766 |\n",
       "| X404.206_2.67 | 0.8450373 |\n",
       "| X343.294_2.64 | 1.2393229 |\n",
       "| X409.161_2.66 | 0.9394758 |\n",
       "| X375.198_2.77 | 0.9684082 |\n",
       "\n"
      ],
      "text/plain": [
       "              fch      \n",
       "X228.195_2.62 1.0978378\n",
       "X113.963_0.22 1.0031766\n",
       "X404.206_2.67 0.8450373\n",
       "X343.294_2.64 1.2393229\n",
       "X409.161_2.66 0.9394758\n",
       "X375.198_2.77 0.9684082"
      ]
     },
     "metadata": {},
     "output_type": "display_data"
    }
   ],
   "source": [
    "df <- data.frame(fch)\n",
    "head(df)"
   ]
  },
  {
   "cell_type": "code",
   "execution_count": 8,
   "metadata": {},
   "outputs": [],
   "source": [
    "write.csv(df, \"cecum_fold_change_15.csv\")\n",
    "#repeat for each organ and sampling site"
   ]
  },
  {
   "cell_type": "code",
   "execution_count": null,
   "metadata": {},
   "outputs": [],
   "source": []
  },
  {
   "cell_type": "code",
   "execution_count": null,
   "metadata": {},
   "outputs": [],
   "source": []
  }
 ],
 "metadata": {
  "kernelspec": {
   "display_name": "R",
   "language": "R",
   "name": "ir"
  },
  "language_info": {
   "codemirror_mode": "r",
   "file_extension": ".r",
   "mimetype": "text/x-r-source",
   "name": "R",
   "pygments_lexer": "r",
   "version": "3.6.1"
  }
 },
 "nbformat": 4,
 "nbformat_minor": 4
}
